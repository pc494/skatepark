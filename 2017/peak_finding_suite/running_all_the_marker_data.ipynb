{
 "cells": [
  {
   "cell_type": "markdown",
   "metadata": {},
   "source": [
    "Trying the three alternative sources for marker data"
   ]
  },
  {
   "cell_type": "code",
   "execution_count": 2,
   "metadata": {},
   "outputs": [],
   "source": [
    "import pycrystem as pc\n",
    "\n",
    "### GaN\n",
    "dp1 = pc.load(\"/home/pc494/Documents/data/GaN_intro/GaN_indent.blo\")\n",
    "dp1 = dp1.inav[200:201,200:201]\n",
    "\n",
    "### Perov\n",
    "folder = '/home/pc494/Documents/data/pattern_matching_in_perovskites/'\n",
    "dp2 = pc.load(folder+'QD-03.blo')\n",
    "dp2 = dp2.inav[100:102,100:102]"
   ]
  },
  {
   "cell_type": "code",
   "execution_count": null,
   "metadata": {
    "collapsed": true
   },
   "outputs": [],
   "source": [
    "def function_version_1(single):\n",
    "    best_fit = single[0][1:4]\n",
    "    best_fit_pattern = library[_phase][(best_fit[0],best_fit[1],best_fit[2])]\n",
    "    peak_locations = best_fit_pattern.coordinates\n",
    "    peak_locations = _convert_to_2D(best_fit_pattern.coordinates)\n",
    "    return peak_locations\n",
    "\n",
    "def _convert_to_2D(peak_locations):\n",
    "    #if np.any(peak_locations[:,2] > 5e-2):\n",
    "    #    print(\"This will be a warning in future, but be aware that you may not be within a 2D regime\")\n",
    "    peak_locations = peak_locations[:,0:2]\n",
    "    return peak_locations"
   ]
  }
 ],
 "metadata": {
  "kernelspec": {
   "display_name": "Python 3",
   "language": "python",
   "name": "python3"
  },
  "language_info": {
   "codemirror_mode": {
    "name": "ipython",
    "version": 3
   },
   "file_extension": ".py",
   "mimetype": "text/x-python",
   "name": "python",
   "nbconvert_exporter": "python",
   "pygments_lexer": "ipython3",
   "version": "3.6.2"
  }
 },
 "nbformat": 4,
 "nbformat_minor": 2
}
