{
 "cells": [
  {
   "cell_type": "code",
   "execution_count": 1,
   "metadata": {},
   "outputs": [
    {
     "name": "stderr",
     "output_type": "stream",
     "text": [
      "WARNING:hyperspy.api:The ipywidgets GUI elements are not available, probably because the hyperspy_gui_ipywidgets package is not installed.\n",
      "WARNING:hyperspy.api:The traitsui GUI elements are not available, probably because the hyperspy_gui_traitui package is not installed.\n"
     ]
    }
   ],
   "source": [
    "import hyperspy.api as hs\n",
    "from matplotlib import pyplot as plt\n",
    "import numpy as np\n",
    "import pycrystem as pc\n",
    "import pymatgen as pmg\n",
    "from pycrystem.indexation_generator import IndexationGenerator\n",
    "\n",
    "plt.rcParams['image.cmap'] = 'gray'\n",
    "%matplotlib tk"
   ]
  },
  {
   "cell_type": "code",
   "execution_count": 2,
   "metadata": {
    "collapsed": true
   },
   "outputs": [],
   "source": [
    "dp = pc.load(\"/home/pc494/Documents/data/GaN_intro/GaN_indent.blo\")"
   ]
  },
  {
   "cell_type": "code",
   "execution_count": 3,
   "metadata": {
    "collapsed": true
   },
   "outputs": [],
   "source": [
    "dp.inav[348:400,76:78].plot()"
   ]
  },
  {
   "cell_type": "code",
   "execution_count": 4,
   "metadata": {
    "collapsed": true
   },
   "outputs": [],
   "source": [
    "dp = dp.inav[390:400,70:78] #selecting a thin strip at the top"
   ]
  },
  {
   "cell_type": "code",
   "execution_count": 5,
   "metadata": {},
   "outputs": [
    {
     "data": {
      "application/vnd.jupyter.widget-view+json": {
       "model_id": "08cb0fe07b114063a817e1cac7eca0df",
       "version_major": 2,
       "version_minor": 0
      },
      "text/plain": [
       "A Jupyter Widget"
      ]
     },
     "metadata": {},
     "output_type": "display_data"
    },
    {
     "name": "stdout",
     "output_type": "stream",
     "text": [
      "\n"
     ]
    }
   ],
   "source": [
    "dp.apply_affine_transformation(np.array([[0.99,0,0],\n",
    "                                         [0,0.69,0],\n",
    "                                         [0,0,1]]));"
   ]
  },
  {
   "cell_type": "code",
   "execution_count": 3,
   "metadata": {},
   "outputs": [
    {
     "ename": "NameError",
     "evalue": "name 'pmg' is not defined",
     "output_type": "error",
     "traceback": [
      "\u001b[0;31m---------------------------------------------------------------------------\u001b[0m",
      "\u001b[0;31mNameError\u001b[0m                                 Traceback (most recent call last)",
      "\u001b[0;32m<ipython-input-3-ef12f400c0e6>\u001b[0m in \u001b[0;36m<module>\u001b[0;34m()\u001b[0m\n\u001b[1;32m      1\u001b[0m \u001b[0;31m## Set up our structure ##\u001b[0m\u001b[0;34m\u001b[0m\u001b[0;34m\u001b[0m\u001b[0m\n\u001b[0;32m----> 2\u001b[0;31m \u001b[0mGa\u001b[0m \u001b[0;34m=\u001b[0m \u001b[0mpmg\u001b[0m\u001b[0;34m.\u001b[0m\u001b[0mElement\u001b[0m\u001b[0;34m(\u001b[0m\u001b[0;34m\"Ga\"\u001b[0m\u001b[0;34m)\u001b[0m\u001b[0;34m\u001b[0m\u001b[0m\n\u001b[0m\u001b[1;32m      3\u001b[0m \u001b[0mN\u001b[0m \u001b[0;34m=\u001b[0m \u001b[0mpmg\u001b[0m\u001b[0;34m.\u001b[0m\u001b[0mElement\u001b[0m\u001b[0;34m(\u001b[0m\u001b[0;34m\"N\"\u001b[0m\u001b[0;34m)\u001b[0m\u001b[0;34m\u001b[0m\u001b[0m\n\u001b[1;32m      4\u001b[0m \u001b[0mlattice\u001b[0m \u001b[0;34m=\u001b[0m \u001b[0mpmg\u001b[0m\u001b[0;34m.\u001b[0m\u001b[0mLattice\u001b[0m\u001b[0;34m.\u001b[0m\u001b[0mhexagonal\u001b[0m\u001b[0;34m(\u001b[0m\u001b[0;36m3.186\u001b[0m\u001b[0;34m,\u001b[0m\u001b[0;36m5.186\u001b[0m\u001b[0;34m)\u001b[0m\u001b[0;34m\u001b[0m\u001b[0m\n\u001b[1;32m      5\u001b[0m \u001b[0mstructure\u001b[0m \u001b[0;34m=\u001b[0m \u001b[0mpmg\u001b[0m\u001b[0;34m.\u001b[0m\u001b[0mStructure\u001b[0m\u001b[0;34m.\u001b[0m\u001b[0mfrom_spacegroup\u001b[0m\u001b[0;34m(\u001b[0m\u001b[0;34m\"P63mc\"\u001b[0m\u001b[0;34m,\u001b[0m\u001b[0mlattice\u001b[0m\u001b[0;34m,\u001b[0m \u001b[0;34m[\u001b[0m\u001b[0mGa\u001b[0m\u001b[0;34m,\u001b[0m\u001b[0mN\u001b[0m\u001b[0;34m]\u001b[0m\u001b[0;34m,\u001b[0m \u001b[0;34m[\u001b[0m\u001b[0;34m[\u001b[0m\u001b[0;36m0\u001b[0m\u001b[0;34m,\u001b[0m \u001b[0;36m0\u001b[0m\u001b[0;34m,\u001b[0m \u001b[0;36m0\u001b[0m\u001b[0;34m]\u001b[0m\u001b[0;34m,\u001b[0m\u001b[0;34m[\u001b[0m\u001b[0;36m0.5\u001b[0m\u001b[0;34m,\u001b[0m\u001b[0;36m0.5\u001b[0m\u001b[0;34m,\u001b[0m\u001b[0;36m0.5\u001b[0m\u001b[0;34m]\u001b[0m\u001b[0;34m]\u001b[0m\u001b[0;34m)\u001b[0m\u001b[0;34m\u001b[0m\u001b[0m\n",
      "\u001b[0;31mNameError\u001b[0m: name 'pmg' is not defined"
     ]
    }
   ],
   "source": [
    "## Set up our structure ##\n",
    "Ga = pmg.Element(\"Ga\")\n",
    "N = pmg.Element(\"N\")\n",
    "lattice = pmg.Lattice.hexagonal(3.186,5.186)\n",
    "structure = pmg.Structure.from_spacegroup(\"P63mc\",lattice, [Ga,N], [[0, 0, 0],[0.5,0.5,0.5]])"
   ]
  },
  {
   "cell_type": "code",
   "execution_count": 7,
   "metadata": {
    "collapsed": true
   },
   "outputs": [],
   "source": [
    "folder = '/home/pc494/Documents/data/pattern_matching_in_perovskites/'\n",
    "rot_array = np.loadtxt(folder + 'mmm_grid_euler.bin')\n",
    "rot_list = rot_array.tolist()[::10] #taking every 10th rotation option\n",
    "edc = pc.ElectronDiffractionCalculator(300, 0.025)\n",
    "diff_gen = pc.DiffractionLibraryGenerator(edc)\n",
    "struc_lib = dict()\n",
    "struc_lib[\"GaN\"] = (structure, rot_list)"
   ]
  },
  {
   "cell_type": "code",
   "execution_count": 8,
   "metadata": {},
   "outputs": [
    {
     "name": "stderr",
     "output_type": "stream",
     "text": [
      "                                                    \r"
     ]
    }
   ],
   "source": [
    "library = diff_gen.get_diffraction_library(struc_lib,\n",
    "                                            calibration=1.2/128,\n",
    "                                            reciprocal_radius=1.,\n",
    "                                            representation='euler')"
   ]
  },
  {
   "cell_type": "code",
   "execution_count": 9,
   "metadata": {},
   "outputs": [
    {
     "data": {
      "application/vnd.jupyter.widget-view+json": {
       "model_id": "3d95b907004646fd97e4ef8d3403c7a6",
       "version_major": 2,
       "version_minor": 0
      },
      "text/plain": [
       "A Jupyter Widget"
      ]
     },
     "metadata": {},
     "output_type": "display_data"
    },
    {
     "name": "stderr",
     "output_type": "stream",
     "text": [
      "/home/pc494/anaconda3/lib/python3.6/site-packages/pycrystem-0.4-py3.6-linux-x86_64.egg/pycrystem/utils/__init__.py:118: RuntimeWarning: invalid value encountered in double_scalars\n",
      "  np.sqrt(np.dot(intensities_2, intensities_2))\n"
     ]
    }
   ],
   "source": [
    "indexer = IndexationGenerator(dp, library)\n",
    "match_results = indexer.correlate(n_largest=1)"
   ]
  },
  {
   "cell_type": "code",
   "execution_count": 10,
   "metadata": {
    "collapsed": true
   },
   "outputs": [],
   "source": [
    "match_results.plot()"
   ]
  },
  {
   "cell_type": "code",
   "execution_count": 10,
   "metadata": {
    "collapsed": true
   },
   "outputs": [],
   "source": [
    "def _convert_to_2D(peak_locations):\n",
    "    #if np.any(peak_locations[:,2] > 5e-2):\n",
    "    #    print(\"This will be a warning in future, but be aware that you may not be within a 2D regime\")\n",
    "    peak_locations = peak_locations[:,0:2]\n",
    "    return peak_locations"
   ]
  },
  {
   "cell_type": "code",
   "execution_count": 11,
   "metadata": {
    "collapsed": true
   },
   "outputs": [],
   "source": [
    "def function_version_1(single):\n",
    "    best_fit = single[0][1:4]\n",
    "    best_fit_pattern = library[_phase][(best_fit[0],best_fit[1],best_fit[2])]\n",
    "    peak_locations = best_fit_pattern.coordinates\n",
    "    peak_locations = _convert_to_2D(best_fit_pattern.coordinates)\n",
    "    return peak_locations"
   ]
  },
  {
   "cell_type": "code",
   "execution_count": 12,
   "metadata": {
    "collapsed": true
   },
   "outputs": [],
   "source": [
    "_phase = \"GaN\"\n",
    "found_peaks = match_results.map(function_version_1,inplace=False,show_progressbar=False)"
   ]
  },
  {
   "cell_type": "code",
   "execution_count": 13,
   "metadata": {
    "collapsed": true
   },
   "outputs": [],
   "source": [
    "from pycrystem.diffraction_vectors import DiffractionVectors\n",
    "found_peaks = DiffractionVectors(found_peaks)\n",
    "found_peaks.axes_manager.set_signal_dimension(0)"
   ]
  },
  {
   "cell_type": "code",
   "execution_count": null,
   "metadata": {
    "collapsed": true
   },
   "outputs": [],
   "source": [
    "from pycrystem.utils import plot as pcplt\n",
    "\n",
    "mmx,mmy = pcplt.generate_marker_inputs_from_peaks(found_peaks)"
   ]
  },
  {
   "cell_type": "code",
   "execution_count": 15,
   "metadata": {},
   "outputs": [
    {
     "data": {
      "text/plain": [
       "(4, 10, 8)"
      ]
     },
     "execution_count": 15,
     "metadata": {},
     "output_type": "execute_result"
    }
   ],
   "source": [
    "mmx.shape"
   ]
  },
  {
   "cell_type": "code",
   "execution_count": 17,
   "metadata": {},
   "outputs": [
    {
     "name": "stderr",
     "output_type": "stream",
     "text": [
      "Exception occurred in traits notification handler for object: x axis, trait: index, old value: 7, new value: 8\n",
      "Traceback (most recent call last):\n",
      "  File \"/home/pc494/anaconda3/lib/python3.6/site-packages/traits/trait_notifiers.py\", line 519, in _dispatch_change_event\n",
      "    self.dispatch( handler, *args )\n",
      "  File \"/home/pc494/anaconda3/lib/python3.6/site-packages/traits/trait_notifiers.py\", line 482, in dispatch\n",
      "    handler( *args )\n",
      "  File \"/home/pc494/anaconda3/lib/python3.6/site-packages/hyperspy/axes.py\", line 810, in _on_index_changed\n",
      "    self.events.indices_changed.trigger(obj=self)\n",
      "  File \"<string>\", line 4, in trigger\n",
      "  File \"/home/pc494/anaconda3/lib/python3.6/site-packages/hyperspy/events.py\", line 402, in trigger\n",
      "    function(**{kw: kwargs.get(kw, None) for kw in kwsl})\n",
      "  File \"/home/pc494/anaconda3/lib/python3.6/site-packages/hyperspy/drawing/image.py\", line 311, in update\n",
      "    marker.update()\n",
      "  File \"/home/pc494/anaconda3/lib/python3.6/site-packages/hyperspy/drawing/_markers/point.py\", line 91, in update\n",
      "    self.marker.set_offsets([self.get_data_position('x1'),\n",
      "  File \"/home/pc494/anaconda3/lib/python3.6/site-packages/hyperspy/drawing/marker.py\", line 170, in get_data_position\n",
      "    return data[ind].item()[indices]\n",
      "IndexError: index 8 is out of bounds for axis 1 with size 8\n",
      "ERROR:traits:Exception occurred in traits notification handler for object: x axis, trait: index, old value: 7, new value: 8\n",
      "Traceback (most recent call last):\n",
      "  File \"/home/pc494/anaconda3/lib/python3.6/site-packages/traits/trait_notifiers.py\", line 519, in _dispatch_change_event\n",
      "    self.dispatch( handler, *args )\n",
      "  File \"/home/pc494/anaconda3/lib/python3.6/site-packages/traits/trait_notifiers.py\", line 482, in dispatch\n",
      "    handler( *args )\n",
      "  File \"/home/pc494/anaconda3/lib/python3.6/site-packages/hyperspy/axes.py\", line 810, in _on_index_changed\n",
      "    self.events.indices_changed.trigger(obj=self)\n",
      "  File \"<string>\", line 4, in trigger\n",
      "  File \"/home/pc494/anaconda3/lib/python3.6/site-packages/hyperspy/events.py\", line 402, in trigger\n",
      "    function(**{kw: kwargs.get(kw, None) for kw in kwsl})\n",
      "  File \"/home/pc494/anaconda3/lib/python3.6/site-packages/hyperspy/drawing/image.py\", line 311, in update\n",
      "    marker.update()\n",
      "  File \"/home/pc494/anaconda3/lib/python3.6/site-packages/hyperspy/drawing/_markers/point.py\", line 91, in update\n",
      "    self.marker.set_offsets([self.get_data_position('x1'),\n",
      "  File \"/home/pc494/anaconda3/lib/python3.6/site-packages/hyperspy/drawing/marker.py\", line 170, in get_data_position\n",
      "    return data[ind].item()[indices]\n",
      "IndexError: index 8 is out of bounds for axis 1 with size 8\n"
     ]
    }
   ],
   "source": [
    "dp.plot(cmap='viridis') \n",
    "for mx,my in zip(mmx,mmy):\n",
    "    m = hs.markers.point(x=mx,y=my,color='red',marker='x')\n",
    "    dp.add_marker(m,plot_marker=True,permanent=True)"
   ]
  },
  {
   "cell_type": "code",
   "execution_count": 39,
   "metadata": {},
   "outputs": [
    {
     "name": "stdout",
     "output_type": "stream",
     "text": [
      "(4, 152, 1)\n",
      "(152, 1)\n"
     ]
    }
   ],
   "source": [
    "mmx = np.transpose(mmx,[0,2,1])\n",
    "print(mmx.shape)\n",
    "for mx in mmx:\n",
    "    print(mx.shape)\n",
    "    break"
   ]
  },
  {
   "cell_type": "code",
   "execution_count": 31,
   "metadata": {},
   "outputs": [
    {
     "data": {
      "text/plain": [
       "(4, 1, 152)"
      ]
     },
     "execution_count": 31,
     "metadata": {},
     "output_type": "execute_result"
    }
   ],
   "source": [
    "mmx.shape"
   ]
  },
  {
   "cell_type": "code",
   "execution_count": 33,
   "metadata": {},
   "outputs": [
    {
     "data": {
      "text/plain": [
       "(1, 152, 4)"
      ]
     },
     "execution_count": 33,
     "metadata": {},
     "output_type": "execute_result"
    }
   ],
   "source": []
  },
  {
   "cell_type": "code",
   "execution_count": null,
   "metadata": {
    "collapsed": true
   },
   "outputs": [],
   "source": []
  }
 ],
 "metadata": {
  "kernelspec": {
   "display_name": "Python 3",
   "language": "python",
   "name": "python3"
  },
  "language_info": {
   "codemirror_mode": {
    "name": "ipython",
    "version": 3
   },
   "file_extension": ".py",
   "mimetype": "text/x-python",
   "name": "python",
   "nbconvert_exporter": "python",
   "pygments_lexer": "ipython3",
   "version": "3.6.2"
  }
 },
 "nbformat": 4,
 "nbformat_minor": 2
}
