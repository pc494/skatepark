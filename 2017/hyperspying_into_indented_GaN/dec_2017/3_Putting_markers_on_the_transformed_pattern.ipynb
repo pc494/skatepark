{
 "cells": [
  {
   "cell_type": "code",
   "execution_count": 1,
   "metadata": {},
   "outputs": [
    {
     "name": "stderr",
     "output_type": "stream",
     "text": [
      "WARNING:hyperspy.api:The ipywidgets GUI elements are not available, probably because the hyperspy_gui_ipywidgets package is not installed.\n",
      "WARNING:hyperspy.api:The traitsui GUI elements are not available, probably because the hyperspy_gui_traitui package is not installed.\n"
     ]
    }
   ],
   "source": [
    "import hyperspy.api as hs\n",
    "from matplotlib import pyplot as plt\n",
    "import numpy as np\n",
    "import pycrystem as pc\n",
    "plt.rcParams['image.cmap'] = 'gray'\n",
    "%matplotlib tk"
   ]
  },
  {
   "cell_type": "code",
   "execution_count": 11,
   "metadata": {},
   "outputs": [
    {
     "name": "stdout",
     "output_type": "stream",
     "text": [
      "CPU times: user 0 ns, sys: 860 ms, total: 860 ms\n",
      "Wall time: 857 ms\n"
     ]
    }
   ],
   "source": [
    "%%time\n",
    "dp = pc.load(\"/home/pc494/Documents/data/GaN_intro/GaN_indent.blo\")"
   ]
  },
  {
   "cell_type": "code",
   "execution_count": 12,
   "metadata": {
    "collapsed": true
   },
   "outputs": [],
   "source": [
    "dp = dp.inav[0:25,475:500] ## small to start"
   ]
  },
  {
   "cell_type": "code",
   "execution_count": 13,
   "metadata": {},
   "outputs": [
    {
     "data": {
      "application/vnd.jupyter.widget-view+json": {
       "model_id": "8af860c9eddf4f74a077e99c1480b681",
       "version_major": 2,
       "version_minor": 0
      },
      "text/plain": [
       "A Jupyter Widget"
      ]
     },
     "metadata": {},
     "output_type": "display_data"
    },
    {
     "name": "stdout",
     "output_type": "stream",
     "text": [
      "\n"
     ]
    }
   ],
   "source": [
    "dp.apply_affine_transformation(np.array([[0.99,0,0],\n",
    "                                         [0,0.69,0],\n",
    "                                         [0,0,1]]));"
   ]
  },
  {
   "cell_type": "code",
   "execution_count": 14,
   "metadata": {},
   "outputs": [
    {
     "data": {
      "application/vnd.jupyter.widget-view+json": {
       "model_id": "137894cb35df4295ab271bd7f4010b8a",
       "version_major": 2,
       "version_minor": 0
      },
      "text/plain": [
       "A Jupyter Widget"
      ]
     },
     "metadata": {},
     "output_type": "display_data"
    },
    {
     "name": "stderr",
     "output_type": "stream",
     "text": [
      "WARNING:hyperspy.signal:The function you applied does not take into account the difference of units and of scales in-between axes.\n"
     ]
    },
    {
     "name": "stdout",
     "output_type": "stream",
     "text": [
      "\n"
     ]
    },
    {
     "data": {
      "application/vnd.jupyter.widget-view+json": {
       "model_id": "1b4411961e264181be225cecf9d747b0",
       "version_major": 2,
       "version_minor": 0
      },
      "text/plain": [
       "A Jupyter Widget"
      ]
     },
     "metadata": {},
     "output_type": "display_data"
    },
    {
     "name": "stdout",
     "output_type": "stream",
     "text": [
      "\n"
     ]
    }
   ],
   "source": [
    "peaks = dp.find_peaks('max')\n",
    "## stat is weird and slow"
   ]
  },
  {
   "cell_type": "code",
   "execution_count": 15,
   "metadata": {},
   "outputs": [
    {
     "name": "stdout",
     "output_type": "stream",
     "text": [
      "<ElectronDiffraction, title: , dimensions: (25, 25|144, 144)>\n",
      "<DiffractionVectors, title: , dimensions: (25, 25|)>\n"
     ]
    }
   ],
   "source": [
    "print(dp)\n",
    "print(peaks)"
   ]
  },
  {
   "cell_type": "code",
   "execution_count": 16,
   "metadata": {
    "collapsed": true
   },
   "outputs": [],
   "source": [
    "if dp.axes_manager.signal_shape[0] == dp.axes_manager.signal_shape[1]:\n",
    "    peaks.data = peaks.data + (dp.axes_manager.signal_shape[0])/2 * 0.0076034063260340635\n",
    "else:\n",
    "    raise NotImplementedError('Needs a square signal')"
   ]
  },
  {
   "cell_type": "code",
   "execution_count": 8,
   "metadata": {
    "collapsed": true
   },
   "outputs": [],
   "source": [
    "def find_max_length_peaks(peaks):\n",
    "    x_size,y_size = peaks.axes_manager.navigation_shape[0],peaks.axes_manager.navigation_shape[1]\n",
    "    length_of_longest_peaks_list = 0\n",
    "    for x in np.arange(0,x_size):\n",
    "            for y in np.arange(0,y_size):\n",
    "                if peaks.data[x,y].shape[0] > length_of_longest_peaks_list:\n",
    "                    length_of_longest_peaks_list = peaks.data[x,y].shape[0]\n",
    "    return length_of_longest_peaks_list      "
   ]
  },
  {
   "cell_type": "code",
   "execution_count": 17,
   "metadata": {
    "collapsed": true
   },
   "outputs": [],
   "source": [
    "## This is slow and needs to be vectorised\n",
    "### Annoyingly I couldn't get it profiled\n",
    "\n",
    "def generate_markers_from_peaks(peaks):\n",
    "    markx,marky = [],[]\n",
    "    x_size,y_size = peaks.axes_manager.navigation_shape[0],peaks.axes_manager.navigation_shape[1]\n",
    "    max_peak_count = find_max_length_peaks(peaks)\n",
    "    for k in np.arange(0,max_peak_count):\n",
    "        mx,my = [],[]\n",
    "        for x in np.arange(0,x_size):\n",
    "            for y in np.arange(0,y_size):\n",
    "                try:\n",
    "                    mx.append(peaks.inav[x,y].data[k][1])\n",
    "                    my.append(peaks.inav[x,y].data[k][0])\n",
    "                except IndexError: #we have fewer than 'max_peak_count' peaks, so no marker\n",
    "                    mx.append(np.nan)\n",
    "                    my.append(np.nan)\n",
    "        markx.append(np.asarray(mx).reshape(x_size,y_size).T)\n",
    "        marky.append(np.asarray(my).reshape(x_size,y_size).T)\n",
    "    \n",
    "    return markx,marky "
   ]
  },
  {
   "cell_type": "code",
   "execution_count": 146,
   "metadata": {
    "collapsed": true
   },
   "outputs": [],
   "source": [
    "def generate_markers_from_peaks_vect(peaks):\n",
    "    max_peak_count = find_max_length_peaks(peaks)\n",
    "    x_size,y_size = peaks.axes_manager.navigation_shape[0],peaks.axes_manager.navigation_shape[1]\n",
    "    markx,marky = [],[]\n",
    "    for k in np.arange(0,max_peak_count):\n",
    "        mx,my = np.empty([x_size,y_size]),np.empty([x_size,y_size]) #to be consistent with unvect\n",
    "        for x in np.arange(0,x_size):\n",
    "            for y in np.arange(0,y_size):\n",
    "                try:\n",
    "                    mx[x,y] = (peaks.inav[x,y].data[k][1])\n",
    "                    my[x,y] = (peaks.inav[x,y].data[k][0])\n",
    "                except IndexError: #we have fewer than 'max_peak_count' peaks, so no marker\n",
    "                    mx[x,y] = (np.nan)\n",
    "                    my[x,y] = (np.nan)\n",
    "                \n",
    "        markx.append(mx.T)\n",
    "        marky.append(my.T)\n",
    "    \n",
    "    return markx,marky "
   ]
  },
  {
   "cell_type": "code",
   "execution_count": 147,
   "metadata": {},
   "outputs": [
    {
     "name": "stdout",
     "output_type": "stream",
     "text": [
      "CPU times: user 14.9 s, sys: 20 ms, total: 14.9 s\n",
      "Wall time: 14.8 s\n"
     ]
    }
   ],
   "source": [
    "%%time\n",
    "markx,marky = generate_markers_from_peaks(peaks) #quarter second per 144x144 pattern"
   ]
  },
  {
   "cell_type": "code",
   "execution_count": 19,
   "metadata": {
    "collapsed": true
   },
   "outputs": [],
   "source": [
    "%lprun?"
   ]
  },
  {
   "cell_type": "code",
   "execution_count": 105,
   "metadata": {},
   "outputs": [
    {
     "name": "stdout",
     "output_type": "stream",
     "text": [
      "CPU times: user 2.62 s, sys: 20 ms, total: 2.64 s\n",
      "Wall time: 2.54 s\n"
     ]
    }
   ],
   "source": [
    "%%time\n",
    "#markxv,markyv = generate_markers_from_peaks_vect(peaks)"
   ]
  },
  {
   "cell_type": "code",
   "execution_count": 116,
   "metadata": {
    "collapsed": true
   },
   "outputs": [],
   "source": []
  },
  {
   "cell_type": "markdown",
   "metadata": {},
   "source": [
    "We can try and do this in a more hyperspy-like way though"
   ]
  }
 ],
 "metadata": {
  "kernelspec": {
   "display_name": "Python 3",
   "language": "python",
   "name": "python3"
  },
  "language_info": {
   "codemirror_mode": {
    "name": "ipython",
    "version": 3
   },
   "file_extension": ".py",
   "mimetype": "text/x-python",
   "name": "python",
   "nbconvert_exporter": "python",
   "pygments_lexer": "ipython3",
   "version": "3.6.2"
  }
 },
 "nbformat": 4,
 "nbformat_minor": 2
}
