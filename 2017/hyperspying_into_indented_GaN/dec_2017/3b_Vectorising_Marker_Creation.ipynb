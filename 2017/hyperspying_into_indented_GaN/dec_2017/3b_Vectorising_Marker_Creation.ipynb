{
 "cells": [
  {
   "cell_type": "code",
   "execution_count": 24,
   "metadata": {},
   "outputs": [],
   "source": [
    "import hyperspy.api as hs\n",
    "from matplotlib import pyplot as plt\n",
    "import numpy as np\n",
    "import pycrystem as pc\n",
    "import itertools\n",
    "plt.rcParams['image.cmap'] = 'gray'\n",
    "%matplotlib tk"
   ]
  },
  {
   "cell_type": "code",
   "execution_count": 34,
   "metadata": {},
   "outputs": [],
   "source": [
    "dp = pc.load(\"/home/pc494/Documents/data/GaN_intro/GaN_indent.blo\")"
   ]
  },
  {
   "cell_type": "code",
   "execution_count": 35,
   "metadata": {},
   "outputs": [
    {
     "data": {
      "application/vnd.jupyter.widget-view+json": {
       "model_id": "72ef80aaaf35475295cd1cae4c95d87a",
       "version_major": 2,
       "version_minor": 0
      },
      "text/plain": [
       "A Jupyter Widget"
      ]
     },
     "metadata": {},
     "output_type": "display_data"
    },
    {
     "name": "stdout",
     "output_type": "stream",
     "text": [
      "\n"
     ]
    },
    {
     "data": {
      "application/vnd.jupyter.widget-view+json": {
       "model_id": "35bca7c4971c42fdb071010b3db96a0c",
       "version_major": 2,
       "version_minor": 0
      },
      "text/plain": [
       "A Jupyter Widget"
      ]
     },
     "metadata": {},
     "output_type": "display_data"
    },
    {
     "name": "stderr",
     "output_type": "stream",
     "text": [
      "WARNING:hyperspy.signal:The function you applied does not take into account the difference of units and of scales in-between axes.\n"
     ]
    },
    {
     "name": "stdout",
     "output_type": "stream",
     "text": [
      "\n"
     ]
    },
    {
     "data": {
      "application/vnd.jupyter.widget-view+json": {
       "model_id": "e7cc3c9a7e304cf3a8954a188cd2d115",
       "version_major": 2,
       "version_minor": 0
      },
      "text/plain": [
       "A Jupyter Widget"
      ]
     },
     "metadata": {},
     "output_type": "display_data"
    },
    {
     "name": "stdout",
     "output_type": "stream",
     "text": [
      "\n"
     ]
    }
   ],
   "source": [
    "dp = dp.inav[0:25,475:500]\n",
    "dp.apply_affine_transformation(np.array([[0.99,0,0],\n",
    "                                         [0,0.69,0],\n",
    "                                         [0,0,1]]));\n",
    "peaks = dp.find_peaks('zaefferer')\n",
    "#This hangs if you run it in a series of cells sometimes?!"
   ]
  },
  {
   "cell_type": "code",
   "execution_count": 36,
   "metadata": {
    "collapsed": true
   },
   "outputs": [],
   "source": [
    "if dp.axes_manager.signal_shape[0] == dp.axes_manager.signal_shape[1]:\n",
    "    peaks.data = peaks.data + (dp.axes_manager.signal_shape[0])/2 * 0.0076034063260340635\n",
    "else:\n",
    "    raise NotImplementedError('Needs a square signal')"
   ]
  },
  {
   "cell_type": "code",
   "execution_count": 37,
   "metadata": {
    "collapsed": true
   },
   "outputs": [],
   "source": [
    "def find_max_length_peaks(peaks):\n",
    "    x_size,y_size = peaks.axes_manager.navigation_shape[0],peaks.axes_manager.navigation_shape[1]\n",
    "    length_of_longest_peaks_list = 0\n",
    "    for x in np.arange(0,x_size):\n",
    "            for y in np.arange(0,y_size):\n",
    "                if peaks.data[x,y].shape[0] > length_of_longest_peaks_list:\n",
    "                    length_of_longest_peaks_list = peaks.data[x,y].shape[0]\n",
    "    return length_of_longest_peaks_list      "
   ]
  },
  {
   "cell_type": "code",
   "execution_count": 29,
   "metadata": {
    "collapsed": true
   },
   "outputs": [],
   "source": [
    "## This is slow and needs to be vectorised\n",
    "\n",
    "def generate_markers_from_peaks(peaks):\n",
    "    markx,marky = [],[]\n",
    "    x_size,y_size = peaks.axes_manager.navigation_shape[0],peaks.axes_manager.navigation_shape[1]\n",
    "    max_peak_count = find_max_length_peaks(peaks)\n",
    "    for k in np.arange(0,max_peak_count):\n",
    "        mx,my = [],[]\n",
    "        for x in np.arange(0,x_size):\n",
    "            for y in np.arange(0,y_size):\n",
    "                try:\n",
    "                    mx.append(peaks.inav[x,y].data[k][1])\n",
    "                    my.append(peaks.inav[x,y].data[k][0])\n",
    "                except IndexError: #we have fewer than 'max_peak_count' peaks, so no marker\n",
    "                    mx.append(np.nan)\n",
    "                    my.append(np.nan)\n",
    "        markx.append(np.asarray(mx).reshape(x_size,y_size).T)\n",
    "        marky.append(np.asarray(my).reshape(x_size,y_size).T)\n",
    "    \n",
    "    return markx,marky \n",
    "\n",
    "markx,marky = generate_markers_from_peaks(peaks)"
   ]
  },
  {
   "cell_type": "markdown",
   "metadata": {},
   "source": [
    "Base Time is 15 seconds"
   ]
  },
  {
   "cell_type": "code",
   "execution_count": 40,
   "metadata": {},
   "outputs": [],
   "source": [
    "markxT = [None] * find_max_length_peaks(peaks)\n",
    "markyT = [None] * find_max_length_peaks(peaks)\n",
    "\n",
    "a = np.array(list(itertools.zip_longest(*np.concatenate(peaks.data),fillvalue=[np.nan,np.nan])))\n",
    "a = a.reshape(len(markxT),25,25,2) #getting the 2D nav back\n",
    "xy = np.transpose(a,[3,0,1,2]) #switching for selection\n",
    "x = xy[1]\n",
    "y = xy[0]\n",
    "for cnt in np.arange(len(markxT)):\n",
    "    markxT[cnt] = x[cnt]\n",
    "    markyT[cnt] = y[cnt]"
   ]
  },
  {
   "cell_type": "code",
   "execution_count": 41,
   "metadata": {},
   "outputs": [],
   "source": [
    "dp.plot() #the requirement to include this is a bug.\n",
    "\n",
    "#for mx,my in zip(markx,marky):\n",
    "#    m = hs.markers.point(x=mx,y=my,color='gold',marker='o')\n",
    "#    dp.add_marker(m,plot_marker=True,permanent=False)\n",
    "for mx,my in zip(markxT,markyT):\n",
    "    m = hs.markers.point(x=mx,y=my,color='gold',marker='x')\n",
    "    dp.add_marker(m,plot_marker=True,permanent=False)"
   ]
  },
  {
   "cell_type": "code",
   "execution_count": null,
   "metadata": {
    "collapsed": true
   },
   "outputs": [],
   "source": [
    "## Profile this,\n",
    "## Then figure out how to get it into pycrystem\n",
    "## Then do that, and tidy up the other stuff you've done en-route"
   ]
  },
  {
   "cell_type": "code",
   "execution_count": null,
   "metadata": {
    "collapsed": true
   },
   "outputs": [],
   "source": [
    "import itertools\n",
    "\n",
    "ll = [[1, 2, 3], [1, 2]]\n",
    "np.array(list(itertools.zip_longest(*ll,fillvalue=np.nan))).T"
   ]
  },
  {
   "cell_type": "code",
   "execution_count": null,
   "metadata": {
    "collapsed": true
   },
   "outputs": [],
   "source": [
    "alpha = np.arange(1,5).reshape(2,2)\n",
    "beta = np.concatenate(alpha).reshape(2,2)\n",
    "alpha == beta"
   ]
  },
  {
   "cell_type": "raw",
   "metadata": {},
   "source": [
    "Markx needs to be:\n",
    "    A list\n",
    "        Of arrays\n",
    "            Of arrays\n",
    "                Of x-cords"
   ]
  },
  {
   "cell_type": "raw",
   "metadata": {},
   "source": [
    "peaks is:\n",
    "    2 Navigations Dimensions \n",
    "        An array of \n",
    "            Pairs of points (array)\n",
    "    "
   ]
  }
 ],
 "metadata": {
  "kernelspec": {
   "display_name": "Python 3",
   "language": "python",
   "name": "python3"
  },
  "language_info": {
   "codemirror_mode": {
    "name": "ipython",
    "version": 3
   },
   "file_extension": ".py",
   "mimetype": "text/x-python",
   "name": "python",
   "nbconvert_exporter": "python",
   "pygments_lexer": "ipython3",
   "version": "3.6.2"
  }
 },
 "nbformat": 4,
 "nbformat_minor": 2
}
