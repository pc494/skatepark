{
 "cells": [
  {
   "cell_type": "markdown",
   "metadata": {},
   "source": [
    "This notebook aims to act as as a self contained test of the rotation suite. It runs off pc494/pycrystem master branch. Some stuff has been bundled together to make it a shorter document."
   ]
  },
  {
   "cell_type": "code",
   "execution_count": 1,
   "metadata": {},
   "outputs": [
    {
     "name": "stderr",
     "output_type": "stream",
     "text": [
      "WARNING:hyperspy.api:The ipywidgets GUI elements are not available, probably because the hyperspy_gui_ipywidgets package is not installed.\n",
      "WARNING:hyperspy.api:The traitsui GUI elements are not available, probably because the hyperspy_gui_traitui package is not installed.\n"
     ]
    }
   ],
   "source": [
    "%matplotlib tk\n",
    "import numpy as np\n",
    "import hyperspy.api as hs\n",
    "import pycrystem as pc\n",
    "import pymatgen as pmg\n",
    "from matplotlib import pyplot as plt\n",
    "from pymatgen.transformations.standard_transformations import RotationTransformation\n",
    "from pycrystem.indexation_generator import IndexationGenerator\n",
    "from pycrystem.utils.expt_utils import radial_average\n",
    "from scipy.constants import pi"
   ]
  },
  {
   "cell_type": "markdown",
   "metadata": {},
   "source": [
    "<center><h1> I - Create the \"Experimental\" Patterns </h1></center>"
   ]
  },
  {
   "cell_type": "code",
   "execution_count": 2,
   "metadata": {
    "collapsed": true
   },
   "outputs": [],
   "source": [
    "si = pmg.Element(\"Si\")\n",
    "lattice = pmg.Lattice.cubic(5.431)\n",
    "silicon = pmg.Structure.from_spacegroup(\"Fd-3m\",lattice, [si], [[0, 0, 0]])"
   ]
  },
  {
   "cell_type": "code",
   "execution_count": 3,
   "metadata": {
    "collapsed": true
   },
   "outputs": [],
   "source": [
    "size = 256\n",
    "radius=1.5\n",
    "ediff = pc.ElectronDiffractionCalculator(300., 0.025)\n",
    "\n",
    "rotaxis,thetas = [0, 0, 1],np.arange(0, 20, 1)\n",
    "data_silicon = []\n",
    "for theta in thetas:\n",
    "    sieg = RotationTransformation(rotaxis, theta).apply_transformation(silicon)\n",
    "    dpi = ediff.calculate_ed_data(sieg, radius).as_signal(256, 0.03, 1.2)\n",
    "    data_silicon.append(dpi.data)\n",
    "    \n",
    "data = [data_silicon]*20\n",
    "test_data = pc.ElectronDiffraction(data)\n",
    "test_data.set_calibration(1.2/128)"
   ]
  },
  {
   "cell_type": "code",
   "execution_count": 4,
   "metadata": {
    "collapsed": true
   },
   "outputs": [],
   "source": [
    "test_data.plot()"
   ]
  },
  {
   "cell_type": "markdown",
   "metadata": {},
   "source": [
    "<center><h1> II - Create the template Library </h1></center>"
   ]
  },
  {
   "cell_type": "code",
   "execution_count": 5,
   "metadata": {
    "collapsed": true
   },
   "outputs": [],
   "source": [
    "rot_list = []\n",
    "nstep=119\n",
    "#np.linspace(0)\n",
    "for i in np.arange(nstep):\n",
    "    theta = (i*59.5/(nstep-1))/180*pi\n",
    "    rot_list.append((theta, 0., 0.))"
   ]
  },
  {
   "cell_type": "code",
   "execution_count": 6,
   "metadata": {},
   "outputs": [
    {
     "name": "stderr",
     "output_type": "stream",
     "text": [
      "                                                 \r"
     ]
    }
   ],
   "source": [
    "edc = pc.ElectronDiffractionCalculator(300, 0.025)\n",
    "diff_gen = pc.DiffractionLibraryGenerator(edc)\n",
    "struc_lib = dict()\n",
    "struc_lib['si'] = (silicon, rot_list)\n",
    "library = diff_gen.get_diffraction_library(struc_lib,\n",
    "                                            calibration=1.2/128,\n",
    "                                            reciprocal_radius=1.5,\n",
    "                                            representation='euler')"
   ]
  },
  {
   "cell_type": "markdown",
   "metadata": {},
   "source": [
    "<center><h3> And the (slowest) correct answer </h3></center>"
   ]
  },
  {
   "cell_type": "code",
   "execution_count": 7,
   "metadata": {},
   "outputs": [
    {
     "data": {
      "application/vnd.jupyter.widget-view+json": {
       "model_id": "607899490efe4080a83da60e385cc463",
       "version_major": 2,
       "version_minor": 0
      },
      "text/plain": [
       "A Jupyter Widget"
      ]
     },
     "metadata": {},
     "output_type": "display_data"
    },
    {
     "name": "stdout",
     "output_type": "stream",
     "text": [
      "\r",
      "          \r",
      "400/|/100%|| 400/400 [00:30<00:00, 26.48it/s]"
     ]
    }
   ],
   "source": [
    "### Ground Truth\n",
    "indexer = IndexationGenerator(test_data, library)\n",
    "match_results = indexer.correlate()"
   ]
  },
  {
   "cell_type": "code",
   "execution_count": 8,
   "metadata": {},
   "outputs": [
    {
     "data": {
      "text/plain": [
       "<MatchingResults, title: , dimensions: (20, 20|5, 5)>"
      ]
     },
     "execution_count": 8,
     "metadata": {},
     "output_type": "execute_result"
    }
   ],
   "source": [
    "match_results"
   ]
  },
  {
   "cell_type": "code",
   "execution_count": 9,
   "metadata": {},
   "outputs": [],
   "source": [
    "match_results.plot() # this is fun, signal is <phase,x,z,x,correlation>"
   ]
  },
  {
   "cell_type": "code",
   "execution_count": 10,
   "metadata": {
    "collapsed": true
   },
   "outputs": [],
   "source": [
    "plt.close(\"all\")"
   ]
  },
  {
   "cell_type": "code",
   "execution_count": 11,
   "metadata": {
    "collapsed": true
   },
   "outputs": [],
   "source": [
    "def _convert_to_2D(peak_locations):\n",
    "    #if np.any(peak_locations[:,2] > 5e-2):\n",
    "    #    print(\"This will be a warning in future, but be aware that you may not be within a 2D regime\")\n",
    "    peak_locations = peak_locations[:,0:2]\n",
    "    return peak_locations\n",
    "\n",
    "_phase = 'si'\n",
    "\n",
    "def function_version_1(single):\n",
    "    best_fit = single[0][1:4]\n",
    "    best_fit_pattern = library[_phase][(best_fit[0],best_fit[1],best_fit[2])]\n",
    "    peak_locations = best_fit_pattern.coordinates\n",
    "    peak_locations = _convert_to_2D(best_fit_pattern.coordinates)\n",
    "    return peak_locations\n",
    "\n",
    "found_peaks = match_results.map(function_version_1,inplace=False,show_progressbar=False)\n",
    "from pycrystem.diffraction_vectors import DiffractionVectors\n",
    "found_peaks = DiffractionVectors(found_peaks)\n",
    "found_peaks.axes_manager.set_signal_dimension(0)\n",
    "found_peaks = found_peaks.transpose(navigation_axes=2)"
   ]
  },
  {
   "cell_type": "code",
   "execution_count": 12,
   "metadata": {},
   "outputs": [
    {
     "data": {
      "text/plain": [
       "<Signal2D, title: , dimensions: (20, 20|2, 24)>"
      ]
     },
     "execution_count": 12,
     "metadata": {},
     "output_type": "execute_result"
    }
   ],
   "source": [
    "found_peaks"
   ]
  },
  {
   "cell_type": "code",
   "execution_count": 13,
   "metadata": {},
   "outputs": [
    {
     "data": {
      "text/plain": [
       "<ElectronDiffraction, title: , dimensions: (20, 20|256, 256)>"
      ]
     },
     "execution_count": 13,
     "metadata": {},
     "output_type": "execute_result"
    }
   ],
   "source": [
    "test_data"
   ]
  },
  {
   "cell_type": "code",
   "execution_count": 14,
   "metadata": {
    "collapsed": true
   },
   "outputs": [],
   "source": [
    "from pycrystem.utils import plot as pcplt\n",
    "mmx,mmy = pcplt.generate_marker_inputs_from_peaks(found_peaks)"
   ]
  },
  {
   "cell_type": "code",
   "execution_count": 15,
   "metadata": {
    "collapsed": true
   },
   "outputs": [],
   "source": [
    "test_data = pc.ElectronDiffraction(data)\n",
    "test_data.set_calibration(1.2/128)\n",
    "test_data.plot(cmap='viridis') \n",
    "for mx,my in zip(mmx,mmy):\n",
    "    m = hs.markers.point(x=my.T,y=mx.T,color='red',marker='x')\n",
    "    test_data.add_marker(m,plot_marker=True,permanent=True)"
   ]
  },
  {
   "cell_type": "code",
   "execution_count": 31,
   "metadata": {
    "collapsed": true
   },
   "outputs": [],
   "source": [
    "from pycrystem.utils.plot import _find_max_length_peaks\n",
    "def generate_marker_inputs_from_peaks(peaks):\n",
    "    max_peak_len = _find_max_length_peaks(peaks)\n",
    "    #TODO - Fix for a single image\n",
    "    import itertools\n",
    "    pad = np.array(list(itertools.zip_longest(*np.concatenate(peaks.data),fillvalue=[np.nan,np.nan])))\n",
    "    # Not tested for non-square signal, return flat to square\n",
    "    \n",
    "    pad = pad.reshape((max_peak_len),peaks.data.shape[0],peaks.data.shape[1],2)\n",
    "    xy_cords = np.transpose(pad,[3,0,1,2]) #move the x,y pairs to the front \n",
    "    x = xy_cords[0]\n",
    "    y = xy_cords[1]\n",
    "\n",
    "    return x,y"
   ]
  },
  {
   "cell_type": "code",
   "execution_count": 32,
   "metadata": {
    "collapsed": true
   },
   "outputs": [],
   "source": [
    "mmx,mmy = generate_marker_inputs_from_peaks(found_peaks)\n",
    "test_data = pc.ElectronDiffraction(data)\n",
    "test_data.set_calibration(1.2/128)\n",
    "test_data.plot(cmap='viridis') \n",
    "for mx,my in zip(mmx,mmy):\n",
    "    m = hs.markers.point(x=mx,y=my,color='red',marker='x')\n",
    "    test_data.add_marker(m,plot_marker=True,permanent=True)"
   ]
  },
  {
   "cell_type": "code",
   "execution_count": 21,
   "metadata": {
    "collapsed": true
   },
   "outputs": [],
   "source": [
    "plt.close(\"all\")"
   ]
  },
  {
   "cell_type": "markdown",
   "metadata": {},
   "source": [
    "<center><h3> Now the magic attempt begins </center></h3>"
   ]
  },
  {
   "cell_type": "code",
   "execution_count": 84,
   "metadata": {
    "collapsed": true
   },
   "outputs": [],
   "source": [
    "radial_sims = {}\n",
    "for XZX in [(0.0,0.00,0.00),rot_list[50]]:\n",
    "    peaks_2D_data = library['si'][XZX].as_signal(256,0.07,1.2).data #basically a local\n",
    "    radial_sims[XZX] = radial_average(peaks_2D_data,center=[256/2,256/2],cython=False)"
   ]
  },
  {
   "cell_type": "code",
   "execution_count": 85,
   "metadata": {
    "collapsed": true
   },
   "outputs": [],
   "source": [
    "radial_averaged_data = test_data.map(radial_average,center=np.asarray([256/2,256/2]),cython=False,inplace=False, show_progressbar=False)"
   ]
  },
  {
   "cell_type": "code",
   "execution_count": 86,
   "metadata": {},
   "outputs": [
    {
     "data": {
      "text/plain": [
       "[<matplotlib.lines.Line2D at 0x7fe12f0b7c18>]"
      ]
     },
     "execution_count": 86,
     "metadata": {},
     "output_type": "execute_result"
    },
    {
     "data": {
      "image/png": "[encoded data removed]",
      "text/plain": [
       "<matplotlib.figure.Figure at 0x7fe12d8346a0>"
      ]
     },
     "metadata": {},
     "output_type": "display_data"
    }
   ],
   "source": [
    "for XZX in radial_sims:\n",
    "    #plt.plot(radial_sims[XZX])\n",
    "    break\n",
    "%matplotlib inline    \n",
    "plt.plot(radial_averaged_data.inav[0,0],color='k')\n",
    "plt.plot(radial_sims[(0.0,0.00,0.00)],color='r')\n",
    "plt.plot(radial_sims[rot_list[50]],color='b')"
   ]
  },
  {
   "cell_type": "code",
   "execution_count": 87,
   "metadata": {},
   "outputs": [
    {
     "name": "stdout",
     "output_type": "stream",
     "text": [
      "6286.13503892\n",
      "6138.10205838\n"
     ]
    }
   ],
   "source": [
    "print(np.sum(np.multiply(radial_averaged_data.inav[0,0].data,radial_sims[(0.0,0.00,0.00)])))\n",
    "print(np.sum(np.multiply(radial_averaged_data.inav[0,0].data,radial_sims[rot_list[50]])))"
   ]
  },
  {
   "cell_type": "markdown",
   "metadata": {},
   "source": [
    "Conclusion, peak only radial matching gives the wrong answers at present. However over/under smearing aids us"
   ]
  },
  {
   "cell_type": "markdown",
   "metadata": {},
   "source": [
    "<center><h3> Under development </h3></center>"
   ]
  },
  {
   "cell_type": "code",
   "execution_count": 12,
   "metadata": {
    "collapsed": true
   },
   "outputs": [],
   "source": [
    "def mapable_library_matcher(dp_radial,dict_of_radial_patterns,n_scorer=5):\n",
    "    best_corr = [0]*n_scorer \n",
    "    best_corr_key = [None]*n_scorer\n",
    "    from pycrystem.utils import _correlate\n",
    "    for key in dict_of_radial_patterns:\n",
    "        radial_pattern_rotate = dict_of_radial_patterns[key]\n",
    "        correlation = _correlate(dp_radial,radial_pattern_rotate)\n",
    "        if correlation > np.min(best_corr):\n",
    "            best_corr[np.argmin(best_corr)] = correlation\n",
    "            best_corr_key[np.argmin(best_corr)] = key\n",
    "            \n",
    "    return best_corr,best_corr_key"
   ]
  },
  {
   "cell_type": "code",
   "execution_count": 13,
   "metadata": {},
   "outputs": [
    {
     "data": {
      "application/vnd.jupyter.widget-view+json": {
       "model_id": "725be22c0f39475d93a078799a25638c",
       "version_major": 2,
       "version_minor": 0
      },
      "text/plain": [
       "A Jupyter Widget"
      ]
     },
     "metadata": {},
     "output_type": "display_data"
    },
    {
     "name": "stdout",
     "output_type": "stream",
     "text": [
      "\n"
     ]
    }
   ],
   "source": [
    "alpha = radial_averaged_data.map(mapable_library_matcher,dict_of_radial_patterns=radial_sims,n_scorer=2,inplace=False)"
   ]
  },
  {
   "cell_type": "code",
   "execution_count": 14,
   "metadata": {},
   "outputs": [
    {
     "data": {
      "text/plain": [
       "([0.76828670512207153, 0.76824999083863821],\n",
       " [(0.18481261867516227, 0.0, 0.0), (0.299220430235977, 0.0, 0.0)])"
      ]
     },
     "execution_count": 14,
     "metadata": {},
     "output_type": "execute_result"
    }
   ],
   "source": [
    "alpha.inav[0]"
   ]
  },
  {
   "cell_type": "code",
   "execution_count": null,
   "metadata": {
    "collapsed": true
   },
   "outputs": [],
   "source": []
  }
 ],
 "metadata": {
  "kernelspec": {
   "display_name": "Python 3",
   "language": "python",
   "name": "python3"
  },
  "language_info": {
   "codemirror_mode": {
    "name": "ipython",
    "version": 3
   },
   "file_extension": ".py",
   "mimetype": "text/x-python",
   "name": "python",
   "nbconvert_exporter": "python",
   "pygments_lexer": "ipython3",
   "version": "3.6.2"
  }
 },
 "nbformat": 4,
 "nbformat_minor": 2
}
