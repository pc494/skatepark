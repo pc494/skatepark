{
 "cells": [
  {
   "cell_type": "code",
   "execution_count": 2,
   "metadata": {
    "collapsed": true
   },
   "outputs": [],
   "source": [
    "%matplotlib tk\n",
    "import warnings\n",
    "warnings.filterwarnings('once') #only get the hyperspy load warning once\n",
    "\n",
    "import pycrystem as pc\n",
    "import numpy as np\n",
    "import hyperspy.api as hs\n",
    "from matplotlib import pyplot as plt"
   ]
  },
  {
   "cell_type": "code",
   "execution_count": 3,
   "metadata": {
    "collapsed": true
   },
   "outputs": [],
   "source": [
    "from pycrystem.indexation_generator import *\n",
    "from pycrystem.utils.expt_utils import *\n",
    "from pycrystem import ElectronDiffraction\n",
    "from pycrystem.indexation_generator import IndexationGenerator#,mapable_radial_matcher"
   ]
  },
  {
   "cell_type": "code",
   "execution_count": 4,
   "metadata": {},
   "outputs": [
    {
     "data": {
      "application/vnd.jupyter.widget-view+json": {
       "model_id": "fb7bd1d5a7e148289e0d71c9b53526d4",
       "version_major": 2,
       "version_minor": 0
      },
      "text/plain": [
       "A Jupyter Widget"
      ]
     },
     "metadata": {},
     "output_type": "display_data"
    },
    {
     "name": "stdout",
     "output_type": "stream",
     "text": [
      "\n"
     ]
    },
    {
     "data": {
      "text/plain": [
       "<ElectronDiffraction, title: , dimensions: (2, 2|144, 144)>"
      ]
     },
     "execution_count": 4,
     "metadata": {},
     "output_type": "execute_result"
    }
   ],
   "source": [
    "from load_data import dp #see file for sizing etc\n",
    "dp#.inav[0,6].plot()"
   ]
  },
  {
   "cell_type": "code",
   "execution_count": 5,
   "metadata": {},
   "outputs": [
    {
     "name": "stderr",
     "output_type": "stream",
     "text": [
      "/home/pc494/anaconda3/lib/python3.6/site-packages/tabulate-0.7.7-py3.6.egg/tabulate.py:178: DeprecationWarning: invalid escape sequence \\h\n",
      "/home/pc494/anaconda3/lib/python3.6/site-packages/tabulate-0.7.7-py3.6.egg/tabulate.py:343: DeprecationWarning: invalid escape sequence \\[\n",
      "/home/pc494/anaconda3/lib/python3.6/site-packages/tabulate-0.7.7-py3.6.egg/tabulate.py:1105: DeprecationWarning: invalid escape sequence \\e\n",
      "                                                    \r"
     ]
    }
   ],
   "source": [
    "from generate_library import structure,rot_list,edc,diff_gen,struc_lib\n",
    "library = diff_gen.get_diffraction_library(struc_lib,\n",
    "                                            calibration=1.2/128,\n",
    "                                            reciprocal_radius=1.,\n",
    "                                            representation='euler')"
   ]
  },
  {
   "cell_type": "code",
   "execution_count": 6,
   "metadata": {},
   "outputs": [
    {
     "data": {
      "application/vnd.jupyter.widget-view+json": {
       "model_id": "c3ab22105fe84488bd35322ccb521ffa",
       "version_major": 2,
       "version_minor": 0
      },
      "text/plain": [
       "A Jupyter Widget"
      ]
     },
     "metadata": {},
     "output_type": "display_data"
    },
    {
     "name": "stdout",
     "output_type": "stream",
     "text": [
      "\n"
     ]
    }
   ],
   "source": [
    "indexer = IndexationGenerator(dp, library)\n",
    "match_results = indexer.correlate(n_largest=5)\n",
    "## Does this actually give correct answers? Potentially not ... great..."
   ]
  },
  {
   "cell_type": "code",
   "execution_count": 7,
   "metadata": {
    "collapsed": true
   },
   "outputs": [],
   "source": [
    "def _convert_to_2D(peak_locations):\n",
    "    #if np.any(peak_locations[:,2] > 5e-2):\n",
    "    #    print(\"This will be a warning in future, but be aware that you may not be within a 2D regime\")\n",
    "    peak_locations = peak_locations[:,0:2]\n",
    "    return peak_locations"
   ]
  },
  {
   "cell_type": "code",
   "execution_count": 8,
   "metadata": {},
   "outputs": [
    {
     "data": {
      "text/plain": [
       "<MatchingResults, title: , dimensions: (2, 2|5, 5)>"
      ]
     },
     "execution_count": 8,
     "metadata": {},
     "output_type": "execute_result"
    }
   ],
   "source": [
    "match_results"
   ]
  },
  {
   "cell_type": "code",
   "execution_count": 9,
   "metadata": {
    "collapsed": true
   },
   "outputs": [],
   "source": [
    "_phase = 'CsPbBr3'"
   ]
  },
  {
   "cell_type": "code",
   "execution_count": 10,
   "metadata": {},
   "outputs": [
    {
     "name": "stderr",
     "output_type": "stream",
     "text": [
      "/home/pc494/anaconda3/lib/python3.6/site-packages/skimage/feature/blob.py:296: DeprecationWarning: object of type <class 'float'> cannot be safely interpreted as an integer.\n",
      "  sigma_list = np.linspace(min_sigma, max_sigma, num_sigma)\n",
      "WARNING:hyperspy.signal:The function you applied does not take into account the difference of units and of scales in-between axes.\n"
     ]
    },
    {
     "data": {
      "application/vnd.jupyter.widget-view+json": {
       "model_id": "5251b7df82844523bd37b74eaca84ccf",
       "version_major": 2,
       "version_minor": 0
      },
      "text/plain": [
       "A Jupyter Widget"
      ]
     },
     "metadata": {},
     "output_type": "display_data"
    },
    {
     "name": "stdout",
     "output_type": "stream",
     "text": [
      "\n"
     ]
    }
   ],
   "source": [
    "data_peaks = dp.find_peaks('laplacian_of_gaussians',show_progressbar=False)"
   ]
  },
  {
   "cell_type": "code",
   "execution_count": 11,
   "metadata": {
    "collapsed": true
   },
   "outputs": [],
   "source": [
    "### so you want to be able to map this\n",
    "def function_version_1(single):\n",
    "    best_fit = single[0][1:4]\n",
    "    best_fit_pattern = library[_phase][(best_fit[0],best_fit[1],best_fit[2])]\n",
    "    peak_locations = best_fit_pattern.coordinates\n",
    "    peak_locations = _convert_to_2D(best_fit_pattern.coordinates)\n",
    "    return peak_locations"
   ]
  },
  {
   "cell_type": "code",
   "execution_count": 12,
   "metadata": {
    "collapsed": true
   },
   "outputs": [],
   "source": [
    "def function_version_2(single):\n",
    "    best_fit = single[0][1:4]\n",
    "    best_fit_pattern = library[_phase][(best_fit[0],best_fit[1],best_fit[2])]\n",
    "    return best_fit_pattern.as_signal(144,0.1,1.2)"
   ]
  },
  {
   "cell_type": "code",
   "execution_count": 13,
   "metadata": {
    "collapsed": true
   },
   "outputs": [],
   "source": [
    "found_peaks = match_results.map(function_version_1,inplace=False,show_progressbar=False)\n",
    "from pycrystem.diffraction_vectors import DiffractionVectors\n",
    "found_peaks = DiffractionVectors(found_peaks)\n",
    "found_peaks.axes_manager.set_signal_dimension(0)"
   ]
  },
  {
   "cell_type": "code",
   "execution_count": 14,
   "metadata": {},
   "outputs": [
    {
     "data": {
      "text/plain": [
       "<DiffractionVectors, title: , dimensions: (2, 2|)>"
      ]
     },
     "execution_count": 14,
     "metadata": {},
     "output_type": "execute_result"
    }
   ],
   "source": [
    "found_peaks"
   ]
  },
  {
   "cell_type": "code",
   "execution_count": 15,
   "metadata": {},
   "outputs": [
    {
     "data": {
      "text/plain": [
       "<DiffractionVectors, title: , dimensions: (2, 2|)>"
      ]
     },
     "execution_count": 15,
     "metadata": {},
     "output_type": "execute_result"
    }
   ],
   "source": [
    "data_peaks"
   ]
  },
  {
   "cell_type": "code",
   "execution_count": 16,
   "metadata": {
    "collapsed": true
   },
   "outputs": [],
   "source": [
    "from pycrystem.utils import plot as pcplt\n",
    "\n",
    "mmx,mmy = pcplt.generate_marker_inputs_from_peaks(found_peaks)\n",
    "dp.plot(cmap='viridis') \n",
    "for mx,my in zip(mmx,mmy):\n",
    "    m = hs.markers.point(x=mx,y=my,color='red',marker='x')\n",
    "    dp.add_marker(m,plot_marker=True,permanent=False)"
   ]
  },
  {
   "cell_type": "code",
   "execution_count": null,
   "metadata": {
    "collapsed": true
   },
   "outputs": [],
   "source": [
    "#dp.inav[0,0].plot()\n",
    "best_fit = match_results.inav[0,6].data[0][1:4] \n",
    "best_fit_pattern = library['CsPbBr3'][(best_fit[0],best_fit[1],best_fit[2])]"
   ]
  },
  {
   "cell_type": "code",
   "execution_count": null,
   "metadata": {
    "collapsed": true
   },
   "outputs": [],
   "source": [
    "best_fit_pattern.as_signal(144,0.03,1.2).plot()"
   ]
  },
  {
   "cell_type": "markdown",
   "metadata": {},
   "source": [
    "<h1> PART II - Speeding up the process using radial forms of the data</h1>"
   ]
  },
  {
   "cell_type": "code",
   "execution_count": 28,
   "metadata": {
    "collapsed": true
   },
   "outputs": [],
   "source": [
    "radial_averaged_data = dp.map(radial_average,center=np.asarray([144/2,144/2]),cython=False,inplace=False, show_progressbar=False)\n",
    "## is this using the correct center"
   ]
  },
  {
   "cell_type": "code",
   "execution_count": null,
   "metadata": {
    "collapsed": true
   },
   "outputs": [],
   "source": [
    "### This is being rewritten. But should do via Silicon\n",
    "radial_sims = {}\n",
    "for XZX in library['CsPbBr3']:\n",
    "    peaks_2D_data = library['CsPbBr3'][XZX].as_signal(144,0.3,2.1).data\n",
    "    radial_sims[XZX] = radial_average(peaks_2D_data,center=[144/2,144/2],cython=False)"
   ]
  },
  {
   "cell_type": "code",
   "execution_count": null,
   "metadata": {
    "collapsed": true
   },
   "outputs": [],
   "source": [
    "%%time\n",
    "alpha = radial_averaged_data.map(mapable_radial_matcher,dict_of_radial_patterns=radial_sims,n_scorer=10,inplace=False)"
   ]
  },
  {
   "cell_type": "code",
   "execution_count": null,
   "metadata": {
    "collapsed": true
   },
   "outputs": [],
   "source": []
  }
 ],
 "metadata": {
  "anaconda-cloud": {},
  "kernelspec": {
   "display_name": "Python 3",
   "language": "python",
   "name": "python3"
  },
  "language_info": {
   "codemirror_mode": {
    "name": "ipython",
    "version": 3
   },
   "file_extension": ".py",
   "mimetype": "text/x-python",
   "name": "python",
   "nbconvert_exporter": "python",
   "pygments_lexer": "ipython3",
   "version": "3.6.2"
  }
 },
 "nbformat": 4,
 "nbformat_minor": 1
}
