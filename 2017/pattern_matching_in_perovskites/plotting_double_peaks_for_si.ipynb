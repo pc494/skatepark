{
 "cells": [
  {
   "cell_type": "code",
   "execution_count": 1,
   "metadata": {},
   "outputs": [
    {
     "name": "stderr",
     "output_type": "stream",
     "text": [
      "WARNING:hyperspy.api:The ipywidgets GUI elements are not available, probably because the hyperspy_gui_ipywidgets package is not installed.\n",
      "WARNING:hyperspy.api:The traitsui GUI elements are not available, probably because the hyperspy_gui_traitui package is not installed.\n"
     ]
    }
   ],
   "source": [
    "%matplotlib tk\n",
    "import numpy as np\n",
    "import hyperspy.api as hs\n",
    "import pycrystem as pc\n",
    "import pymatgen as pmg\n",
    "from matplotlib import pyplot as plt\n",
    "from pymatgen.transformations.standard_transformations import RotationTransformation\n",
    "from pycrystem.indexation_generator import IndexationGenerator\n",
    "from pycrystem.utils.expt_utils import radial_average\n",
    "from scipy.constants import pi"
   ]
  },
  {
   "cell_type": "code",
   "execution_count": 2,
   "metadata": {
    "collapsed": true
   },
   "outputs": [],
   "source": [
    "si = pmg.Element(\"Si\")\n",
    "lattice = pmg.Lattice.cubic(5.431)\n",
    "silicon = pmg.Structure.from_spacegroup(\"Fd-3m\",lattice, [si], [[0, 0, 0]])"
   ]
  },
  {
   "cell_type": "code",
   "execution_count": 3,
   "metadata": {
    "collapsed": true
   },
   "outputs": [],
   "source": [
    "size = 256\n",
    "radius=1.5\n",
    "ediff = pc.ElectronDiffractionCalculator(300., 0.025)\n",
    "\n",
    "rotaxis,thetas = [0, 0, 1],np.arange(0, 45, 1)\n",
    "data_silicon = []\n",
    "for theta in thetas:\n",
    "    sieg = RotationTransformation(rotaxis, theta).apply_transformation(silicon)\n",
    "    dpi = ediff.calculate_ed_data(sieg, radius).as_signal(256, 0.03, 1.2)\n",
    "    data_silicon.append(dpi.data)\n",
    "    \n",
    "data = [data_silicon]\n",
    "test_data = pc.ElectronDiffraction(data)\n",
    "test_data.set_calibration(1.2/128)"
   ]
  },
  {
   "cell_type": "code",
   "execution_count": 4,
   "metadata": {
    "collapsed": true
   },
   "outputs": [],
   "source": [
    "rot_list = []\n",
    "nstep=119\n",
    "#np.linspace(0)\n",
    "for i in np.arange(nstep):\n",
    "    theta = (i*59.5/(nstep-1))/180*pi\n",
    "    rot_list.append((theta, 0., 0.))"
   ]
  },
  {
   "cell_type": "code",
   "execution_count": 5,
   "metadata": {},
   "outputs": [
    {
     "name": "stderr",
     "output_type": "stream",
     "text": [
      "                                                 \r"
     ]
    }
   ],
   "source": [
    "edc = pc.ElectronDiffractionCalculator(300, 0.025)\n",
    "diff_gen = pc.DiffractionLibraryGenerator(edc)\n",
    "struc_lib = dict()\n",
    "struc_lib['si'] = (silicon, rot_list)\n",
    "library = diff_gen.get_diffraction_library(struc_lib,\n",
    "                                            calibration=1.2/128,\n",
    "                                            reciprocal_radius=1.5,\n",
    "                                            representation='euler')"
   ]
  },
  {
   "cell_type": "code",
   "execution_count": 6,
   "metadata": {},
   "outputs": [
    {
     "data": {
      "application/vnd.jupyter.widget-view+json": {
       "model_id": "497ced14d7e648c2bd83eb07f99c5a9e",
       "version_major": 2,
       "version_minor": 0
      },
      "text/plain": [
       "A Jupyter Widget"
      ]
     },
     "metadata": {},
     "output_type": "display_data"
    },
    {
     "name": "stdout",
     "output_type": "stream",
     "text": [
      "\n"
     ]
    }
   ],
   "source": [
    "### Ground Truth\n",
    "indexer = IndexationGenerator(test_data, library)\n",
    "match_results = indexer.correlate()"
   ]
  },
  {
   "cell_type": "code",
   "execution_count": 14,
   "metadata": {
    "collapsed": true
   },
   "outputs": [],
   "source": [
    "def _convert_to_2D(peak_locations):\n",
    "    #if np.any(peak_locations[:,2] > 5e-2):\n",
    "    #    print(\"This will be a warning in future, but be aware that you may not be within a 2D regime\")\n",
    "    peak_locations = peak_locations[:,0:2]\n",
    "    return peak_locations\n",
    "\n",
    "_phase = 'si'\n",
    "\n",
    "def function_version_1(single):\n",
    "    best_fit = single[0][1:4]\n",
    "    best_fit_pattern = library[_phase][(best_fit[0],best_fit[1],best_fit[2])]\n",
    "    peak_locations = best_fit_pattern.coordinates\n",
    "    peak_locations = _convert_to_2D(best_fit_pattern.coordinates)\n",
    "    return peak_locations\n",
    "\n",
    "found_peaks = match_results.map(function_version_1,inplace=False,show_progressbar=False)\n",
    "#from pycrystem.diffraction_vectors import DiffractionVectors\n",
    "#found_peaks = DiffractionVectors(found_peaks)\n",
    "#found_peaks.axes_manager.set_signal_dimension(0)\n",
    "#found_peaks = found_peaks.transpose(navigation_axes=2)\n",
    "#found_peaks = DiffractionVectors(found_peaks)"
   ]
  },
  {
   "cell_type": "code",
   "execution_count": 19,
   "metadata": {},
   "outputs": [],
   "source": [
    "from matplotlib import pyplot as plt\n",
    "peaks = test_data.find_peaks('laplacian_of_gaussians').inav[0,0]"
   ]
  },
  {
   "cell_type": "code",
   "execution_count": 36,
   "metadata": {},
   "outputs": [
    {
     "data": {
      "text/plain": [
       "<matplotlib.collections.PathCollection at 0x7efd730b1c50>"
      ]
     },
     "execution_count": 36,
     "metadata": {},
     "output_type": "execute_result"
    },
    {
     "data": {
      "image/png": "[encoded data removed]",
      "text/plain": [
       "<matplotlib.figure.Figure at 0x7efd7336bbe0>"
      ]
     },
     "metadata": {},
     "output_type": "display_data"
    }
   ],
   "source": [
    "x_fp = found_peaks.inav[0,0].data[:,0]\n",
    "y_fp = found_peaks.inav[0,0].data[:,1]\n",
    "%matplotlib inline\n",
    "plt.scatter(y_fp,x_fp)\n",
    "plt.scatter(peaks.data[:,1],peaks.data[:,0],marker='x')"
   ]
  },
  {
   "cell_type": "code",
   "execution_count": null,
   "metadata": {
    "collapsed": true
   },
   "outputs": [],
   "source": []
  }
 ],
 "metadata": {
  "kernelspec": {
   "display_name": "Python 3",
   "language": "python",
   "name": "python3"
  },
  "language_info": {
   "codemirror_mode": {
    "name": "ipython",
    "version": 3
   },
   "file_extension": ".py",
   "mimetype": "text/x-python",
   "name": "python",
   "nbconvert_exporter": "python",
   "pygments_lexer": "ipython3",
   "version": "3.6.2"
  }
 },
 "nbformat": 4,
 "nbformat_minor": 2
}
