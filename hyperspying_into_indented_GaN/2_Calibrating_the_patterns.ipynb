{
 "cells": [
  {
   "cell_type": "code",
   "execution_count": 331,
   "metadata": {},
   "outputs": [],
   "source": [
    "import hyperspy.api as hs\n",
    "from matplotlib import pyplot as plt\n",
    "import numpy as np\n",
    "import pycrystem as pc\n",
    "plt.rcParams['image.cmap'] = 'gray'\n",
    "%matplotlib tk"
   ]
  },
  {
   "cell_type": "code",
   "execution_count": 465,
   "metadata": {
    "collapsed": true
   },
   "outputs": [],
   "source": [
    "dp = pc.load(\"/home/pc494/Documents/data/GaN_intro/GaN_indent.blo\")"
   ]
  },
  {
   "cell_type": "code",
   "execution_count": 466,
   "metadata": {},
   "outputs": [],
   "source": [
    "dp = dp.inav[0:2,498:500] "
   ]
  },
  {
   "cell_type": "code",
   "execution_count": 467,
   "metadata": {},
   "outputs": [
    {
     "data": {
      "application/vnd.jupyter.widget-view+json": {
       "model_id": "3a9221e725db4e88b21c06c0a6e4bd1a",
       "version_major": 2,
       "version_minor": 0
      },
      "text/plain": [
       "A Jupyter Widget"
      ]
     },
     "metadata": {},
     "output_type": "display_data"
    },
    {
     "name": "stdout",
     "output_type": "stream",
     "text": [
      "\n"
     ]
    }
   ],
   "source": [
    "dp.apply_affine_transformation(np.array([[0.99,0,0],\n",
    "                                         [0,0.69,0],\n",
    "                                         [0,0,1]]));"
   ]
  },
  {
   "cell_type": "code",
   "execution_count": 495,
   "metadata": {},
   "outputs": [
    {
     "data": {
      "application/vnd.jupyter.widget-view+json": {
       "model_id": "f0f968927f0a497e8c4935c4ebc1440c",
       "version_major": 2,
       "version_minor": 0
      },
      "text/plain": [
       "A Jupyter Widget"
      ]
     },
     "metadata": {},
     "output_type": "display_data"
    },
    {
     "name": "stderr",
     "output_type": "stream",
     "text": [
      "WARNING:hyperspy.signal:The function you applied does not take into account the difference of units and of scales in-between axes.\n"
     ]
    },
    {
     "name": "stdout",
     "output_type": "stream",
     "text": [
      "\n"
     ]
    },
    {
     "data": {
      "application/vnd.jupyter.widget-view+json": {
       "model_id": "673479c9e4914d8a8feb8cb98ba714ac",
       "version_major": 2,
       "version_minor": 0
      },
      "text/plain": [
       "A Jupyter Widget"
      ]
     },
     "metadata": {},
     "output_type": "display_data"
    },
    {
     "name": "stdout",
     "output_type": "stream",
     "text": [
      "\n"
     ]
    }
   ],
   "source": [
    "peaks = dp.find_peaks('stat')"
   ]
  },
  {
   "cell_type": "code",
   "execution_count": 496,
   "metadata": {},
   "outputs": [
    {
     "data": {
      "text/plain": [
       "<DiffractionVectors, title: , dimensions: (2, 2|)>"
      ]
     },
     "execution_count": 496,
     "metadata": {},
     "output_type": "execute_result"
    }
   ],
   "source": [
    "peaks"
   ]
  },
  {
   "cell_type": "code",
   "execution_count": 502,
   "metadata": {},
   "outputs": [
    {
     "data": {
      "text/plain": [
       "array([[ array([[ 0.50662861,  0.50662861],\n",
       "       [ 0.54224115,  0.18614828],\n",
       "       [ 0.66892785,  0.72744102],\n",
       "       [ 0.75256532,  0.32578282],\n",
       "       [ 0.58743917,  0.6178528 ]]),\n",
       "        array([[ 0.50665298,  0.50589264],\n",
       "       [ 0.54399114,  0.18554484],\n",
       "       [ 0.66727494,  0.72810219],\n",
       "       [ 0.75256532,  0.32578282]])],\n",
       "       [ array([[ 0.50665298,  0.50589264],\n",
       "       [ 0.53801703,  0.18065693],\n",
       "       [ 0.64066302,  0.6254562 ],\n",
       "       [ 0.66727494,  0.72810219],\n",
       "       [ 0.75160363,  0.32581287]]),\n",
       "        array([[ 0.50665298,  0.50589264],\n",
       "       [ 0.5405515 ,  0.18255779],\n",
       "       [ 0.66727494,  0.72810219],\n",
       "       [ 0.75256532,  0.32578282],\n",
       "       [ 0.8649635 ,  0.75851582]])]], dtype=object)"
      ]
     },
     "execution_count": 502,
     "metadata": {},
     "output_type": "execute_result"
    }
   ],
   "source": [
    "peaks.data"
   ]
  },
  {
   "cell_type": "code",
   "execution_count": 497,
   "metadata": {},
   "outputs": [],
   "source": [
    "peaks.data = peaks.data + 0.5"
   ]
  },
  {
   "cell_type": "code",
   "execution_count": 498,
   "metadata": {
    "collapsed": true
   },
   "outputs": [],
   "source": [
    "mx,my = [],[]\n",
    "for x in [0,1]:\n",
    "    for y in [0,1]:\n",
    "        mx.append(peaks.inav[x,y].data[0][1])\n",
    "        my.append(peaks.inav[x,y].data[0][0])"
   ]
  },
  {
   "cell_type": "code",
   "execution_count": 499,
   "metadata": {
    "collapsed": true
   },
   "outputs": [],
   "source": [
    "mx = np.asarray(mx).reshape(2,2)\n",
    "my = np.asarray(my).reshape(2,2)"
   ]
  },
  {
   "cell_type": "code",
   "execution_count": 500,
   "metadata": {
    "collapsed": true
   },
   "outputs": [],
   "source": [
    "m = hs.markers.point(x=mx,y=my,color='r')"
   ]
  },
  {
   "cell_type": "code",
   "execution_count": 501,
   "metadata": {},
   "outputs": [],
   "source": [
    "m.signal=None\n",
    "dp.plot() #the requirement to include this is a bug.\n",
    "dp.add_marker(m,plot_marker=True,permanent=False)"
   ]
  },
  {
   "cell_type": "code",
   "execution_count": 339,
   "metadata": {},
   "outputs": [
    {
     "data": {
      "text/plain": [
       "'max_len = 0\\nfor x in np.arange(0,50):\\n    for y in np.arange(0,50):\\n        if peaks.inav[x,y].data.shape[0] > max_len:\\n            max_len = peaks.data[x,y].shape[0]\\nmax_len'"
      ]
     },
     "execution_count": 339,
     "metadata": {},
     "output_type": "execute_result"
    }
   ],
   "source": [
    "\"\"\"max_len = 0\n",
    "for x in np.arange(0,50):\n",
    "    for y in np.arange(0,50):\n",
    "        if peaks.inav[x,y].data.shape[0] > max_len:\n",
    "            max_len = peaks.data[x,y].shape[0]\n",
    "max_len\"\"\""
   ]
  },
  {
   "cell_type": "code",
   "execution_count": 366,
   "metadata": {},
   "outputs": [],
   "source": [
    "s = hs.signals.Signal2D(dp)\n",
    "m.signal=None\n",
    "#s.add_marker(m,plot_marker=True,permanent=False)"
   ]
  },
  {
   "cell_type": "code",
   "execution_count": null,
   "metadata": {},
   "outputs": [],
   "source": [
    "print(peaks.data.shape)\n",
    "ynav = peaks.data.shape[0]\n",
    "xnav = peaks.data.shape[1]\n",
    "if xnav != ynav:\n",
    "    raise NotImplementedError('Square Navigation Axes only at this point please')"
   ]
  },
  {
   "cell_type": "code",
   "execution_count": null,
   "metadata": {},
   "outputs": [],
   "source": [
    "peaks.data[0,0][:,0] #y\n",
    "peaks.data[0,0][:,1] #x"
   ]
  },
  {
   "cell_type": "code",
   "execution_count": null,
   "metadata": {
    "collapsed": true
   },
   "outputs": [],
   "source": [
    "xloc = 0\n",
    "yloc = 0"
   ]
  },
  {
   "cell_type": "code",
   "execution_count": null,
   "metadata": {},
   "outputs": [],
   "source": [
    "x = np.empty((ynav,xnav,len(peaks.data[xloc,yloc][:,1])))\n",
    "x[:] = np.nan\n",
    "x[0] = peaks.data[0,0][:,1]\n",
    "x.shape"
   ]
  },
  {
   "cell_type": "code",
   "execution_count": null,
   "metadata": {},
   "outputs": [],
   "source": [
    "y = np.empty((xnav,ynav,len(peaks.data[xloc,yloc][:,0])))\n",
    "y[:] = np.nan\n",
    "y[0] = peaks.data[0,0][:,0]\n",
    "y.shape"
   ]
  },
  {
   "cell_type": "code",
   "execution_count": null,
   "metadata": {},
   "outputs": [],
   "source": [
    "markers = []\n",
    "for xrow, yrow in zip(x.T, y.T):\n",
    "    markers.append((hs.markers.point(x=xrow,y=yrow,color='r')))\n",
    "    break"
   ]
  },
  {
   "cell_type": "code",
   "execution_count": null,
   "metadata": {},
   "outputs": [],
   "source": [
    "markers"
   ]
  },
  {
   "cell_type": "code",
   "execution_count": null,
   "metadata": {},
   "outputs": [],
   "source": [
    "dp.add_marker(markers,permanent=True)"
   ]
  },
  {
   "cell_type": "code",
   "execution_count": null,
   "metadata": {},
   "outputs": [],
   "source": [
    "mark = hs.markers.point(x=x,y=y,color='r')"
   ]
  },
  {
   "cell_type": "code",
   "execution_count": null,
   "metadata": {
    "collapsed": true
   },
   "outputs": [],
   "source": [
    "plt.close('all')"
   ]
  },
  {
   "cell_type": "code",
   "execution_count": null,
   "metadata": {
    "collapsed": true
   },
   "outputs": [],
   "source": []
  }
 ],
 "metadata": {
  "kernelspec": {
   "display_name": "Python 3",
   "language": "python",
   "name": "python3"
  },
  "language_info": {
   "codemirror_mode": {
    "name": "ipython",
    "version": 3
   },
   "file_extension": ".py",
   "mimetype": "text/x-python",
   "name": "python",
   "nbconvert_exporter": "python",
   "pygments_lexer": "ipython3",
   "version": "3.6.2"
  }
 },
 "nbformat": 4,
 "nbformat_minor": 2
}
