{
 "cells": [
  {
   "cell_type": "code",
   "execution_count": 22,
   "metadata": {},
   "outputs": [],
   "source": [
    "%matplotlib tk\n",
    "import warnings\n",
    "warnings.filterwarnings('once') #only get the hyperspy load warning once\n",
    "\n",
    "import pycrystem as pc\n",
    "import numpy as np\n",
    "import hyperspy.api as hs\n",
    "from matplotlib import pyplot as plt"
   ]
  },
  {
   "cell_type": "code",
   "execution_count": 23,
   "metadata": {
    "collapsed": true
   },
   "outputs": [],
   "source": [
    "from pycrystem.indexation_generator import *\n",
    "from pycrystem.utils.expt_utils import *\n",
    "from pycrystem import ElectronDiffraction\n",
    "from pycrystem.indexation_generator import IndexationGenerator,mapable_radial_matcher"
   ]
  },
  {
   "cell_type": "code",
   "execution_count": 46,
   "metadata": {},
   "outputs": [],
   "source": [
    "from load_data import dp #see file for sizing etc\n",
    "dp#.inav[0,6].plot()"
   ]
  },
  {
   "cell_type": "code",
   "execution_count": 25,
   "metadata": {},
   "outputs": [
    {
     "name": "stderr",
     "output_type": "stream",
     "text": [
      " 97%|█████████▋| 29492/30351 [01:06<00:02, 309.82it/s]"
     ]
    },
    {
     "name": "stdout",
     "output_type": "stream",
     "text": [
      "\n"
     ]
    },
    {
     "name": "stderr",
     "output_type": "stream",
     "text": [
      "                                                      \r"
     ]
    }
   ],
   "source": [
    "from generate_library import structure,rot_list,edc,diff_gen,struc_lib\n",
    "library = diff_gen.get_diffraction_library(struc_lib,\n",
    "                                            calibration=1.2/128,\n",
    "                                            reciprocal_radius=1.,\n",
    "                                            representation='euler')"
   ]
  },
  {
   "cell_type": "code",
   "execution_count": 26,
   "metadata": {},
   "outputs": [
    {
     "data": {
      "application/vnd.jupyter.widget-view+json": {
       "model_id": "79dc986b201b4bce84d46237b113b8fa",
       "version_major": 2,
       "version_minor": 0
      },
      "text/plain": [
       "A Jupyter Widget"
      ]
     },
     "metadata": {},
     "output_type": "display_data"
    }
   ],
   "source": [
    "indexer = IndexationGenerator(dp, library)\n",
    "match_results = indexer.correlate(n_largest=5)\n",
    "## Does this actually give correct answers? Potentially not ... great..."
   ]
  },
  {
   "cell_type": "code",
   "execution_count": 29,
   "metadata": {},
   "outputs": [],
   "source": [
    "match_results.plot()"
   ]
  },
  {
   "cell_type": "code",
   "execution_count": 48,
   "metadata": {},
   "outputs": [],
   "source": [
    "#dp.inav[0,0].plot()\n",
    "best_fit = match_results.inav[0,6].data[0][1:4] \n",
    "best_fit_pattern = library['CsPbBr3'][(best_fit[0],best_fit[1],best_fit[2])]"
   ]
  },
  {
   "cell_type": "code",
   "execution_count": 49,
   "metadata": {},
   "outputs": [],
   "source": [
    "best_fit_pattern.as_signal(144,0.03,1.2).plot()"
   ]
  },
  {
   "cell_type": "markdown",
   "metadata": {},
   "source": [
    "<h1> PART II - Speeding up the process using radial forms of the data</h1>"
   ]
  },
  {
   "cell_type": "code",
   "execution_count": 8,
   "metadata": {},
   "outputs": [],
   "source": [
    "radial_averaged_data = dp.map(radial_average,center=np.asarray([144/2,144/2]),cython=False,inplace=False, show_progressbar=False)\n",
    "## is this using the correct center"
   ]
  },
  {
   "cell_type": "code",
   "execution_count": 9,
   "metadata": {},
   "outputs": [
    {
     "name": "stdout",
     "output_type": "stream",
     "text": [
      "CPU times: user 1min 27s, sys: 1.78 s, total: 1min 29s\n",
      "Wall time: 59.2 s\n"
     ]
    }
   ],
   "source": [
    "### This is being rewritten. But should do via Silicon\n",
    "radial_sims = {}\n",
    "for XZX in library['CsPbBr3']:\n",
    "    peaks_2D_data = library['CsPbBr3'][XZX].as_signal(144,0.3,2.1).data\n",
    "    radial_sims[XZX] = radial_average(peaks_2D_data,center=[144/2,144/2],cython=False)"
   ]
  },
  {
   "cell_type": "code",
   "execution_count": 10,
   "metadata": {},
   "outputs": [
    {
     "data": {
      "application/vnd.jupyter.widget-view+json": {
       "model_id": "2a422c29abff45e1b45fa0b528138206",
       "version_major": 2,
       "version_minor": 0
      },
      "text/plain": [
       "A Jupyter Widget"
      ]
     },
     "metadata": {},
     "output_type": "display_data"
    }
   ],
   "source": [
    "%%time\n",
    "alpha = radial_averaged_data.map(mapable_radial_matcher,dict_of_radial_patterns=radial_sims,n_scorer=10,inplace=False)"
   ]
  },
  {
   "cell_type": "code",
   "execution_count": null,
   "metadata": {
    "collapsed": true
   },
   "outputs": [],
   "source": []
  }
 ],
 "metadata": {
  "anaconda-cloud": {},
  "kernelspec": {
   "display_name": "Python 3",
   "language": "python",
   "name": "python3"
  },
  "language_info": {
   "codemirror_mode": {
    "name": "ipython",
    "version": 3
   },
   "file_extension": ".py",
   "mimetype": "text/x-python",
   "name": "python",
   "nbconvert_exporter": "python",
   "pygments_lexer": "ipython3",
   "version": "3.6.2"
  }
 },
 "nbformat": 4,
 "nbformat_minor": 1
}
