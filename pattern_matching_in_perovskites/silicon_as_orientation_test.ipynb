{
 "cells": [
  {
   "cell_type": "code",
   "execution_count": 1,
   "metadata": {},
   "outputs": [
    {
     "name": "stderr",
     "output_type": "stream",
     "text": [
      "WARNING:hyperspy.api:The ipywidgets GUI elements are not available, probably because the hyperspy_gui_ipywidgets package is not installed.\n",
      "WARNING:hyperspy.api:The traitsui GUI elements are not available, probably because the hyperspy_gui_traitui package is not installed.\n"
     ]
    }
   ],
   "source": [
    "%matplotlib tk\n",
    "import numpy as np\n",
    "import hyperspy.api as hs\n",
    "import pycrystem as pc\n",
    "import pymatgen as pmg\n",
    "from matplotlib import pyplot as plt\n",
    "from pymatgen.transformations.standard_transformations import RotationTransformation\n",
    "from pycrystem.indexation_generator import IndexationGenerator\n",
    "from pycrystem.utils.expt_utils import radial_average\n",
    "from scipy.constants import pi"
   ]
  },
  {
   "cell_type": "code",
   "execution_count": 2,
   "metadata": {
    "collapsed": true
   },
   "outputs": [],
   "source": [
    "si = pmg.Element(\"Si\")\n",
    "lattice = pmg.Lattice.cubic(5.431)\n",
    "silicon = pmg.Structure.from_spacegroup(\"Fd-3m\",lattice, [si], [[0, 0, 0]])"
   ]
  },
  {
   "cell_type": "code",
   "execution_count": 3,
   "metadata": {
    "collapsed": true
   },
   "outputs": [],
   "source": [
    "size = 256\n",
    "radius=1.5\n",
    "ediff = pc.ElectronDiffractionCalculator(300., 0.025)\n",
    "\n",
    "rotaxis = [0, 0, 1]\n",
    "thetas = np.arange(0, 45, 1)\n",
    "\n",
    "data_silicon = []\n",
    "for theta in thetas:\n",
    "    rot = RotationTransformation(rotaxis, theta)\n",
    "    sieg = rot.apply_transformation(silicon)\n",
    "    diff_dat = ediff.calculate_ed_data(sieg, radius)\n",
    "    dpi = diff_dat.as_signal(256, 0.03, 1.2)\n",
    "    data_silicon.append(dpi.data)\n",
    "    \n",
    "data = [data_silicon]\n",
    "test_data = pc.ElectronDiffraction(data)\n",
    "test_data.set_calibration(1.2/128)"
   ]
  },
  {
   "cell_type": "code",
   "execution_count": 77,
   "metadata": {
    "collapsed": true
   },
   "outputs": [],
   "source": [
    "test_data.plot()"
   ]
  },
  {
   "cell_type": "code",
   "execution_count": 4,
   "metadata": {
    "collapsed": true
   },
   "outputs": [],
   "source": [
    "rot_list = []\n",
    "nstep=119\n",
    "for i in np.arange(nstep):\n",
    "    theta = (i*59.5/(nstep-1))/180*pi\n",
    "    rot_list.append((theta, 0., 0.))"
   ]
  },
  {
   "cell_type": "code",
   "execution_count": 11,
   "metadata": {},
   "outputs": [
    {
     "data": {
      "text/plain": [
       "(0.44003004446467203, 0.0, 0.0)"
      ]
     },
     "execution_count": 11,
     "metadata": {},
     "output_type": "execute_result"
    }
   ],
   "source": [
    "rot_list[50]"
   ]
  },
  {
   "cell_type": "code",
   "execution_count": 5,
   "metadata": {},
   "outputs": [
    {
     "name": "stderr",
     "output_type": "stream",
     "text": [
      "                                                 \r"
     ]
    }
   ],
   "source": [
    "edc = pc.ElectronDiffractionCalculator(300, 0.025)\n",
    "diff_gen = pc.DiffractionLibraryGenerator(edc)\n",
    "struc_lib = dict()\n",
    "struc_lib['si'] = (silicon, rot_list)\n",
    "library = diff_gen.get_diffraction_library(struc_lib,\n",
    "                                            calibration=1.2/128,\n",
    "                                            reciprocal_radius=1.5,\n",
    "                                            representation='euler')"
   ]
  },
  {
   "cell_type": "code",
   "execution_count": 6,
   "metadata": {},
   "outputs": [
    {
     "data": {
      "application/vnd.jupyter.widget-view+json": {
       "model_id": "395f9d828b3b4360a513f2e76c4438b4",
       "version_major": 2,
       "version_minor": 0
      },
      "text/plain": [
       "A Jupyter Widget"
      ]
     },
     "metadata": {},
     "output_type": "display_data"
    },
    {
     "name": "stdout",
     "output_type": "stream",
     "text": [
      "\n"
     ]
    }
   ],
   "source": [
    "### Ground Truth\n",
    "indexer = IndexationGenerator(test_data, library)\n",
    "match_results = indexer.correlate()"
   ]
  },
  {
   "cell_type": "code",
   "execution_count": 16,
   "metadata": {
    "collapsed": true
   },
   "outputs": [],
   "source": [
    "radial_sims = {}\n",
    "for XZX in library['si']:\n",
    "    peaks_2D_data = library['si'][XZX].as_signal(256,0,1.2).data #basically a local\n",
    "    radial_sims[XZX] = radial_average(peaks_2D_data,center=[256/2,256/2],cython=False)"
   ]
  },
  {
   "cell_type": "code",
   "execution_count": 14,
   "metadata": {
    "collapsed": true
   },
   "outputs": [],
   "source": [
    "radial_averaged_data = test_data.map(radial_average,center=np.asarray([256/2,256/2]),cython=False,inplace=False, show_progressbar=False)"
   ]
  },
  {
   "cell_type": "code",
   "execution_count": 15,
   "metadata": {},
   "outputs": [
    {
     "data": {
      "text/plain": [
       "[<matplotlib.lines.Line2D at 0x7f9005e96be0>]"
      ]
     },
     "execution_count": 15,
     "metadata": {},
     "output_type": "execute_result"
    }
   ],
   "source": [
    "for XZX in radial_sims:\n",
    "    #plt.plot(radial_sims[XZX])\n",
    "    break\n",
    "plt.plot(radial_averaged_data.inav[0,0],color='k')\n",
    "plt.plot(radial_sims[(0.0,0.00,0.00)],color='r')\n",
    "plt.plot(radial_sims[rot_list[50]],color='b')"
   ]
  },
  {
   "cell_type": "code",
   "execution_count": 17,
   "metadata": {
    "collapsed": true
   },
   "outputs": [],
   "source": [
    "def mapable_library_matcher(dp_radial,dict_of_radial_patterns,n_scorer=5):\n",
    "    best_corr = [0]*n_scorer \n",
    "    best_corr_key = [None]*n_scorer\n",
    "    from pycrystem.utils import _correlate\n",
    "    for key in dict_of_radial_patterns:\n",
    "        radial_pattern_rotate = dict_of_radial_patterns[key]\n",
    "        correlation = _correlate(dp_radial,radial_pattern_rotate)\n",
    "        if correlation > np.min(best_corr):\n",
    "            best_corr[np.argmin(best_corr)] = correlation\n",
    "            best_corr_key[np.argmin(best_corr)] = key\n",
    "            \n",
    "    return best_corr,best_corr_key"
   ]
  },
  {
   "cell_type": "code",
   "execution_count": 18,
   "metadata": {},
   "outputs": [
    {
     "data": {
      "application/vnd.jupyter.widget-view+json": {
       "model_id": "3a9acafe505f453f969d7a8cd40d193c",
       "version_major": 2,
       "version_minor": 0
      },
      "text/plain": [
       "A Jupyter Widget"
      ]
     },
     "metadata": {},
     "output_type": "display_data"
    },
    {
     "name": "stdout",
     "output_type": "stream",
     "text": [
      "\n"
     ]
    }
   ],
   "source": [
    "alpha = radial_averaged_data.map(mapable_library_matcher,dict_of_radial_patterns=radial_sims,n_scorer=2,inplace=False)"
   ]
  },
  {
   "cell_type": "code",
   "execution_count": 20,
   "metadata": {},
   "outputs": [
    {
     "data": {
      "text/plain": [
       "([0.76828670512207153, 0.76824999083863821],\n",
       " [(0.18481261867516227, 0.0, 0.0), (0.299220430235977, 0.0, 0.0)])"
      ]
     },
     "execution_count": 20,
     "metadata": {},
     "output_type": "execute_result"
    }
   ],
   "source": [
    "alpha.inav[0]"
   ]
  },
  {
   "cell_type": "code",
   "execution_count": null,
   "metadata": {
    "collapsed": true
   },
   "outputs": [],
   "source": []
  }
 ],
 "metadata": {
  "kernelspec": {
   "display_name": "Python 3",
   "language": "python",
   "name": "python3"
  },
  "language_info": {
   "codemirror_mode": {
    "name": "ipython",
    "version": 3
   },
   "file_extension": ".py",
   "mimetype": "text/x-python",
   "name": "python",
   "nbconvert_exporter": "python",
   "pygments_lexer": "ipython3",
   "version": "3.6.2"
  }
 },
 "nbformat": 4,
 "nbformat_minor": 2
}
