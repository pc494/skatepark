{
 "cells": [
  {
   "cell_type": "markdown",
   "metadata": {},
   "source": [
    "This works off of\n",
    "https://github.com/pc494/pyxem/commit/48b6c6b8bb1445bcb1913bdc92b8b24a3fb1280a"
   ]
  },
  {
   "cell_type": "code",
   "execution_count": 1,
   "metadata": {
    "collapsed": true
   },
   "outputs": [],
   "source": [
    "%load_ext autoreload\n",
    "%autoreload 2"
   ]
  },
  {
   "cell_type": "code",
   "execution_count": 2,
   "metadata": {},
   "outputs": [
    {
     "name": "stderr",
     "output_type": "stream",
     "text": [
      "WARNING:hyperspy.api:The ipywidgets GUI elements are not available, probably because the hyperspy_gui_ipywidgets package is not installed.\n",
      "WARNING:hyperspy.api:The traitsui GUI elements are not available, probably because the hyperspy_gui_traitui package is not installed.\n"
     ]
    }
   ],
   "source": [
    "import pyxem as pxm\n",
    "import pymatgen as pmg\n",
    "from matplotlib import pyplot as plt\n",
    "import numpy as np\n",
    "from pyxem.utils.pyprismatic_io_utils import *\n",
    "from matplotlib import pyplot as plt\n",
    "import pyprismatic as pr\n",
    "import os\n",
    "%matplotlib tk"
   ]
  },
  {
   "cell_type": "markdown",
   "metadata": {},
   "source": [
    "First we set up the structure"
   ]
  },
  {
   "cell_type": "code",
   "execution_count": 3,
   "metadata": {
    "collapsed": true
   },
   "outputs": [],
   "source": [
    "E = pmg.Element(\"Pt\")\n",
    "cubic_lattice = pmg.Lattice.cubic(5)\n",
    "Cubic_P = pmg.Structure.from_spacegroup(195,cubic_lattice, [E], [[0, 0, 0]])\n",
    "ediff = pxm.ElectronDiffractionCalculator(300., 1/(40*2))"
   ]
  },
  {
   "cell_type": "code",
   "execution_count": 16,
   "metadata": {
    "collapsed": true
   },
   "outputs": [],
   "source": [
    "def load_default_params():\n",
    "    meta_params = {}\n",
    "    ### Computational\n",
    "    meta_params['save4DOutput'] = True\n",
    "    meta_params['save3DOutput'] = False\n",
    "    meta_params['sliceThickness'] = 1.0\n",
    "    meta_params['algorithm']='multislice'\n",
    "    ### STEM\n",
    "    delta = 1e-10 #only get one STEM pattern\n",
    "    meta_params['scanWindowXMin'] = 0.5-delta\n",
    "    meta_params['scanWindowXMax'] = 0.5+delta\n",
    "    meta_params['scanWindowYMin'] = 0.5-delta\n",
    "    meta_params['scanWindowYMax'] = 0.5+delta\n",
    "    ### Experimental\n",
    "    #meta_params['probeSemiangle'] = 0.01\n",
    "    #meta_params['alphaBeamMax'] = 0.015\n",
    "    meta_params['E0']=300e3\n",
    "    ### Sample\n",
    "    meta_params['tileX']=10\n",
    "    meta_params['tileY']=10\n",
    "    meta_params['tileZ']=50 #1000 kills you\n",
    "    meta_params['realspacePixelSizeX']=0.025\n",
    "    meta_params['realspacePixelSizeY']=0.025 #default is 0.1, smaller number more pixels\n",
    "    return meta_params"
   ]
  },
  {
   "cell_type": "code",
   "execution_count": 5,
   "metadata": {
    "collapsed": true
   },
   "outputs": [],
   "source": [
    "def prismatic_experiments(variable_names,list_of_values):\n",
    "    \"\"\"\n",
    "    variables_names: list\n",
    "    list_of_values : list of values, can't be used to vary two params, eg) X and Y must stay the same\n",
    "    \"\"\"\n",
    "    ### get defaults in\n",
    "    import os\n",
    "    diff_list = []\n",
    "    meta_params = load_default_params()\n",
    "    for variable in list_of_values:\n",
    "        try:\n",
    "            os.remove('PP_input.XYZ')\n",
    "        except FileNotFoundError:\n",
    "            pass\n",
    "        for i in np.arange(0,len(variable_names)):\n",
    "            meta_params[variable_names[i]] = variable\n",
    "        diff_dat_m = ediff.calculate_ed_data_dynamic(Cubic_P,delete_mode=False,prismatic_kwargs=meta_params)\n",
    "        diff_list.append(diff_dat_m)\n",
    "        print('One more simulation completed')\n",
    "    return diff_list"
   ]
  },
  {
   "cell_type": "code",
   "execution_count": 22,
   "metadata": {},
   "outputs": [
    {
     "name": "stderr",
     "output_type": "stream",
     "text": [
      "/home/pc494/anaconda3/lib/python3.6/site-packages/pyxem-0.5-py3.6-linux-x86_64.egg/pyxem/diffraction_generator.py:165: UserWarning: This functionality is a work in progress \n",
      "  warnings.warn(\"This functionality is a work in progress \")\n"
     ]
    },
    {
     "name": "stdout",
     "output_type": "stream",
     "text": [
      "One more simulation completed\n"
     ]
    }
   ],
   "source": [
    "energy_list = [80e3,160e3,300e3]\n",
    "in_plane_list = [5,10,20,30,50]\n",
    "out_plane_list = [40]\n",
    "\n",
    "#energy = prismatic_experiments(['E0'],energy_list)\n",
    "#in_plane = prismatic_experiments(['tileX','tileY'],in_plane_list)\n",
    "#out_plane = prismatic_experiments(['tileZ'],out_plane_list)"
   ]
  },
  {
   "cell_type": "code",
   "execution_count": 64,
   "metadata": {},
   "outputs": [
    {
     "name": "stderr",
     "output_type": "stream",
     "text": [
      "/home/pc494/anaconda3/lib/python3.6/site-packages/ipykernel_launcher.py:3: RuntimeWarning: divide by zero encountered in log\n",
      "  This is separate from the ipykernel package so we can avoid doing imports until\n"
     ]
    }
   ],
   "source": [
    "for i in np.arange(0,len(energy_list)):\n",
    "    plt.figure()\n",
    "    plt.imshow(np.log(energy[i][0,0]))\n",
    "    plt.title('E0 = ' + str(energy_list[i]/1000) + ' keV')\n",
    "    plt.show()"
   ]
  },
  {
   "cell_type": "code",
   "execution_count": 89,
   "metadata": {
    "collapsed": true
   },
   "outputs": [],
   "source": [
    "for i in np.arange(0,len(in_plane_list)):\n",
    "    plt.figure()\n",
    "    plt.imshow(in_plane[i][0,0])\n",
    "    plt.title('in_plane = ' + str(in_plane_list[i]))\n",
    "    plt.show()"
   ]
  },
  {
   "cell_type": "code",
   "execution_count": 23,
   "metadata": {},
   "outputs": [
    {
     "name": "stderr",
     "output_type": "stream",
     "text": [
      "/home/pc494/anaconda3/lib/python3.6/site-packages/ipykernel_launcher.py:3: RuntimeWarning: divide by zero encountered in log\n",
      "  This is separate from the ipykernel package so we can avoid doing imports until\n"
     ]
    }
   ],
   "source": [
    "for i in np.arange(0,len(out_plane_list)):\n",
    "    plt.figure()\n",
    "    plt.imshow(np.log(out_plane[i][0,0]))\n",
    "    plt.title('out_plane = ' + str(out_plane_list[i]))\n",
    "    plt.show()\n",
    "    #dp = ElectronDiffraction((out_plane[i][0,0]))\n",
    "    #dp.set_calibration(1/2480)\n",
    "    #dp.plot()"
   ]
  },
  {
   "cell_type": "code",
   "execution_count": 99,
   "metadata": {},
   "outputs": [
    {
     "data": {
      "text/plain": [
       "504.0"
      ]
     },
     "execution_count": 99,
     "metadata": {},
     "output_type": "execute_result"
    }
   ],
   "source": [
    "np.sqrt(np.sum(out_plane[2][0,0]>0))"
   ]
  },
  {
   "cell_type": "code",
   "execution_count": 82,
   "metadata": {
    "collapsed": true
   },
   "outputs": [],
   "source": [
    "from pyxem import ElectronDiffraction\n",
    "\n",
    "dp = ElectronDiffraction((energy[0][0,0]))\n",
    "dp.set_calibration(1/2480)\n",
    "dp.plot()"
   ]
  },
  {
   "cell_type": "code",
   "execution_count": 19,
   "metadata": {
    "collapsed": true
   },
   "outputs": [],
   "source": [
    "plt.close('all')"
   ]
  },
  {
   "cell_type": "markdown",
   "metadata": {},
   "source": [
    "Below is the basis for the first unit test. That making a supercell in pymatgen is sa good as doing so in pyprismatic."
   ]
  },
  {
   "cell_type": "code",
   "execution_count": null,
   "metadata": {
    "collapsed": true
   },
   "outputs": [],
   "source": [
    "os.remove('PP_input.XYZ')\n",
    "diff_dat_them = ediff.calculate_ed_data_dynamic(Cubic_P,delete_mode=False,prismatic_kwargs=meta_params)\n",
    "\n",
    "Cubic_P.make_supercell([30,30,100])\n",
    "meta_params['tileX']=1\n",
    "meta_params['tileY']=1\n",
    "meta_params['tileZ']=1\n",
    "\n",
    "os.remove('PP_input.XYZ')\n",
    "diff_dat_us = ediff.calculate_ed_data_dynamic(Cubic_P,delete_mode=False,prismatic_kwargs=meta_params)"
   ]
  },
  {
   "cell_type": "code",
   "execution_count": 69,
   "metadata": {},
   "outputs": [
    {
     "data": {
      "text/plain": [
       "True"
      ]
     },
     "execution_count": 69,
     "metadata": {},
     "output_type": "execute_result"
    }
   ],
   "source": [
    "plt.figure()\n",
    "plt.imshow(diff_dat_them[0,0])\n",
    "plt.plot()\n",
    "plt.figure()\n",
    "plt.imshow(diff_dat_us[0,0])\n",
    "\n",
    "(diff_dat_them == diff_dat_us).all()"
   ]
  },
  {
   "cell_type": "code",
   "execution_count": null,
   "metadata": {
    "collapsed": true
   },
   "outputs": [],
   "source": []
  }
 ],
 "metadata": {
  "kernelspec": {
   "display_name": "Python 3",
   "language": "python",
   "name": "python3"
  },
  "language_info": {
   "codemirror_mode": {
    "name": "ipython",
    "version": 3
   },
   "file_extension": ".py",
   "mimetype": "text/x-python",
   "name": "python",
   "nbconvert_exporter": "python",
   "pygments_lexer": "ipython3",
   "version": "3.6.2"
  }
 },
 "nbformat": 4,
 "nbformat_minor": 2
}
