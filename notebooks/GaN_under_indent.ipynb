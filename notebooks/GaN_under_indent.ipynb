{
 "cells": [
  {
   "cell_type": "code",
   "execution_count": 1,
   "metadata": {
    "collapsed": true
   },
   "outputs": [],
   "source": [
    "%load_ext autoreload\n",
    "%autoreload 2"
   ]
  },
  {
   "cell_type": "code",
   "execution_count": 2,
   "metadata": {},
   "outputs": [
    {
     "name": "stderr",
     "output_type": "stream",
     "text": [
      "WARNING:hyperspy.api:The ipywidgets GUI elements are not available, probably because the hyperspy_gui_ipywidgets package is not installed.\n",
      "WARNING:hyperspy.api:The traitsui GUI elements are not available, probably because the hyperspy_gui_traitui package is not installed.\n"
     ]
    }
   ],
   "source": [
    "%matplotlib tk\n",
    "import pyxem as pxm\n",
    "import numpy as np\n",
    "import hyperspy.api as hs\n",
    "import pymatgen as pmg\n",
    "from matplotlib import pyplot as plt"
   ]
  },
  {
   "cell_type": "code",
   "execution_count": 33,
   "metadata": {
    "collapsed": true
   },
   "outputs": [],
   "source": [
    "dp = pxm.load('/home/pc494/Documents/data/GaN_intro/GaN_indent.blo')"
   ]
  },
  {
   "cell_type": "code",
   "execution_count": 34,
   "metadata": {
    "collapsed": true
   },
   "outputs": [],
   "source": [
    "dp = pxm.ElectronDiffraction(dp)"
   ]
  },
  {
   "cell_type": "code",
   "execution_count": 37,
   "metadata": {},
   "outputs": [
    {
     "data": {
      "text/plain": [
       "├── General\n",
       "│   └── title = \n",
       "└── Signal\n",
       "    ├── binned = False\n",
       "    └── signal_type = electron_diffraction"
      ]
     },
     "execution_count": 37,
     "metadata": {},
     "output_type": "execute_result"
    }
   ],
   "source": [
    "dp.metadata"
   ]
  },
  {
   "cell_type": "code",
   "execution_count": 6,
   "metadata": {
    "collapsed": true
   },
   "outputs": [],
   "source": [
    "#for calibration\n",
    "#dp.axes_manager\n",
    "dp.plot()"
   ]
  },
  {
   "cell_type": "code",
   "execution_count": 8,
   "metadata": {},
   "outputs": [
    {
     "data": {
      "application/vnd.jupyter.widget-view+json": {
       "model_id": "a27ad3796e144f3693431423090ace76",
       "version_major": 2,
       "version_minor": 0
      },
      "text/plain": [
       "A Jupyter Widget"
      ]
     },
     "metadata": {},
     "output_type": "display_data"
    },
    {
     "name": "stdout",
     "output_type": "stream",
     "text": [
      "\n"
     ]
    }
   ],
   "source": [
    "#dp = dp.inav[301:325-20,65:89-20]\n",
    "dp.apply_affine_transformation(np.array([[0.99,0,0],\n",
    "                                         [0,0.69,0],\n",
    "                                         [0,0,1]]));"
   ]
  },
  {
   "cell_type": "code",
   "execution_count": 25,
   "metadata": {
    "collapsed": true
   },
   "outputs": [],
   "source": [
    "dp.set_calibration(1/8)\n",
    "dp.plot()"
   ]
  },
  {
   "cell_type": "code",
   "execution_count": 9,
   "metadata": {
    "collapsed": true
   },
   "outputs": [],
   "source": [
    "Ga = pmg.Element(\"Ga\")\n",
    "N = pmg.Element(\"N\")\n",
    "lattice = pmg.Lattice.hexagonal(3.189,5.185)"
   ]
  },
  {
   "cell_type": "code",
   "execution_count": 10,
   "metadata": {
    "collapsed": true
   },
   "outputs": [],
   "source": [
    "plt.close('all')"
   ]
  },
  {
   "cell_type": "code",
   "execution_count": 11,
   "metadata": {
    "collapsed": true
   },
   "outputs": [],
   "source": [
    "u = (1/8)*2\n",
    "structure = pmg.Structure.from_spacegroup(168,lattice, [Ga,Ga,N,N], [[0, 0, 0],[2/3,1/3,1/2],[0,0,0.5+u],[2/3,1/3,u]])\n",
    "\n",
    "structure.make_supercell([3,3,1],to_unit_cell=False)"
   ]
  },
  {
   "cell_type": "code",
   "execution_count": 12,
   "metadata": {},
   "outputs": [
    {
     "name": "stdout",
     "output_type": "stream",
     "text": [
      "[ 0.    1.3   2.59  3.89]\n"
     ]
    }
   ],
   "source": [
    "d = structure.as_dict()\n",
    "plan_view_points = []\n",
    "sp = []\n",
    "for x in d['sites']:\n",
    "    plan_view_points.append(np.abs((np.round(x['xyz'],2))))\n",
    "    sp.append(x['label']=='Ga')\n",
    "\n",
    "sp = np.asarray([float(x) for x in sp])\n",
    "pvp = np.asarray(plan_view_points)\n",
    "print(np.unique(pvp[:,2]))\n",
    "for layer in np.unique(pvp[:,2]):\n",
    "    pv_layer = pvp[pvp[:,2]==layer]\n",
    "    sp_layer = sp[pvp[:,2]==layer]\n",
    "    col = 'b'\n",
    "    if np.sum(sp_layer) > 0:\n",
    "        col = 'r'\n",
    "    f = plt.figure()\n",
    "    ax = f.add_subplot(1, 1, 1)\n",
    "    ax.set_aspect(aspect='equal')\n",
    "    plt.title(str(layer))\n",
    "    plt.scatter(pv_layer[:,0],pv_layer[:,1],marker='o',c=col)\n",
    "    plt.show()"
   ]
  },
  {
   "cell_type": "code",
   "execution_count": 13,
   "metadata": {
    "collapsed": true
   },
   "outputs": [],
   "source": [
    "plt.close('all')"
   ]
  },
  {
   "cell_type": "code",
   "execution_count": 14,
   "metadata": {
    "collapsed": true
   },
   "outputs": [],
   "source": [
    "from pyxem.utils.sim_utils import equispaced_so3_grid\n",
    "\n",
    "alpha = equispaced_so3_grid(90,180,90,5)\n",
    "rot_list = alpha.tolist()"
   ]
  },
  {
   "cell_type": "code",
   "execution_count": 15,
   "metadata": {
    "collapsed": true
   },
   "outputs": [],
   "source": [
    "alphas = np.linspace(1.10,1.3,5)\n",
    "betas = np.linspace(1.85,1.90,1)\n",
    "gammas = np.linspace(-2.0,-1.7,1)"
   ]
  },
  {
   "cell_type": "code",
   "execution_count": 16,
   "metadata": {
    "collapsed": true
   },
   "outputs": [],
   "source": [
    "rot_list = np.array(np.meshgrid(alphas, betas, gammas)).T.reshape(-1,3).tolist()"
   ]
  },
  {
   "cell_type": "code",
   "execution_count": 26,
   "metadata": {
    "collapsed": true
   },
   "outputs": [],
   "source": [
    "edc = pxm.ElectronDiffractionCalculator(300, 0.025)\n",
    "diff_gen = pxm.DiffractionLibraryGenerator(edc)\n",
    "struc_lib = dict()\n",
    "struc_lib[\"GaN\"] = (structure, rot_list)\n",
    "calib = 8"
   ]
  },
  {
   "cell_type": "code",
   "execution_count": 27,
   "metadata": {},
   "outputs": [
    {
     "name": "stderr",
     "output_type": "stream",
     "text": [
      "                                     \r"
     ]
    }
   ],
   "source": [
    "library = diff_gen.get_diffraction_library(struc_lib,\n",
    "                                            calibration=calib,\n",
    "                                            reciprocal_radius=1.4,\n",
    "                                            representation='euler')"
   ]
  },
  {
   "cell_type": "code",
   "execution_count": 28,
   "metadata": {},
   "outputs": [
    {
     "data": {
      "application/vnd.jupyter.widget-view+json": {
       "model_id": "37a45eef40c84e359e0ab27df4a61f22",
       "version_major": 2,
       "version_minor": 0
      },
      "text/plain": [
       "A Jupyter Widget"
      ]
     },
     "metadata": {},
     "output_type": "display_data"
    },
    {
     "name": "stdout",
     "output_type": "stream",
     "text": [
      "\n"
     ]
    }
   ],
   "source": [
    "from pyxem.indexation_generator import IndexationGenerator\n",
    "indexer = IndexationGenerator(dp,library)\n",
    "match_results = indexer.correlate(n_largest=5)"
   ]
  },
  {
   "cell_type": "code",
   "execution_count": 29,
   "metadata": {},
   "outputs": [
    {
     "data": {
      "text/plain": [
       "array([[ 0.       ,  1.1      ,  1.85     , -2.       ,  0.0282874],\n",
       "       [ 0.       ,  1.25     ,  1.85     , -2.       ,  0.0282874],\n",
       "       [ 0.       ,  1.2      ,  1.85     , -2.       ,  0.0282874],\n",
       "       [ 0.       ,  1.3      ,  1.85     , -2.       ,  0.0282874],\n",
       "       [ 0.       ,  1.15     ,  1.85     , -2.       ,  0.0282874]])"
      ]
     },
     "execution_count": 29,
     "metadata": {},
     "output_type": "execute_result"
    }
   ],
   "source": [
    "match_results.inav[0,0].data #are these angles in degrees?"
   ]
  },
  {
   "cell_type": "code",
   "execution_count": 30,
   "metadata": {},
   "outputs": [
    {
     "data": {
      "application/vnd.jupyter.widget-view+json": {
       "model_id": "52e2a49cbd1c47579e92d7eb11d2a17f",
       "version_major": 2,
       "version_minor": 0
      },
      "text/plain": [
       "A Jupyter Widget"
      ]
     },
     "metadata": {},
     "output_type": "display_data"
    },
    {
     "name": "stdout",
     "output_type": "stream",
     "text": [
      "\n"
     ]
    }
   ],
   "source": [
    "from pyxem.utils.sim_utils import peaks_from_best_template\n",
    "from pyxem.utils.plot import generate_marker_inputs_from_peaks\n",
    "\n",
    "peaks= match_results.map(peaks_from_best_template,phase=['GaN'],library=library,inplace=False)\n",
    "mmx,mmy = generate_marker_inputs_from_peaks(peaks)\n",
    "#mmx = np.add(mmx/calib,72*(0.007603))\n",
    "#mmy = np.add(mmy/calib,72*(0.007603))"
   ]
  },
  {
   "cell_type": "code",
   "execution_count": 31,
   "metadata": {
    "collapsed": true
   },
   "outputs": [],
   "source": [
    "dp.plot(cmap='viridis') \n",
    "for mx,my in zip(mmx,mmy):\n",
    "    m = hs.markers.point(x=mx,y=my,color='yellow',marker='x')\n",
    "    dp.add_marker(m,plot_marker=True,permanent=True)"
   ]
  },
  {
   "cell_type": "code",
   "execution_count": 64,
   "metadata": {},
   "outputs": [
    {
     "data": {
      "text/plain": [
       "array([[ 0.92590655,  0.92990703],\n",
       "       [ 1.06440986, -0.58004552],\n",
       "       [ 0.84629445, -0.09959332],\n",
       "       [ 0.46295328,  0.46495352],\n",
       "       [ 0.07961211,  1.02950035],\n",
       "       [ 0.60145658, -1.04499904],\n",
       "       [ 0.38334117, -0.56454684],\n",
       "       [ 0.        ,  0.        ],\n",
       "       [-0.38334117,  0.56454684],\n",
       "       [-0.76668234,  1.12909368],\n",
       "       [-0.46295328, -0.46495352],\n",
       "       [-0.84629445,  0.09959332],\n",
       "       [-1.22963561,  0.66414016],\n",
       "       [-0.92590655, -0.92990703],\n",
       "       [-1.30924772, -0.36536019]])"
      ]
     },
     "execution_count": 64,
     "metadata": {},
     "output_type": "execute_result"
    }
   ],
   "source": [
    "peaks.inav[0,0].data"
   ]
  },
  {
   "cell_type": "code",
   "execution_count": null,
   "metadata": {
    "collapsed": true
   },
   "outputs": [],
   "source": [
    "# Is the problem that our rotation isn't through the middle of the direct beam?"
   ]
  }
 ],
 "metadata": {
  "kernelspec": {
   "display_name": "Python 3",
   "language": "python",
   "name": "python3"
  },
  "language_info": {
   "codemirror_mode": {
    "name": "ipython",
    "version": 3
   },
   "file_extension": ".py",
   "mimetype": "text/x-python",
   "name": "python",
   "nbconvert_exporter": "python",
   "pygments_lexer": "ipython3",
   "version": "3.6.2"
  }
 },
 "nbformat": 4,
 "nbformat_minor": 2
}
