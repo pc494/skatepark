{
 "cells": [
  {
   "cell_type": "code",
   "execution_count": 20,
   "metadata": {},
   "outputs": [],
   "source": [
    "import pyxem as pxm\n",
    "import pymatgen as pmg\n",
    "import numpy as np\n",
    "from pyxem.generators.indexation_generator import IndexationGenerator\n",
    "from pyxem.utils.plot import generate_marker_inputs_from_peaks\n",
    "from pyxem.utils.sim_utils import peaks_from_best_template\n",
    "import hyperspy.api as hs\n",
    "%matplotlib tk"
   ]
  },
  {
   "cell_type": "code",
   "execution_count": 21,
   "metadata": {
    "collapsed": true
   },
   "outputs": [],
   "source": [
    "if False:\n",
    "    sample = pxm.load('/home/pc494/Documents/data/cBN/160401_MultipleZoneAxes/160401_03.blo')\n",
    "    sample = sample.inav[50:-60,15:130]"
   ]
  },
  {
   "cell_type": "code",
   "execution_count": 22,
   "metadata": {},
   "outputs": [
    {
     "name": "stdout",
     "output_type": "stream",
     "text": [
      "<Signal2D, title: , dimensions: (115, 115|512, 512)>\n"
     ]
    }
   ],
   "source": [
    "print(sample)\n",
    "half_side_length = (512/2)"
   ]
  },
  {
   "cell_type": "code",
   "execution_count": 23,
   "metadata": {
    "collapsed": true
   },
   "outputs": [],
   "source": [
    "dp = pxm.ElectronDiffraction(sample.inav[:10,:10])"
   ]
  },
  {
   "cell_type": "code",
   "execution_count": 24,
   "metadata": {},
   "outputs": [
    {
     "data": {
      "application/vnd.jupyter.widget-view+json": {
       "model_id": "eebfca22e86347369bdc3acf4bbf5b17",
       "version_major": 2,
       "version_minor": 0
      },
      "text/plain": [
       "A Jupyter Widget"
      ]
     },
     "metadata": {},
     "output_type": "display_data"
    },
    {
     "name": "stdout",
     "output_type": "stream",
     "text": [
      "\n"
     ]
    }
   ],
   "source": [
    "dp.apply_affine_transformation(np.array([[0.99,0,0],\n",
    "                                         [0,0.69,0],\n",
    "                                         [0,0,1]]))\n"
   ]
  },
  {
   "cell_type": "code",
   "execution_count": 25,
   "metadata": {
    "collapsed": true
   },
   "outputs": [],
   "source": [
    "dp.set_calibration(1/half_side_length)"
   ]
  },
  {
   "cell_type": "code",
   "execution_count": 26,
   "metadata": {
    "collapsed": true
   },
   "outputs": [],
   "source": [
    "a = 3.615\n",
    "B = pmg.Element(\"B\")\n",
    "N = pmg.Element(\"N\")\n",
    "lattice = pmg.Lattice.cubic(a)\n",
    "structure = pmg.Structure.from_spacegroup(\"F-43m\",lattice, [B,N], [[0, 0, 0],[0.25,0.25,0.25]])"
   ]
  },
  {
   "cell_type": "code",
   "execution_count": 27,
   "metadata": {
    "collapsed": true
   },
   "outputs": [],
   "source": [
    "def build_structure_lib(structure,rot_list):\n",
    "    struc_lib = dict()\n",
    "    struc_lib[\"A\"] = (structure,rot_list)\n",
    "    return struc_lib    \n",
    "\n",
    "def build_linear_grid_in_euler(alpha_max,beta_max,gamma_max,resolution):\n",
    "    a = np.arange(0,alpha_max,step=resolution)\n",
    "    b = np.arange(0,beta_max,step=resolution)\n",
    "    c = np.arange(0,gamma_max,step=resolution)\n",
    "    from itertools import product\n",
    "    return list(product(a,b,c))"
   ]
  },
  {
   "cell_type": "code",
   "execution_count": 28,
   "metadata": {},
   "outputs": [
    {
     "name": "stderr",
     "output_type": "stream",
     "text": [
      "                                                      \r"
     ]
    }
   ],
   "source": [
    "edc = pxm.DiffractionGenerator(300, 5e-2)\n",
    "diff_gen = pxm.DiffractionLibraryGenerator(edc)\n",
    "rot_list = build_linear_grid_in_euler(90,180,90,5) \n",
    "struc_lib = build_structure_lib(structure,rot_list)\n",
    "library = diff_gen.get_diffraction_library(struc_lib,\n",
    "                                           calibration=1/half_side_length,\n",
    "                                           reciprocal_radius=0.6,\n",
    "                                           half_shape=(half_side_length,half_side_length),\n",
    "                                           representation='euler',\n",
    "                                           with_direct_beam=False)"
   ]
  },
  {
   "cell_type": "code",
   "execution_count": 29,
   "metadata": {},
   "outputs": [
    {
     "data": {
      "application/vnd.jupyter.widget-view+json": {
       "model_id": "1c1a05eb613a4390b752f527f5d8080a",
       "version_major": 2,
       "version_minor": 0
      },
      "text/plain": [
       "A Jupyter Widget"
      ]
     },
     "metadata": {},
     "output_type": "display_data"
    },
    {
     "name": "stdout",
     "output_type": "stream",
     "text": [
      "\n"
     ]
    }
   ],
   "source": [
    "indexer = IndexationGenerator(dp,library)\n",
    "match_results = indexer.correlate()"
   ]
  },
  {
   "cell_type": "code",
   "execution_count": 32,
   "metadata": {},
   "outputs": [
    {
     "data": {
      "application/vnd.jupyter.widget-view+json": {
       "model_id": "3ec6870c2ffe411fbb93d2ac59016c01",
       "version_major": 2,
       "version_minor": 0
      },
      "text/plain": [
       "A Jupyter Widget"
      ]
     },
     "metadata": {},
     "output_type": "display_data"
    },
    {
     "name": "stdout",
     "output_type": "stream",
     "text": [
      "\n"
     ]
    }
   ],
   "source": [
    "peaks = match_results.map(peaks_from_best_template,phase=[\"A\"],library=library,inplace=False)\n",
    "mmx,mmy = generate_marker_inputs_from_peaks(peaks)\n",
    "dp.plot(cmap='viridis')\n",
    "for mx,my in zip(mmx,mmy):\n",
    "    ## THERE IS A GOTCHA HERE DUE TO WEAK REFLECTION\n",
    "    m = hs.markers.point(x=mx,y=my,color='red',marker='x') #see visual test\n",
    "    dp.add_marker(m,plot_marker=True,permanent=True)"
   ]
  },
  {
   "cell_type": "code",
   "execution_count": null,
   "metadata": {
    "collapsed": true
   },
   "outputs": [],
   "source": []
  }
 ],
 "metadata": {
  "kernelspec": {
   "display_name": "Python 3",
   "language": "python",
   "name": "python3"
  },
  "language_info": {
   "codemirror_mode": {
    "name": "ipython",
    "version": 3
   },
   "file_extension": ".py",
   "mimetype": "text/x-python",
   "name": "python",
   "nbconvert_exporter": "python",
   "pygments_lexer": "ipython3",
   "version": "3.6.2"
  }
 },
 "nbformat": 4,
 "nbformat_minor": 2
}
