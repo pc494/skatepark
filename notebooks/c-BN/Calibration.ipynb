{
 "cells": [
  {
   "cell_type": "code",
   "execution_count": 1,
   "metadata": {},
   "outputs": [
    {
     "name": "stderr",
     "output_type": "stream",
     "text": [
      "WARNING:hyperspy.api:The ipywidgets GUI elements are not available, probably because the hyperspy_gui_ipywidgets package is not installed.\n",
      "WARNING:hyperspy.api:The traitsui GUI elements are not available, probably because the hyperspy_gui_traitui package is not installed.\n"
     ]
    }
   ],
   "source": [
    "import pyxem as pxm\n",
    "import pymatgen as pmg\n",
    "import numpy as np\n",
    "from pyxem.generators.indexation_generator import IndexationGenerator\n",
    "from pyxem.utils.plot import generate_marker_inputs_from_peaks\n",
    "from pyxem.utils.sim_utils import peaks_from_best_template\n",
    "import hyperspy.api as hs\n",
    "%matplotlib tk"
   ]
  },
  {
   "cell_type": "code",
   "execution_count": 2,
   "metadata": {
    "collapsed": true
   },
   "outputs": [],
   "source": [
    "if True:\n",
    "    sample = pxm.load('/home/pc494/Documents/data/cBN/160401_MultipleZoneAxes/160401_03.blo')\n",
    "    #sample = sample.inav[50:-60,15:130]\n",
    "    \n",
    "half_side_length = (512/2)"
   ]
  },
  {
   "cell_type": "code",
   "execution_count": 3,
   "metadata": {},
   "outputs": [
    {
     "data": {
      "application/vnd.jupyter.widget-view+json": {
       "model_id": "cb985ff5eb034c4dadfc0e2c0f0a6b0e",
       "version_major": 2,
       "version_minor": 0
      },
      "text/plain": [
       "A Jupyter Widget"
      ]
     },
     "metadata": {},
     "output_type": "display_data"
    },
    {
     "name": "stdout",
     "output_type": "stream",
     "text": [
      "\n"
     ]
    },
    {
     "data": {
      "application/vnd.jupyter.widget-view+json": {
       "model_id": "c472dab72e864ba9abb47426f4dc4cea",
       "version_major": 2,
       "version_minor": 0
      },
      "text/plain": [
       "A Jupyter Widget"
      ]
     },
     "metadata": {},
     "output_type": "display_data"
    },
    {
     "name": "stdout",
     "output_type": "stream",
     "text": [
      "\n"
     ]
    },
    {
     "data": {
      "application/vnd.jupyter.widget-view+json": {
       "model_id": "2227108bd14b489f8f0788ff7031957a",
       "version_major": 2,
       "version_minor": 0
      },
      "text/plain": [
       "A Jupyter Widget"
      ]
     },
     "metadata": {},
     "output_type": "display_data"
    },
    {
     "name": "stdout",
     "output_type": "stream",
     "text": [
      "\n"
     ]
    }
   ],
   "source": [
    "## get an undeformed section\n",
    "dp = pxm.ElectronDiffraction(sample.inav[13:18,102:107])\n",
    "\n",
    "#CORRECTING FOR CAMERA\n",
    "dp.apply_affine_transformation(np.array([[0.99,0,0],\n",
    "                                         [0,0.69,0],\n",
    "                                         [0,0,1]]))\n",
    "#CORRECTING FOR BEING OFF CENTER\n",
    "dp.get_direct_beam_position(method='blur',sigma=10,progress_bar=False) #checking centers, also BUG!\n",
    "dp.apply_affine_transformation(D=np.array([[1,0,0],\n",
    "                                           [0,1,3],\n",
    "                                           [0,0,1]]))"
   ]
  },
  {
   "cell_type": "code",
   "execution_count": 4,
   "metadata": {
    "collapsed": true
   },
   "outputs": [],
   "source": [
    "#dp.plot()"
   ]
  },
  {
   "cell_type": "code",
   "execution_count": 5,
   "metadata": {
    "collapsed": true
   },
   "outputs": [],
   "source": [
    "pixel_distance = 79.6# np.sqrt(50**2 + 61.7**2)"
   ]
  },
  {
   "cell_type": "code",
   "execution_count": 6,
   "metadata": {
    "collapsed": true
   },
   "outputs": [],
   "source": [
    "theoretical_distance = 1/np.sqrt((3.615**2)/(8))"
   ]
  },
  {
   "cell_type": "code",
   "execution_count": 9,
   "metadata": {
    "collapsed": true
   },
   "outputs": [],
   "source": [
    "dp.set_calibration(theoretical_distance/pixel_distance)"
   ]
  },
  {
   "cell_type": "code",
   "execution_count": 10,
   "metadata": {
    "collapsed": true
   },
   "outputs": [],
   "source": [
    "a = 3.615\n",
    "B = pmg.Element(\"B\")\n",
    "N = pmg.Element(\"N\")\n",
    "lattice = pmg.Lattice.cubic(a)\n",
    "structure = pmg.Structure.from_spacegroup(\"F-43m\",lattice, [B,N], [[0, 0, 0],[0.25,0.25,0.25]])"
   ]
  },
  {
   "cell_type": "code",
   "execution_count": 11,
   "metadata": {
    "collapsed": true
   },
   "outputs": [],
   "source": [
    "def build_structure_lib(structure,rot_list):\n",
    "    struc_lib = dict()\n",
    "    struc_lib[\"A\"] = (structure,rot_list)\n",
    "    return struc_lib    \n",
    "\n",
    "def build_linear_grid_in_euler(alpha_min,alpha_max,beta_min,beta_max,gamma_min,gamma_max,resolution):\n",
    "    a = np.arange(alpha_min,alpha_max,step=resolution)\n",
    "    b = np.arange(beta_min,beta_max,step=resolution)\n",
    "    c = np.arange(gamma_min,gamma_max,step=resolution)\n",
    "    from itertools import product\n",
    "    return list(product(a,b,c))"
   ]
  },
  {
   "cell_type": "code",
   "execution_count": 12,
   "metadata": {},
   "outputs": [
    {
     "name": "stderr",
     "output_type": "stream",
     "text": [
      "                                                        \r"
     ]
    }
   ],
   "source": [
    "edc = pxm.DiffractionGenerator(300, 5e-2)\n",
    "diff_gen = pxm.DiffractionLibraryGenerator(edc)\n",
    "rot_list = build_linear_grid_in_euler(0,90,0,90,0,90,5) \n",
    "struc_lib = build_structure_lib(structure,rot_list)\n",
    "library = diff_gen.get_diffraction_library(struc_lib,\n",
    "                                           calibration=theoretical_distance/pixel_distance,\n",
    "                                           reciprocal_radius=1.5,\n",
    "                                           half_shape=(half_side_length,half_side_length),\n",
    "                                           representation='euler',\n",
    "                                           with_direct_beam=False)"
   ]
  },
  {
   "cell_type": "code",
   "execution_count": 13,
   "metadata": {},
   "outputs": [
    {
     "data": {
      "application/vnd.jupyter.widget-view+json": {
       "model_id": "8b8547a206514fbbaddf20a57ef7aa20",
       "version_major": 2,
       "version_minor": 0
      },
      "text/plain": [
       "A Jupyter Widget"
      ]
     },
     "metadata": {},
     "output_type": "display_data"
    }
   ],
   "source": [
    "indexer = IndexationGenerator(dp,library)\n",
    "match_results = indexer.correlate()"
   ]
  },
  {
   "cell_type": "code",
   "execution_count": 14,
   "metadata": {},
   "outputs": [
    {
     "data": {
      "application/vnd.jupyter.widget-view+json": {
       "model_id": "fd10df7ed77e496a82191d31814f483a",
       "version_major": 2,
       "version_minor": 0
      },
      "text/plain": [
       "A Jupyter Widget"
      ]
     },
     "metadata": {},
     "output_type": "display_data"
    }
   ],
   "source": [
    "peaks = match_results.map(peaks_from_best_template,phase=[\"A\"],library=library,inplace=False)\n",
    "mmx,mmy = generate_marker_inputs_from_peaks(peaks)\n",
    "dp.plot(cmap='viridis')\n",
    "for mx,my in zip(mmx,mmy):\n",
    "    m = hs.markers.point(x=mx,y=my,color='yellow',marker='x') #see visual test\n",
    "    dp.add_marker(m,plot_marker=True,permanent=True)"
   ]
  },
  {
   "cell_type": "code",
   "execution_count": 18,
   "metadata": {},
   "outputs": [
    {
     "data": {
      "text/plain": [
       "array([[  0.        ,  26.        ,  65.        ,  84.        ,\n",
       "          1.15082964],\n",
       "       [  0.        ,  25.        ,  87.        ,  84.        ,\n",
       "          1.13752023],\n",
       "       [  0.        ,  26.        ,  65.        ,  73.        ,   1.1274638 ],\n",
       "       [  0.        ,  25.        ,  87.        ,  73.        ,\n",
       "          1.12699677],\n",
       "       [  0.        ,   3.        ,  87.        ,  84.        ,\n",
       "          1.12623112]])"
      ]
     },
     "execution_count": 18,
     "metadata": {},
     "output_type": "execute_result"
    }
   ],
   "source": [
    "match_results.inav[0,0].data"
   ]
  },
  {
   "cell_type": "code",
   "execution_count": 16,
   "metadata": {},
   "outputs": [
    {
     "ename": "KeyError",
     "evalue": "(26, 180, 40)",
     "output_type": "error",
     "traceback": [
      "\u001b[0;31m---------------------------------------------------------------------------\u001b[0m",
      "\u001b[0;31mKeyError\u001b[0m                                  Traceback (most recent call last)",
      "\u001b[0;32m<ipython-input-16-a10cfa6a45eb>\u001b[0m in \u001b[0;36m<module>\u001b[0;34m()\u001b[0m\n\u001b[0;32m----> 1\u001b[0;31m \u001b[0mp\u001b[0m \u001b[0;34m=\u001b[0m \u001b[0mlibrary\u001b[0m\u001b[0;34m[\u001b[0m\u001b[0;34m\"A\"\u001b[0m\u001b[0;34m]\u001b[0m\u001b[0;34m[\u001b[0m\u001b[0;34m(\u001b[0m\u001b[0;36m26\u001b[0m\u001b[0;34m,\u001b[0m\u001b[0;36m180\u001b[0m\u001b[0;34m,\u001b[0m\u001b[0;36m40\u001b[0m\u001b[0;34m)\u001b[0m\u001b[0;34m]\u001b[0m\u001b[0;34m[\u001b[0m\u001b[0;34m'Sim'\u001b[0m\u001b[0;34m]\u001b[0m\u001b[0;34m\u001b[0m\u001b[0m\n\u001b[0m\u001b[1;32m      2\u001b[0m \u001b[0mp\u001b[0m\u001b[0;34m.\u001b[0m\u001b[0mindices\u001b[0m\u001b[0;34m\u001b[0m\u001b[0m\n",
      "\u001b[0;31mKeyError\u001b[0m: (26, 180, 40)"
     ]
    }
   ],
   "source": [
    "p = library[\"A\"][(26,180,40)]['Sim']\n",
    "p.indices"
   ]
  },
  {
   "cell_type": "code",
   "execution_count": null,
   "metadata": {
    "collapsed": true
   },
   "outputs": [],
   "source": [
    "from transforms3d.euler import euler2mat\n",
    "\n",
    "t = euler2mat(26,180,40, 'rzxz')\n",
    "np.matmul(t,[0,0,1])"
   ]
  },
  {
   "cell_type": "code",
   "execution_count": 20,
   "metadata": {},
   "outputs": [
    {
     "data": {
      "text/plain": [
       "729000"
      ]
     },
     "execution_count": 20,
     "metadata": {},
     "output_type": "execute_result"
    }
   ],
   "source": [
    "len(rot_list)"
   ]
  },
  {
   "cell_type": "code",
   "execution_count": null,
   "metadata": {
    "collapsed": true
   },
   "outputs": [],
   "source": []
  }
 ],
 "metadata": {
  "kernelspec": {
   "display_name": "Python 3",
   "language": "python",
   "name": "python3"
  },
  "language_info": {
   "codemirror_mode": {
    "name": "ipython",
    "version": 3
   },
   "file_extension": ".py",
   "mimetype": "text/x-python",
   "name": "python",
   "nbconvert_exporter": "python",
   "pygments_lexer": "ipython3",
   "version": "3.6.2"
  }
 },
 "nbformat": 4,
 "nbformat_minor": 2
}
