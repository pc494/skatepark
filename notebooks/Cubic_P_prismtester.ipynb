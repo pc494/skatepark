{
 "cells": [
  {
   "cell_type": "code",
   "execution_count": 1,
   "metadata": {
    "collapsed": true
   },
   "outputs": [],
   "source": [
    "%load_ext autoreload\n",
    "%autoreload 2"
   ]
  },
  {
   "cell_type": "code",
   "execution_count": 2,
   "metadata": {},
   "outputs": [
    {
     "name": "stderr",
     "output_type": "stream",
     "text": [
      "WARNING:hyperspy.api:The ipywidgets GUI elements are not available, probably because the hyperspy_gui_ipywidgets package is not installed.\n",
      "WARNING:hyperspy.api:The traitsui GUI elements are not available, probably because the hyperspy_gui_traitui package is not installed.\n"
     ]
    }
   ],
   "source": [
    "import pyxem as pxm\n",
    "import pymatgen as pmg\n",
    "from matplotlib import pyplot as plt\n",
    "import numpy as np\n",
    "from pyxem.utils.pyprismatic_io_utils import *\n",
    "from matplotlib import pyplot as plt\n",
    "import pyprismatic as pr\n",
    "%matplotlib tk"
   ]
  },
  {
   "cell_type": "code",
   "execution_count": 68,
   "metadata": {
    "collapsed": true
   },
   "outputs": [],
   "source": [
    "E = pmg.Element(\"Pt\")\n",
    "cubic_lattice = pmg.Lattice.cubic(5)\n",
    "Cubic_P = pmg.Structure.from_spacegroup(195,cubic_lattice, [E], [[0, 0, 0]])"
   ]
  },
  {
   "cell_type": "code",
   "execution_count": 5,
   "metadata": {
    "collapsed": true
   },
   "outputs": [],
   "source": [
    "ediff = pxm.ElectronDiffractionCalculator(300., 1/(40*2)) #energy and relrods\n",
    "kinematic_pattern = ediff.calculate_ed_data(Cubic_P,0.75) #max radius of RecipSpace to sample\n",
    "dpk=pxm.ElectronDiffraction(kinematic_pattern.as_signal(256,0.015,1.2,'qual')) #pixel, sigma, #calibration\n",
    "dpk.set_calibration(1.2/256)\n",
    "dpk.plot(cmap='viridis')"
   ]
  },
  {
   "cell_type": "code",
   "execution_count": 27,
   "metadata": {
    "collapsed": true
   },
   "outputs": [],
   "source": [
    "pxm.ElectronDiffractionCalculator?"
   ]
  },
  {
   "cell_type": "code",
   "execution_count": 69,
   "metadata": {
    "collapsed": true
   },
   "outputs": [],
   "source": [
    "meta_params = {}\n",
    "### Computational\n",
    "meta_params['save4DOutput'] = True\n",
    "meta_params['save3DOutput'] = False\n",
    "meta_params['sliceThickness'] = 1.0\n",
    "meta_params['algorithm']='multislice'\n",
    "### STEM\n",
    "delta = 0.0025/4/100\n",
    "meta_params['scanWindowXMin'] = 0.5-delta\n",
    "meta_params['scanWindowXMax'] = 0.5+delta\n",
    "meta_params['scanWindowYMin'] = 0.5-delta\n",
    "meta_params['scanWindowYMax'] = 0.5+delta\n",
    "### Experimental\n",
    "#meta_params['probeSemiangle'] = 0.01\n",
    "#meta_params['alphaBeamMax'] = 0.015\n",
    "meta_params['E0']=800e3\n",
    "### Sample\n",
    "meta_params['tileX']=10\n",
    "meta_params['tileY']=10\n",
    "meta_params['tileZ']=50 #1000 kills you\n",
    "### Unclear\n",
    "meta_params['realspacePixelSizeX']=0.1\n",
    "meta_params['realspacePixelSizeY']=0.1 #default is 0.1, smaller number more pixels\n",
    "\n",
    "\n",
    "import os\n",
    "os.remove('PP_input.XYZ')"
   ]
  },
  {
   "cell_type": "code",
   "execution_count": 70,
   "metadata": {},
   "outputs": [
    {
     "name": "stdout",
     "output_type": "stream",
     "text": [
      "{'save4DOutput': True, 'save3DOutput': False, 'sliceThickness': 1.0, 'algorithm': 'multislice', 'scanWindowXMin': 0.49999375, 'scanWindowXMax': 0.50000625, 'scanWindowYMin': 0.49999375, 'scanWindowYMax': 0.50000625, 'E0': 800000.0, 'tileX': 10, 'tileY': 10, 'tileZ': 50, 'realspacePixelSizeX': 0.1, 'realspacePixelSizeY': 0.1, 'filenameAtoms': 'PP_input.XYZ', 'filenameOutput': 'PP_output.mrc'}\n",
      "(1, 1, 96, 96)\n"
     ]
    },
    {
     "name": "stderr",
     "output_type": "stream",
     "text": [
      "/home/pc494/anaconda3/lib/python3.6/site-packages/pyxem-0.5-py3.6-linux-x86_64.egg/pyxem/diffraction_generator.py:165: UserWarning: This functionality is a work in progress \n",
      "  warnings.warn(\"This functionality is a work in progress \")\n"
     ]
    }
   ],
   "source": [
    "diff_dat_m = ediff.calculate_ed_data_dynamic(Cubic_P,delete_mode=False,prismatic_kwargs=meta_params)\n",
    "print(diff_dat_m.shape)"
   ]
  },
  {
   "cell_type": "code",
   "execution_count": 71,
   "metadata": {
    "collapsed": true
   },
   "outputs": [],
   "source": [
    "dp = pxm.ElectronDiffraction((diff_dat_m))\n",
    "dp.plot(cmap='viridis')\n",
    "#dp.isig[1000,500:1500].plot()"
   ]
  },
  {
   "cell_type": "code",
   "execution_count": 72,
   "metadata": {
    "collapsed": true
   },
   "outputs": [],
   "source": [
    "plt.close('all')"
   ]
  },
  {
   "cell_type": "code",
   "execution_count": 68,
   "metadata": {
    "collapsed": true
   },
   "outputs": [],
   "source": [
    "dp.set_calibration?"
   ]
  }
 ],
 "metadata": {
  "kernelspec": {
   "display_name": "Python 3",
   "language": "python",
   "name": "python3"
  },
  "language_info": {
   "codemirror_mode": {
    "name": "ipython",
    "version": 3
   },
   "file_extension": ".py",
   "mimetype": "text/x-python",
   "name": "python",
   "nbconvert_exporter": "python",
   "pygments_lexer": "ipython3",
   "version": "3.6.2"
  }
 },
 "nbformat": 4,
 "nbformat_minor": 2
}
