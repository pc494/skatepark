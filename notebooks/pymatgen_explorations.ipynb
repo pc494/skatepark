{
 "cells": [
  {
   "cell_type": "code",
   "execution_count": 32,
   "metadata": {},
   "outputs": [
    {
     "data": {
      "text/plain": [
       "Lattice\n",
       "    abc : 2.0 2.0 3.0\n",
       " angles : 90.0 90.0 119.99999999999999\n",
       " volume : 10.392304845413266\n",
       "      A : 2.0 0.0 1.2246467991473532e-16\n",
       "      B : -0.99999999999999944 1.7320508075688776 1.2246467991473532e-16\n",
       "      C : 0.0 0.0 3.0"
      ]
     },
     "execution_count": 32,
     "metadata": {},
     "output_type": "execute_result"
    }
   ],
   "source": [
    "import pymatgen as pmg\n",
    "import numpy as np\n",
    "from matplotlib import pyplot as plt\n",
    "\n",
    "Ga = pmg.Element(\"Ga\")\n",
    "N = pmg.Element(\"N\")\n",
    "\n",
    "cubic_lattice = pmg.Lattice.cubic(5)\n",
    "hexagonal_lattice = pmg.Lattice.hexagonal(2,3)\n",
    "\n",
    "cubic_lattice\n",
    "hexagonal_lattice"
   ]
  },
  {
   "cell_type": "code",
   "execution_count": 48,
   "metadata": {
    "collapsed": true
   },
   "outputs": [],
   "source": [
    "Cubic_I = pmg.Structure.from_spacegroup(\"I23\",cubic_lattice, [Ga], [[0, 0, 0]])\n",
    "Cubic_P = pmg.Structure.from_spacegroup(195,cubic_lattice, [Ga,Ga], [[0, 0, 0],[0.5,0.5,0.5]])"
   ]
  },
  {
   "cell_type": "code",
   "execution_count": 51,
   "metadata": {},
   "outputs": [
    {
     "name": "stdout",
     "output_type": "stream",
     "text": [
      "Full Formula (Ga2)\n",
      "Reduced Formula: Ga\n",
      "abc   :   5.000000   5.000000   5.000000\n",
      "angles:  90.000000  90.000000  90.000000\n",
      "Sites (2)\n",
      "  #  SP      a    b    c\n",
      "---  ----  ---  ---  ---\n",
      "  0  Ga    0    0    0\n",
      "  1  Ga    0.5  0.5  0.5\n",
      "Full Formula (Ga2)\n",
      "Reduced Formula: Ga\n",
      "abc   :   5.000000   5.000000   5.000000\n",
      "angles:  90.000000  90.000000  90.000000\n",
      "Sites (2)\n",
      "  #  SP      a    b    c\n",
      "---  ----  ---  ---  ---\n",
      "  0  Ga    0    0    0\n",
      "  1  Ga    0.5  0.5  0.5\n"
     ]
    },
    {
     "data": {
      "text/plain": [
       "True"
      ]
     },
     "execution_count": 51,
     "metadata": {},
     "output_type": "execute_result"
    }
   ],
   "source": [
    "print(Cubic_I)\n",
    "print(Cubic_P)\n",
    "Cubic_I == Cubic_P"
   ]
  },
  {
   "cell_type": "code",
   "execution_count": 56,
   "metadata": {},
   "outputs": [
    {
     "name": "stdout",
     "output_type": "stream",
     "text": [
      "[ 0.   1.5]\n"
     ]
    },
    {
     "data": {
      "image/png": "[encoded data removed]",
      "text/plain": [
       "<matplotlib.figure.Figure at 0x7f90404099b0>"
      ]
     },
     "metadata": {},
     "output_type": "display_data"
    },
    {
     "data": {
      "image/png": "[encoded data removed]",
      "text/plain": [
       "<matplotlib.figure.Figure at 0x7f9040744b38>"
      ]
     },
     "metadata": {},
     "output_type": "display_data"
    }
   ],
   "source": [
    "Hexagonal_P = pmg.Structure.from_spacegroup(168,hexagonal_lattice, [Ga], [[0, 0, 0]])\n",
    "delta = 0.001\n",
    "Hexagonal_P_ad = pmg.Structure.from_spacegroup(168,hexagonal_lattice, [Ga,Ga], [[0, 0, 0+delta],[2/3,1/3,1/2]])\n",
    "Hexagonal_P_ad.make_supercell([5,5,1],to_unit_cell=False)\n",
    "\n",
    "\n",
    "#print(Hexagonal_P_ad)\n",
    "d =Hexagonal_P_ad.as_dict()\n",
    "plan_view_points = []\n",
    "sp = []\n",
    "for x in d['sites']:\n",
    "    plan_view_points.append(np.abs((np.round(x['xyz'],2))))\n",
    "    sp.append(x['label']=='Ga')\n",
    "\n",
    "sp = np.asarray([float(x) for x in sp])\n",
    "pvp = np.asarray(plan_view_points)\n",
    "print(np.unique(pvp[:,2]))\n",
    "for layer in np.unique(pvp[:,2]):\n",
    "    pv_layer = pvp[pvp[:,2]==layer]\n",
    "    sp_layer = sp[pvp[:,2]==layer]\n",
    "    #print(sp_layer)\n",
    "    f = plt.figure()\n",
    "    ax = f.add_subplot(1, 1, 1)\n",
    "    ax.set_aspect(aspect='equal')\n",
    "    plt.title(str(layer))\n",
    "    plt.scatter(pv_layer[:,1],pv_layer[:,0],marker='x',c=sp_layer,cmap='jet')\n",
    "    plt.show()"
   ]
  },
  {
   "cell_type": "code",
   "execution_count": 55,
   "metadata": {
    "collapsed": true
   },
   "outputs": [],
   "source": [
    "Cubic_I.make_supercell?"
   ]
  },
  {
   "cell_type": "code",
   "execution_count": 38,
   "metadata": {
    "collapsed": true
   },
   "outputs": [],
   "source": [
    "u = 0.2\n",
    "structure = pmg.Structure.from_spacegroup(\"P6_3mc\",hexagonal_lattice, [Ga,N], [[0, 0, 0],[2/3,1/3,u]])"
   ]
  },
  {
   "cell_type": "code",
   "execution_count": 39,
   "metadata": {},
   "outputs": [
    {
     "data": {
      "text/plain": [
       "Structure Summary\n",
       "Lattice\n",
       "    abc : 2.0 2.0 3.0\n",
       " angles : 90.0 90.0 119.99999999999999\n",
       " volume : 10.392304845413266\n",
       "      A : 2.0 0.0 1.2246467991473532e-16\n",
       "      B : -0.99999999999999944 1.7320508075688776 1.2246467991473532e-16\n",
       "      C : 0.0 0.0 3.0\n",
       "PeriodicSite: Ga (0.0000, 0.0000, 0.0000) [0.0000, 0.0000, 0.0000]\n",
       "PeriodicSite: Ga (0.0000, 0.0000, 1.5000) [0.0000, 0.0000, 0.5000]\n",
       "PeriodicSite: N (1.0000, 0.5774, 0.6000) [0.6667, 0.3333, 0.2000]\n",
       "PeriodicSite: N (-0.0000, 1.1547, 2.1000) [0.3333, 0.6667, 0.7000]"
      ]
     },
     "execution_count": 39,
     "metadata": {},
     "output_type": "execute_result"
    }
   ],
   "source": [
    "structure"
   ]
  },
  {
   "cell_type": "code",
   "execution_count": 57,
   "metadata": {
    "collapsed": true
   },
   "outputs": [],
   "source": [
    "plt.close('all')"
   ]
  },
  {
   "cell_type": "code",
   "execution_count": null,
   "metadata": {
    "collapsed": true
   },
   "outputs": [],
   "source": []
  }
 ],
 "metadata": {
  "kernelspec": {
   "display_name": "Python 3",
   "language": "python",
   "name": "python3"
  },
  "language_info": {
   "codemirror_mode": {
    "name": "ipython",
    "version": 3
   },
   "file_extension": ".py",
   "mimetype": "text/x-python",
   "name": "python",
   "nbconvert_exporter": "python",
   "pygments_lexer": "ipython3",
   "version": "3.6.2"
  }
 },
 "nbformat": 4,
 "nbformat_minor": 2
}
