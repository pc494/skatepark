{
 "cells": [
  {
   "cell_type": "code",
   "execution_count": 1,
   "metadata": {},
   "outputs": [],
   "source": [
    "%load_ext autoreload\n",
    "%autoreload 2"
   ]
  },
  {
   "cell_type": "code",
   "execution_count": 5,
   "metadata": {},
   "outputs": [],
   "source": [
    "import pyxem as pxm\n",
    "import pymatgen as pmg\n",
    "from matplotlib import pyplot as plt\n",
    "import numpy as np\n",
    "from pyxem.utils.pyprismatic_io_utils import *\n",
    "from matplotlib import pyplot as plt\n",
    "import pyprismatic as pr\n",
    "%matplotlib tk"
   ]
  },
  {
   "cell_type": "code",
   "execution_count": 6,
   "metadata": {
    "collapsed": true
   },
   "outputs": [],
   "source": [
    "si = pmg.Element(\"Si\")\n",
    "lattice = pmg.Lattice.cubic(5.431)"
   ]
  },
  {
   "cell_type": "code",
   "execution_count": 7,
   "metadata": {
    "collapsed": true
   },
   "outputs": [],
   "source": [
    "silicon = pmg.Structure.from_spacegroup(\"Fd-3m\",lattice, [si], [[0, 0, 0]])\n",
    "ediff = pxm.ElectronDiffractionCalculator(300., 0.025)\n",
    "kinematic_pattern = ediff.calculate_ed_data(silicon,1.5)"
   ]
  },
  {
   "cell_type": "code",
   "execution_count": 8,
   "metadata": {
    "collapsed": true
   },
   "outputs": [],
   "source": [
    "dpk=pxm.ElectronDiffraction(kinematic_pattern.as_signal(256,0.05,1.2,'qual'))\n",
    "dpk.set_calibration(1.2/128)\n",
    "dpk.plot(cmap='viridis')"
   ]
  },
  {
   "cell_type": "code",
   "execution_count": 73,
   "metadata": {
    "collapsed": true
   },
   "outputs": [],
   "source": [
    "silicon = pmg.Structure.from_spacegroup(\"Fd-3m\",lattice, [si], [[0, 0, 0]])\n",
    "silicon.make_supercell([10,10,40]) #kinda annoyingly slow at 20,20,20\n",
    "meta_params = {}\n",
    "alpha_divider = 1\n",
    "probe_divider = 2\n",
    "### Computational\n",
    "meta_params['save4DOutput'] = True\n",
    "meta_params['save3DOutput'] = False\n",
    "### STEM\n",
    "delta = 0.0025/4\n",
    "meta_params['scanWindowXMin'] = 0.5-delta\n",
    "meta_params['scanWindowXMax'] = 0.5+delta\n",
    "meta_params['scanWindowYMin'] = 0.5-delta\n",
    "meta_params['scanWindowYMax'] = 0.5+delta\n",
    "### Experimental\n",
    "meta_params['alphaBeamMax'] = 0.024/alpha_divider\n",
    "meta_params['probeSemiangle'] = 0.02/probe_divider\n",
    "meta_params['E0']=300e3\n",
    "### Sample\n",
    "meta_params['tileX']=1\n",
    "meta_params['tileY']=1\n",
    "meta_params['tileZ']=1\n",
    "### Unclear\n",
    "meta_params['realspacePixelSizeX']=0.2\n",
    "meta_params['realspacePixelSizeY']=0.2\n",
    "\n",
    "\n",
    "import os\n",
    "os.remove('PP_input.XYZ')"
   ]
  },
  {
   "cell_type": "code",
   "execution_count": 74,
   "metadata": {},
   "outputs": [
    {
     "name": "stderr",
     "output_type": "stream",
     "text": [
      "/home/pc494/anaconda3/lib/python3.6/site-packages/pyxem-0.5-py3.6-linux-x86_64.egg/pyxem/diffraction_generator.py:165: UserWarning: This functionality is a work in progress \n",
      "  warnings.warn(\"This functionality is a work in progress \")\n"
     ]
    },
    {
     "name": "stdout",
     "output_type": "stream",
     "text": [
      "{'save4DOutput': True, 'save3DOutput': False, 'scanWindowXMin': 0.499375, 'scanWindowXMax': 0.500625, 'scanWindowYMin': 0.499375, 'scanWindowYMax': 0.500625, 'alphaBeamMax': 0.024, 'probeSemiangle': 0.01, 'E0': 300000.0, 'tileX': 1, 'tileY': 1, 'tileZ': 1, 'realspacePixelSizeX': 0.2, 'realspacePixelSizeY': 0.2, 'filenameAtoms': 'PP_input.XYZ', 'filenameOutput': 'PP_output.mrc'}\n"
     ]
    }
   ],
   "source": [
    "diff_dat_m = ediff.calculate_ed_data_dynamic(silicon,delete_mode=False,prismatic_kwargs=meta_params)"
   ]
  },
  {
   "cell_type": "code",
   "execution_count": 75,
   "metadata": {
    "collapsed": true
   },
   "outputs": [],
   "source": [
    "dp = pxm.ElectronDiffraction(diff_dat_m)"
   ]
  },
  {
   "cell_type": "code",
   "execution_count": 76,
   "metadata": {
    "collapsed": true
   },
   "outputs": [],
   "source": [
    "dp.plot(cmap='viridis')"
   ]
  },
  {
   "cell_type": "code",
   "execution_count": 56,
   "metadata": {
    "collapsed": true
   },
   "outputs": [],
   "source": [
    "plt.close('all')"
   ]
  },
  {
   "cell_type": "code",
   "execution_count": null,
   "metadata": {},
   "outputs": [],
   "source": [
    "plt.savefig(plt.imshow(dp.inav[0,0]))"
   ]
  },
  {
   "cell_type": "code",
   "execution_count": null,
   "metadata": {
    "collapsed": true
   },
   "outputs": [],
   "source": [
    "plt.figure()\n",
    "plt.imshow(dp.inav[0,0],cmap='viridis')\n",
    "plt.draw()\n",
    "plt.savefig('image.png')"
   ]
  },
  {
   "cell_type": "code",
   "execution_count": null,
   "metadata": {
    "collapsed": true
   },
   "outputs": [],
   "source": []
  }
 ],
 "metadata": {
  "kernelspec": {
   "display_name": "Python 3",
   "language": "python",
   "name": "python3"
  },
  "language_info": {
   "codemirror_mode": {
    "name": "ipython",
    "version": 3
   },
   "file_extension": ".py",
   "mimetype": "text/x-python",
   "name": "python",
   "nbconvert_exporter": "python",
   "pygments_lexer": "ipython3",
   "version": "3.6.2"
  }
 },
 "nbformat": 4,
 "nbformat_minor": 2
}
