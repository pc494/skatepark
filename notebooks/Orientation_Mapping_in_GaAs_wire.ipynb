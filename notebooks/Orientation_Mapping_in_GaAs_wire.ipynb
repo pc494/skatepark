{
 "cells": [
  {
   "cell_type": "code",
   "execution_count": 70,
   "metadata": {},
   "outputs": [
    {
     "name": "stdout",
     "output_type": "stream",
     "text": [
      "The autoreload extension is already loaded. To reload it, use:\n",
      "  %reload_ext autoreload\n"
     ]
    }
   ],
   "source": [
    "%load_ext autoreload\n",
    "%autoreload 2"
   ]
  },
  {
   "cell_type": "code",
   "execution_count": 71,
   "metadata": {},
   "outputs": [],
   "source": [
    "%matplotlib tk\n",
    "import pyxem as pxm\n",
    "import pymatgen as pmg\n",
    "import numpy as np\n",
    "import hyperspy.api as hs"
   ]
  },
  {
   "cell_type": "code",
   "execution_count": 72,
   "metadata": {
    "collapsed": true
   },
   "outputs": [],
   "source": [
    "fp = '/home/pc494/Documents/tutorials/pycrystem_examples/nanowire_precession.hdf5'"
   ]
  },
  {
   "cell_type": "markdown",
   "metadata": {},
   "source": [
    "Nanowire down (110) - nearest peaks are 111 then 002"
   ]
  },
  {
   "cell_type": "code",
   "execution_count": 73,
   "metadata": {},
   "outputs": [
    {
     "data": {
      "application/vnd.jupyter.widget-view+json": {
       "model_id": "d8bec1837e004c69b0734e8b9ea831fd",
       "version_major": 2,
       "version_minor": 0
      },
      "text/plain": [
       "A Jupyter Widget"
      ]
     },
     "metadata": {},
     "output_type": "display_data"
    }
   ],
   "source": [
    "dp = pxm.ElectronDiffraction(pxm.load(fp))\n",
    "dp.apply_affine_transformation(np.array([[0.99,0,0],\n",
    "                                         [0,0.69,0],\n",
    "                                         [0,0,1]]));"
   ]
  },
  {
   "cell_type": "code",
   "execution_count": 74,
   "metadata": {
    "collapsed": true
   },
   "outputs": [],
   "source": [
    "#dp.plot(cmap='gray_r')"
   ]
  },
  {
   "cell_type": "markdown",
   "metadata": {},
   "source": [
    "First you build your structure"
   ]
  },
  {
   "cell_type": "code",
   "execution_count": 76,
   "metadata": {
    "collapsed": true
   },
   "outputs": [],
   "source": [
    "Ga = pmg.Element(\"Ga\")\n",
    "As = pmg.Element(\"As\")\n",
    "lattice = pmg.Lattice.cubic(5.6535)"
   ]
  },
  {
   "cell_type": "code",
   "execution_count": 78,
   "metadata": {
    "collapsed": true
   },
   "outputs": [],
   "source": [
    "structure = pmg.Structure.from_spacegroup(\"F23\",lattice, [Ga,As], [[0, 0, 0],[0.25,0.25,0.25]])"
   ]
  },
  {
   "cell_type": "code",
   "execution_count": 77,
   "metadata": {
    "collapsed": true
   },
   "outputs": [],
   "source": [
    "recip_d_111 = np.sqrt((3/5.6535**2))"
   ]
  },
  {
   "cell_type": "markdown",
   "metadata": {},
   "source": [
    "Next you set up your microscope paramaters in order to generate the templates"
   ]
  },
  {
   "cell_type": "code",
   "execution_count": 79,
   "metadata": {
    "collapsed": true
   },
   "outputs": [],
   "source": [
    "edc = pxm.DiffractionGenerator(300, 5e-2)\n",
    "diff_gen = pxm.DiffractionLibraryGenerator(edc)"
   ]
  },
  {
   "cell_type": "markdown",
   "metadata": {},
   "source": [
    "Now you specify what is going into the simulation microscope, in terms of phase and oreintation"
   ]
  },
  {
   "cell_type": "code",
   "execution_count": 80,
   "metadata": {
    "collapsed": true
   },
   "outputs": [],
   "source": [
    "from pyxem.utils.sim_utils import equispaced_so3_grid"
   ]
  },
  {
   "cell_type": "code",
   "execution_count": 81,
   "metadata": {},
   "outputs": [
    {
     "name": "stderr",
     "output_type": "stream",
     "text": [
      "                                                    \r"
     ]
    }
   ],
   "source": [
    "rot_list = equispaced_so3_grid(90,180,90,5)\n",
    "struc_lib = dict()\n",
    "struc_lib[\"A\"] = (structure,rot_list)\n",
    "library = diff_gen.get_diffraction_library(struc_lib,\n",
    "                                            calibration=recip_d_111/11.4,\n",
    "                                            reciprocal_radius=0.75,\n",
    "                                            representation='euler')"
   ]
  },
  {
   "cell_type": "code",
   "execution_count": 82,
   "metadata": {
    "collapsed": true
   },
   "outputs": [],
   "source": [
    "dp = dp.inav[10:12,10:12]\n",
    "dp.set_calibration((recip_d_111/11.4))"
   ]
  },
  {
   "cell_type": "markdown",
   "metadata": {},
   "source": [
    "With your library built you are ready to tackle the experimental data"
   ]
  },
  {
   "cell_type": "code",
   "execution_count": 83,
   "metadata": {},
   "outputs": [
    {
     "data": {
      "application/vnd.jupyter.widget-view+json": {
       "model_id": "8f8913fd110b46828c0ff8c0eba78cf8",
       "version_major": 2,
       "version_minor": 0
      },
      "text/plain": [
       "A Jupyter Widget"
      ]
     },
     "metadata": {},
     "output_type": "display_data"
    }
   ],
   "source": [
    "from pyxem.indexation_generator import IndexationGenerator\n",
    "indexer = IndexationGenerator(dp, library)\n",
    "match_results = indexer.correlate()"
   ]
  },
  {
   "cell_type": "code",
   "execution_count": 84,
   "metadata": {
    "collapsed": true
   },
   "outputs": [],
   "source": [
    "bf = match_results.inav[1,0].data[0]"
   ]
  },
  {
   "cell_type": "code",
   "execution_count": 85,
   "metadata": {
    "collapsed": true
   },
   "outputs": [],
   "source": [
    "pattern = library[\"A\"][bf[1],bf[2],bf[3]]"
   ]
  },
  {
   "cell_type": "code",
   "execution_count": 86,
   "metadata": {},
   "outputs": [
    {
     "data": {
      "text/plain": [
       "array([[-4.,  0.,  0.],\n",
       "       [-3., -1., -1.],\n",
       "       [-3.,  1.,  1.],\n",
       "       [-2., -2., -2.],\n",
       "       [-2.,  0.,  0.],\n",
       "       [-2.,  2.,  2.],\n",
       "       [-1., -1., -1.],\n",
       "       [-1.,  1.,  1.],\n",
       "       [ 0., -2., -2.],\n",
       "       [ 0.,  0.,  0.],\n",
       "       [ 0.,  2.,  2.],\n",
       "       [ 1., -1., -1.],\n",
       "       [ 1.,  1.,  1.],\n",
       "       [ 2., -2., -2.],\n",
       "       [ 2.,  0.,  0.],\n",
       "       [ 2.,  2.,  2.],\n",
       "       [ 3., -1., -1.],\n",
       "       [ 3.,  1.,  1.],\n",
       "       [ 4.,  0.,  0.]])"
      ]
     },
     "execution_count": 86,
     "metadata": {},
     "output_type": "execute_result"
    }
   ],
   "source": [
    "pattern.indices"
   ]
  },
  {
   "cell_type": "code",
   "execution_count": 87,
   "metadata": {},
   "outputs": [
    {
     "data": {
      "application/vnd.jupyter.widget-view+json": {
       "model_id": "91fd82f3d4cb49e18018a531b012d141",
       "version_major": 2,
       "version_minor": 0
      },
      "text/plain": [
       "A Jupyter Widget"
      ]
     },
     "metadata": {},
     "output_type": "display_data"
    }
   ],
   "source": [
    "from pyxem.utils.sim_utils import peaks_from_best_template\n",
    "from pyxem.utils.plot import generate_marker_inputs_from_peaks\n",
    "\n",
    "peaks= match_results.map(peaks_from_best_template,phase=[\"A\"],library=library,inplace=False)"
   ]
  },
  {
   "cell_type": "code",
   "execution_count": 88,
   "metadata": {
    "collapsed": true
   },
   "outputs": [],
   "source": [
    "mmx,mmy = generate_marker_inputs_from_peaks(peaks)\n",
    "dp.plot(cmap='viridis')\n",
    "for mx,my in zip(mmx,mmy):\n",
    "    m = hs.markers.point(x=mx,y=my,color='red',marker='x')\n",
    "    dp.add_marker(m,plot_marker=True,permanent=False)"
   ]
  }
 ],
 "metadata": {
  "kernelspec": {
   "display_name": "Python 3",
   "language": "python",
   "name": "python3"
  },
  "language_info": {
   "codemirror_mode": {
    "name": "ipython",
    "version": 3
   },
   "file_extension": ".py",
   "mimetype": "text/x-python",
   "name": "python",
   "nbconvert_exporter": "python",
   "pygments_lexer": "ipython3",
   "version": "3.6.2"
  }
 },
 "nbformat": 4,
 "nbformat_minor": 2
}
