{
 "cells": [
  {
   "cell_type": "code",
   "execution_count": 2,
   "metadata": {},
   "outputs": [],
   "source": [
    "import numpy as np\n",
    "from pyxem.signals.diffraction_simulation import DiffractionSimulation\n",
    "\n",
    "from pyxem.utils.sim_utils import get_electron_wavelength,\\\n",
    "    get_kinematical_intensities\n",
    "import pymatgen as pmg"
   ]
  },
  {
   "cell_type": "code",
   "execution_count": 4,
   "metadata": {
    "collapsed": true
   },
   "outputs": [],
   "source": [
    "E = pmg.Element(\"Pt\")\n",
    "cubic_lattice = pmg.Lattice.cubic(5)\n",
    "structure = pmg.Structure.from_spacegroup(195,cubic_lattice, [E], [[0, 0, 0]])"
   ]
  },
  {
   "cell_type": "code",
   "execution_count": 18,
   "metadata": {
    "collapsed": true
   },
   "outputs": [],
   "source": [
    "Ga = pmg.Element(\"Ga\")\n",
    "As = pmg.Element(\"As\")\n",
    "lattice = pmg.Lattice.hexagonal(3.91,6.44)\n",
    "u = (1/8)\n",
    "structure = pmg.Structure.from_spacegroup(168,lattice, [Ga,Ga,As,As], [[0, 0, 0],[2/3,1/3,1/2],[0,0,0.5+u],[2/3,1/3,u]])"
   ]
  },
  {
   "cell_type": "code",
   "execution_count": 19,
   "metadata": {},
   "outputs": [],
   "source": [
    "# Specify variables used in calculation\n",
    "wavelength = 1\n",
    "max_excitation_error = 1\n",
    "debye_waller_factors = {}\n",
    "latt = structure.lattice\n",
    "reciprocal_radius = 1\n",
    "\n",
    "# Obtain crystallographic reciprocal lattice points within `max_r` and\n",
    "# g-vector magnitudes for intensity calculations.\n",
    "recip_latt = latt.reciprocal_lattice_crystallographic\n",
    "recip_pts, g_hkls = \\\n",
    "       recip_latt.get_points_in_sphere([[0, 0, 0]], [0, 0, 0],\n",
    "                                       reciprocal_radius,\n",
    "                                       zip_results=False)[:2]\n",
    "cartesian_coordinates = recip_latt.get_cartesian_coords(recip_pts)\n",
    "\n",
    "# Identify points intersecting the Ewald sphere within maximum\n",
    "# excitation error and store the magnitude of their excitation error.\n",
    "radius = 1 / wavelength\n",
    "r = np.sqrt(np.sum(np.square(cartesian_coordinates[:, :2]), axis=1))\n",
    "theta = np.arcsin(r / radius)\n",
    "z_sphere = radius * (1 - np.cos(theta))\n",
    "proximity = np.absolute(z_sphere - cartesian_coordinates[:, 2])\n",
    "intersection = proximity < max_excitation_error\n",
    "# Mask parameters corresponding to excited reflections.\n",
    "intersection_coordinates = cartesian_coordinates[intersection]\n",
    "intersection_indices = recip_pts[intersection]\n",
    "proximity = proximity[intersection]\n",
    "g_hkls = g_hkls[intersection]\n",
    "#Calculate diffracted intensities based on a kinematical model.\n",
    "intensities = get_kinematical_intensities(structure,\n",
    "                                          intersection_indices,\n",
    "                                          g_hkls,\n",
    "                                          proximity,\n",
    "                                          max_excitation_error,\n",
    "                                          debye_waller_factors)\n",
    "\n",
    "#Threshold peaks included in simulation based on minimum intensity.\n",
    "peak_mask = intensities > 1e-20\n",
    "intensities = intensities[peak_mask]\n",
    "intersection_coordinates = intersection_coordinates#[peak_mask]\n",
    "intersection_indices = intersection_indices#[peak_mask]"
   ]
  },
  {
   "cell_type": "code",
   "execution_count": 21,
   "metadata": {},
   "outputs": [
    {
     "data": {
      "text/plain": [
       "array([[-3.,  0., -2.],\n",
       "       [-3.,  0., -1.],\n",
       "       [-3.,  0.,  0.],\n",
       "       ..., \n",
       "       [ 3.,  0.,  0.],\n",
       "       [ 3.,  0.,  1.],\n",
       "       [ 3.,  0.,  2.]])"
      ]
     },
     "execution_count": 21,
     "metadata": {},
     "output_type": "execute_result"
    }
   ],
   "source": [
    "intersection_indices"
   ]
  },
  {
   "cell_type": "code",
   "execution_count": null,
   "metadata": {
    "collapsed": true
   },
   "outputs": [],
   "source": []
  }
 ],
 "metadata": {
  "kernelspec": {
   "display_name": "Python 3",
   "language": "python",
   "name": "python3"
  },
  "language_info": {
   "codemirror_mode": {
    "name": "ipython",
    "version": 3
   },
   "file_extension": ".py",
   "mimetype": "text/x-python",
   "name": "python",
   "nbconvert_exporter": "python",
   "pygments_lexer": "ipython3",
   "version": "3.6.2"
  }
 },
 "nbformat": 4,
 "nbformat_minor": 2
}
