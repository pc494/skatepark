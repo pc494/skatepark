{
 "cells": [
  {
   "cell_type": "markdown",
   "metadata": {},
   "source": [
    "# Pyxem orientation mapping tutorial\n",
    "pyXem (Python Crystallographic Electron Microscopy) is an open-source Python library for crystallographic electron microscopy. It builds on the tools for multi-dimensional data analysis provided by the HyperSpy library for treatment of experimental electron diffraction data and tools for atomic structure manipulation provided by the PyMatGen library.\n",
    "\n",
    "This tutorial will cover data loading, simple operations including cropping, background preparation and removal, saving ED patterns as .txt files as well as peak enhancement and orientation mapping."
   ]
  },
  {
   "cell_type": "markdown",
   "metadata": {},
   "source": [
    "### Authors:\n",
    "15/01/2018 Jędrzej Morzy\n",
    "    \n",
    "### Requirements:\n",
    "Pyxem,\n",
    "Hyperspy, \n",
    "pymatgen"
   ]
  },
  {
   "cell_type": "markdown",
   "metadata": {},
   "source": [
    "## 1. Initial imports and data loading"
   ]
  },
  {
   "cell_type": "code",
   "execution_count": 1,
   "metadata": {},
   "outputs": [
    {
     "name": "stderr",
     "output_type": "stream",
     "text": [
      "WARNING:hyperspy_gui_traitsui:The TkAgg matplotlib backend is not supported by the installed traitsui version and the ETS toolkit has been set to null. To set the ETS toolkit independently from the matplotlib backend, set it before importing matplotlib.\n",
      "WARNING:hyperspy_gui_traitsui:The traitsui GUI elements are not available.\n"
     ]
    }
   ],
   "source": [
    "%matplotlib tk\n",
    "import matplotlib.pyplot as plt\n",
    "import pyxem as pc\n",
    "import numpy as np\n",
    "import transforms3d\n",
    "from skimage.morphology import erosion\n",
    "from skimage.morphology import disk\n",
    "from pymatgen.transformations.standard_transformations import RotationTransformation\n",
    "\n",
    "#For pattern processing:\n",
    "from scipy.ndimage import gaussian_filter\n",
    "from skimage.filters import (threshold_sauvola, threshold_otsu)"
   ]
  },
  {
   "cell_type": "markdown",
   "metadata": {},
   "source": [
    "Load the data from file, preview"
   ]
  },
  {
   "cell_type": "code",
   "execution_count": 2,
   "metadata": {
    "collapsed": true
   },
   "outputs": [],
   "source": [
    "dp_all = pc.load('Data_files/nanowire_precession.hdf5')\n",
    "dp_all.set_calibration(0.035)"
   ]
  },
  {
   "cell_type": "code",
   "execution_count": 4,
   "metadata": {
    "collapsed": true
   },
   "outputs": [],
   "source": [
    "dp_all.plot()"
   ]
  },
  {
   "cell_type": "markdown",
   "metadata": {},
   "source": [
    "## 2. Cropping the data set\n",
    "Using a an interactive ROI (Region of Image) tool, choose the region to crop. Initial ROI is set to a 35x35 pixel region."
   ]
  },
  {
   "cell_type": "code",
   "execution_count": 3,
   "metadata": {
    "collapsed": true
   },
   "outputs": [],
   "source": [
    "roi = pc.roi.RectangularROI(left=10, right=230, top=650, bottom=962.5)\n",
    "dp_all.plot()\n",
    "dp=roi.interactive(dp_all)\n",
    "dp_all.set_calibration(0.035)\n",
    "dp.plot()"
   ]
  },
  {
   "cell_type": "markdown",
   "metadata": {},
   "source": [
    "It is possible to access last selected ROI details and view the cropped region if needed:"
   ]
  },
  {
   "cell_type": "code",
   "execution_count": null,
   "metadata": {
    "collapsed": true
   },
   "outputs": [],
   "source": [
    "roi"
   ]
  },
  {
   "cell_type": "code",
   "execution_count": 12,
   "metadata": {
    "collapsed": true
   },
   "outputs": [],
   "source": [
    "dp.plot()"
   ]
  },
  {
   "cell_type": "markdown",
   "metadata": {},
   "source": [
    "## 3. Saving a test ED pattern to file\n",
    "In the inav coordinates, choose which pattern you wish to save."
   ]
  },
  {
   "cell_type": "code",
   "execution_count": null,
   "metadata": {
    "collapsed": true
   },
   "outputs": [],
   "source": [
    "test_ed_pattern = dp2.inav[13,12].data"
   ]
  },
  {
   "cell_type": "code",
   "execution_count": null,
   "metadata": {
    "collapsed": true
   },
   "outputs": [],
   "source": [
    "np.savetxt('test_ed_pattern.txt', test_ed_pattern, delimiter = \"\\t\", newline=\"\\r\\n\")"
   ]
  },
  {
   "cell_type": "markdown",
   "metadata": {},
   "source": [
    "## 4. Pattern processing, peak enhancing"
   ]
  },
  {
   "cell_type": "markdown",
   "metadata": {},
   "source": [
    "This section allows for the improvement in later pattern matching by removal of background from the patterns and enhancing the peaks through gaussian filter kernel."
   ]
  },
  {
   "cell_type": "markdown",
   "metadata": {},
   "source": [
    "What size of diffraction pattern is needed? (in pixels)"
   ]
  },
  {
   "cell_type": "code",
   "execution_count": 4,
   "metadata": {
    "collapsed": true
   },
   "outputs": [],
   "source": [
    "size = 80"
   ]
  },
  {
   "cell_type": "markdown",
   "metadata": {},
   "source": [
    "### Definitions"
   ]
  },
  {
   "cell_type": "code",
   "execution_count": 5,
   "metadata": {
    "collapsed": true
   },
   "outputs": [],
   "source": [
    "def blur(a, sigma):\n",
    "    a = gaussian_filter(a, sigma = sigma, mode = 'mirror')\n",
    "    return a\n",
    "\n",
    "def enhance(a, sigma):\n",
    "    a2 = gaussian_filter(a, sigma = sigma, mode = 'constant', cval = 255)\n",
    "    a = a - a2\n",
    "    a[a < 0] = 0\n",
    "    a = np.round(255*(a / np.max(a)))\n",
    "    return a\n",
    "\n",
    "def blur_crop (img, size, sigma):\n",
    "    bl = gaussian_filter(img, sigma = sigma)\n",
    "    peak = np.max(bl)\n",
    "    centre_arr = np.where(bl == peak)\n",
    "    a = int(size/2)\n",
    "    startx = int(centre_arr[0][0] - a)\n",
    "    starty = int(centre_arr[1][0] - a)\n",
    "    return img[starty : starty+size, startx : startx+size]\n",
    "\n",
    "def bg_blur_crop (img, size, sigma, radius):\n",
    "    bl = gaussian_filter(img, sigma = sigma)\n",
    "    peak = np.max(bl)\n",
    "    centre_arr = np.where(bl == peak)\n",
    "    a = (size/2)\n",
    "    xc = centre_arr[0][0]\n",
    "    yc = centre_arr[1][0]\n",
    "    startx = int(xc - a)\n",
    "    starty = int(yc - a)\n",
    "    \n",
    "    h = size/2\n",
    "    # centre and radius of circle\n",
    "    # x and y coordinates per every pixel of the image\n",
    "    x, y = np.meshgrid(np.arange(144), np.arange(144))\n",
    "    # squared distance from the center of the circle\n",
    "    d2 = (x - xc)**2 + (y - yc)**2\n",
    "    # mask is True inside of the circle\n",
    "    mask = d2 > radius**2\n",
    "#    img = img*mask\n",
    "    return img[starty : starty+size, startx : startx+size]\n",
    "\n",
    "def pre_process(z, bg, size, sigma_blur, sigma_enhance, k, window_size):\n",
    "#     Good starting values:\n",
    "#     sigma_blur = 1.6\n",
    "#     sigma_enhance = 0.5\n",
    "#     threshold = 6.5\n",
    "#     window_size = 11\n",
    "#     k = 0.01\n",
    " #   image = z\n",
    "    image = blur_crop(z, size = size, sigma = 3)\n",
    "#    bg = blur_crop(bg, size = size) <- done beforehand, check above cells, remember about size to be the same as in image blur_crop\n",
    "    image = image - bg\n",
    "    for i in range (0,image.shape[0]):\n",
    "        for j in range (0,image.shape[1]):\n",
    "            if image[i,j]<0:\n",
    "                image[i,j]=0\n",
    "                        \n",
    "    image_blur = blur(image, sigma = sigma_blur)\n",
    "    image = enhance(image_blur, sigma = sigma_enhance)\n",
    "    blurred = blur(image, sigma = 3)\n",
    "    mask = blurred > 0.3\n",
    "    image = image*mask\n",
    "    thresh_sauvola = threshold_sauvola(image, window_size=window_size, k=k)\n",
    "    binary_sauvola = image > thresh_sauvola\n",
    "    binary_sauvola_blur = gaussian_filter(binary_sauvola, sigma = 0.25)\n",
    "    final = image*binary_sauvola_blur\n",
    "    for i in range (0,image.shape[0]):\n",
    "        for j in range (0,image.shape[1]):\n",
    "            if final[i,j]>10:\n",
    "                final[i,j]=10 \n",
    "    final = gaussian_filter(final, sigma = 1.5)\n",
    "\n",
    "    \n",
    "    return final"
   ]
  },
  {
   "cell_type": "markdown",
   "metadata": {},
   "source": [
    "#### Preparation of background:"
   ]
  },
  {
   "cell_type": "markdown",
   "metadata": {},
   "source": [
    "Crop just the vacuum area of the sample in order to create an average background pattern that will be subtracted from all of the patterns"
   ]
  },
  {
   "cell_type": "code",
   "execution_count": 6,
   "metadata": {
    "collapsed": true
   },
   "outputs": [],
   "source": [
    "roi2 = pc.roi.RectangularROI(left=10, right=50, top=1050, bottom=1212.5)\n",
    "dp_all.plot()\n",
    "dp_vac=roi2.interactive(dp_all)\n",
    "dp_vac.plot()"
   ]
  },
  {
   "cell_type": "markdown",
   "metadata": {},
   "source": [
    "Average the patterns in cropped region and plot them."
   ]
  },
  {
   "cell_type": "code",
   "execution_count": 7,
   "metadata": {
    "collapsed": true
   },
   "outputs": [],
   "source": [
    "dp_bg = dp_vac.mean((0,1))\n",
    "dp_bg.plot()"
   ]
  },
  {
   "cell_type": "code",
   "execution_count": 8,
   "metadata": {
    "collapsed": true
   },
   "outputs": [],
   "source": [
    "dp_bg_blurred = blur(dp_bg.data, sigma =2)\n",
    "imgplot = plt.imshow(dp_bg_blurred)"
   ]
  },
  {
   "cell_type": "code",
   "execution_count": 9,
   "metadata": {
    "collapsed": true
   },
   "outputs": [],
   "source": [
    "dp_bg2 = bg_blur_crop(dp_bg.data, size = size, sigma = 10, radius = 6.6)\n",
    "imgplot=plt.imshow(dp_bg2)"
   ]
  },
  {
   "cell_type": "markdown",
   "metadata": {},
   "source": [
    "#### Peak enhancement function\n",
    "TO Do: Work on a copied set of data, so they can be later compared. First look into the function itself for an explanation of how it works and what are the parameters needed."
   ]
  },
  {
   "cell_type": "code",
   "execution_count": 11,
   "metadata": {},
   "outputs": [
    {
     "data": {
      "application/vnd.jupyter.widget-view+json": {
       "model_id": "16482aa023bb43ef8df70c82945d6790",
       "version_major": 2,
       "version_minor": 0
      },
      "text/plain": [
       "A Jupyter Widget"
      ]
     },
     "metadata": {},
     "output_type": "display_data"
    },
    {
     "name": "stdout",
     "output_type": "stream",
     "text": [
      "\n"
     ]
    }
   ],
   "source": [
    "dp2 = dp.copy()\n",
    "dp2.set_calibration(0.035)\n",
    "dp2.map(pre_process, bg = dp_bg2, size = size, sigma_blur = 1.6, sigma_enhance = 6.5,k = 0.001, window_size = 11)"
   ]
  },
  {
   "cell_type": "markdown",
   "metadata": {},
   "source": [
    "Check how it went with the set parameters and compare with the original"
   ]
  },
  {
   "cell_type": "code",
   "execution_count": 12,
   "metadata": {
    "collapsed": true
   },
   "outputs": [],
   "source": [
    "dp2.plot()"
   ]
  },
  {
   "cell_type": "code",
   "execution_count": 19,
   "metadata": {
    "collapsed": true
   },
   "outputs": [],
   "source": [
    "dp.plot()"
   ]
  },
  {
   "cell_type": "markdown",
   "metadata": {},
   "source": [
    "## 5. Virtual dark field images"
   ]
  },
  {
   "cell_type": "markdown",
   "metadata": {},
   "source": [
    "It is possible to create virtual dark field (VDF) images from original data. It works by choosing a virtual aperture on the diffraction pattern and plotting the image using intensity from just the virtual aperture region for each pixel. "
   ]
  },
  {
   "cell_type": "code",
   "execution_count": null,
   "metadata": {
    "collapsed": true
   },
   "outputs": [],
   "source": [
    "circ = pc.roi.CircleROI(cx=0, cy=0, r=0.1)\n",
    "dp.plot_interactive_virtual_image(circ)"
   ]
  },
  {
   "cell_type": "markdown",
   "metadata": {},
   "source": [
    "If you want to save the image with current position of the circle:"
   ]
  },
  {
   "cell_type": "code",
   "execution_count": null,
   "metadata": {
    "collapsed": true
   },
   "outputs": [],
   "source": [
    "vdf=dp.get_virtual_image(circ)"
   ]
  },
  {
   "cell_type": "markdown",
   "metadata": {},
   "source": [
    "Save and load to/from file"
   ]
  },
  {
   "cell_type": "code",
   "execution_count": null,
   "metadata": {
    "collapsed": true
   },
   "outputs": [],
   "source": [
    "vdf=vdf.as_signal2D((0,1))\n",
    "vdf.change_dtype('float32')\n",
    "vdf.save('vdfeg.tif')"
   ]
  },
  {
   "cell_type": "code",
   "execution_count": null,
   "metadata": {
    "collapsed": true
   },
   "outputs": [],
   "source": [
    "vdfload = pc.load('vdfeg.tif')\n",
    "vdfload.plot()"
   ]
  },
  {
   "cell_type": "markdown",
   "metadata": {},
   "source": [
    "## 6. Pattern matching and orientation mapping"
   ]
  },
  {
   "cell_type": "markdown",
   "metadata": {},
   "source": [
    "Import structure information from a .cif file\n"
   ]
  },
  {
   "cell_type": "code",
   "execution_count": 13,
   "metadata": {
    "collapsed": true
   },
   "outputs": [],
   "source": [
    "structure = pc.Structure.from_file(\"Data_files/GaAs.cif\")"
   ]
  },
  {
   "cell_type": "markdown",
   "metadata": {},
   "source": [
    "Create a rotation list from file. The file itself is an array of unequivalent rotations expressed as sets of three Euler angles (Bunge ZXZ convention)."
   ]
  },
  {
   "cell_type": "code",
   "execution_count": 14,
   "metadata": {
    "collapsed": true
   },
   "outputs": [],
   "source": [
    "rot_array = np.loadtxt('m-3m_grid_euler')"
   ]
  },
  {
   "cell_type": "markdown",
   "metadata": {},
   "source": [
    "Create structure library based on imported .cif file and the rotations to later match the image with the library"
   ]
  },
  {
   "cell_type": "code",
   "execution_count": 16,
   "metadata": {},
   "outputs": [
    {
     "name": "stderr",
     "output_type": "stream",
     "text": [
      "                                                                                                                       \r"
     ]
    }
   ],
   "source": [
    "edc = pc.ElectronDiffractionCalculator(300, 0.025)\n",
    "diff_gen = pc.DiffractionLibraryGenerator(edc)\n",
    "struc_lib = dict()\n",
    "struc_lib[\"CsPbBr3\"] = (structure, rot_array)\n",
    "library = diff_gen.get_diffraction_library(struc_lib,\n",
    "                                            calibration=0.035,\n",
    "                                            reciprocal_radius=1.,\n",
    "                                            representation='euler')"
   ]
  },
  {
   "cell_type": "markdown",
   "metadata": {},
   "source": [
    "Perform correlation of each of the experimental diffraction patterns with every possible pattern (simulated, in the library). The function chooses 5 best results for each pixels and saves all the details in an array."
   ]
  },
  {
   "cell_type": "code",
   "execution_count": 23,
   "metadata": {
    "collapsed": true
   },
   "outputs": [],
   "source": [
    "from pycrystem.indexation_generator import IndexationGenerator"
   ]
  },
  {
   "cell_type": "code",
   "execution_count": 24,
   "metadata": {},
   "outputs": [
    {
     "data": {
      "text/plain": [
       "<pycrystem.indexation_generator.IndexationGenerator at 0x1e179d09198>"
      ]
     },
     "execution_count": 24,
     "metadata": {},
     "output_type": "execute_result"
    }
   ],
   "source": [
    "indexer = IndexationGenerator(dp2, library)"
   ]
  },
  {
   "cell_type": "code",
   "execution_count": 25,
   "metadata": {
    "scrolled": true
   },
   "outputs": [
    {
     "data": {
      "application/vnd.jupyter.widget-view+json": {
       "model_id": "ab42719de1fc485b992230806bed8f53",
       "version_major": 2,
       "version_minor": 0
      },
      "text/plain": [
       "A Jupyter Widget"
      ]
     },
     "metadata": {},
     "output_type": "display_data"
    },
    {
     "name": "stderr",
     "output_type": "stream",
     "text": [
      "C:\\Users\\jdkm2\\Anaconda3\\lib\\site-packages\\pycrystem-0.4-py3.6-win-amd64.egg\\pycrystem\\utils\\__init__.py:118: RuntimeWarning: invalid value encountered in double_scalars\n",
      "  np.sqrt(np.dot(intensities_2, intensities_2))\n"
     ]
    }
   ],
   "source": [
    "match_results = indexer.correlate(parallel = True)"
   ]
  },
  {
   "cell_type": "markdown",
   "metadata": {},
   "source": [
    "Resulting array has the following structure: data for each pixel of the image has columns: 1 = phase id column 2-4 = Euler angles in the zxz convention (in radians) column 5 = correlation scores associated with the orientation and phase (top 5 for each phase, maximum value = 1)"
   ]
  },
  {
   "cell_type": "markdown",
   "metadata": {},
   "source": [
    "Look into the details of patterns matched to at x=15, y=15 pixel:"
   ]
  },
  {
   "cell_type": "code",
   "execution_count": 26,
   "metadata": {},
   "outputs": [
    {
     "data": {
      "text/plain": [
       "array([[ 0.        ,  5.321473  ,  0.741765  ,  1.659844  ,  0.27681148],\n",
       "       [ 0.        ,  4.855189  ,  0.654498  ,  1.951595  ,  0.2740841 ],\n",
       "       [ 0.        ,  4.552104  ,  0.741765  ,  1.469282  ,  0.27320845],\n",
       "       [ 0.        ,  5.57793   ,  0.741765  ,  0.09439   ,  0.27318536],\n",
       "       [ 0.        ,  1.713596  ,  0.654498  ,  5.093188  ,  0.27317415]])"
      ]
     },
     "execution_count": 26,
     "metadata": {},
     "output_type": "execute_result"
    }
   ],
   "source": [
    "match_results.inav[15,15].data[0:5]"
   ]
  },
  {
   "cell_type": "markdown",
   "metadata": {},
   "source": [
    "Obtain a 'final' crystallographic map by returning the best matching phase and orientation for each pixel.\n",
    "\n",
    "The crystallographic map results are:\n",
    "\n",
    "column 1 = phase id column 2-4 = Euler angles column 5 = correlation score column 6 = difference between this correlation score and the 2nd best correlation score"
   ]
  },
  {
   "cell_type": "code",
   "execution_count": 29,
   "metadata": {},
   "outputs": [
    {
     "data": {
      "application/vnd.jupyter.widget-view+json": {
       "model_id": "ed6c059a67cc4f1a915741511c60f472",
       "version_major": 2,
       "version_minor": 0
      },
      "text/plain": [
       "A Jupyter Widget"
      ]
     },
     "metadata": {},
     "output_type": "display_data"
    },
    {
     "data": {
      "text/plain": [
       "array([  0.00000000e+00,   2.85599000e-01,   3.05433000e-01,\n",
       "         3.25266000e-01,   9.99853279e-01,   1.74873927e-05])"
      ]
     },
     "execution_count": 29,
     "metadata": {},
     "output_type": "execute_result"
    }
   ],
   "source": [
    "cryst_map = match_results.get_crystallographic_map()"
   ]
  },
  {
   "cell_type": "markdown",
   "metadata": {},
   "source": [
    "Get an orientation map.\n",
    "An alternative method with color-coded orientations can be done by MTEX MatLab library. For that matching results must be exported into a file that can be read by MTEX.\n",
    "\n",
    "http://mtex-toolbox.github.io/"
   ]
  },
  {
   "cell_type": "code",
   "execution_count": 31,
   "metadata": {},
   "outputs": [
    {
     "data": {
      "application/vnd.jupyter.widget-view+json": {
       "model_id": "844a85ab702a4c3997a6f5b991600326",
       "version_major": 2,
       "version_minor": 0
      },
      "text/plain": [
       "A Jupyter Widget"
      ]
     },
     "metadata": {},
     "output_type": "display_data"
    }
   ],
   "source": [
    "cryst_map.get_orientation_image().plot()"
   ]
  },
  {
   "cell_type": "markdown",
   "metadata": {},
   "source": [
    "## 7. Saving match results to file for MTEX"
   ]
  },
  {
   "cell_type": "markdown",
   "metadata": {},
   "source": [
    "Create an array where column 1 = phase id column, 2-4 = Euler angles column, 5 = correlation score column, 6 and 7 = x and y"
   ]
  },
  {
   "cell_type": "code",
   "execution_count": 32,
   "metadata": {
    "collapsed": true
   },
   "outputs": [],
   "source": [
    "results_array = np.zeros([0,7])\n",
    "for i in range (0, match_results.data.shape[1]):\n",
    "    for j in range (0, match_results.data.shape[0]):\n",
    "        newrow = match_results.inav[i,j].data[0,0:5]\n",
    "        newrow = np.append(newrow, [i,j])\n",
    "        results_array = np.vstack([results_array, newrow])"
   ]
  },
  {
   "cell_type": "markdown",
   "metadata": {},
   "source": [
    "Save to a txt file"
   ]
  },
  {
   "cell_type": "code",
   "execution_count": 33,
   "metadata": {
    "collapsed": true
   },
   "outputs": [],
   "source": [
    "np.savetxt('gaas_test2.txt', results_array, delimiter = \"\\t\", newline=\"\\r\\n\")"
   ]
  },
  {
   "cell_type": "markdown",
   "metadata": {},
   "source": [
    "## 8. Checking the quality of matching"
   ]
  },
  {
   "cell_type": "markdown",
   "metadata": {},
   "source": [
    "It is possible to check what pattern has been matched to specific pattern in the experimental data.\n",
    "X and Y are the coordinates of the pattern to be checked. Extracting the Euler angle rotation for the specific pattern:"
   ]
  },
  {
   "cell_type": "code",
   "execution_count": null,
   "metadata": {
    "collapsed": true
   },
   "outputs": [],
   "source": [
    "x = 5\n",
    "y = 3\n",
    "euler_angles = match_results.inav[x,y].data[0,1:4]"
   ]
  },
  {
   "cell_type": "markdown",
   "metadata": {},
   "source": [
    "Simulate the diffraction pattern using Euler angles specified above, extract a single pattern from the data"
   ]
  },
  {
   "cell_type": "code",
   "execution_count": 45,
   "metadata": {},
   "outputs": [
    {
     "name": "stderr",
     "output_type": "stream",
     "text": [
      "                                                                                                                       \r"
     ]
    }
   ],
   "source": [
    "rot = euler_angles\n",
    "edc = pc.ElectronDiffractionCalculator(300, 0.025)\n",
    "diff_gen = pc.DiffractionLibraryGenerator(edc)\n",
    "single_pattern_lib = dict()\n",
    "single_pattern_lib[\"GaAs\"] = (structure, rot)\n",
    "simulated_pattern= diff_gen.get_diffraction_library(single_pattern_lib,\n",
    "                                            calibration=0.032,\n",
    "                                            reciprocal_radius=1.,\n",
    "                                            representation='euler')\n",
    "exp_pattern = dp2.inav[13,12].data"
   ]
  },
  {
   "cell_type": "code",
   "execution_count": 46,
   "metadata": {
    "collapsed": true
   },
   "outputs": [],
   "source": [
    "library_test.plot()\n",
    "exp_pattern.plot()"
   ]
  }
 ],
 "metadata": {
  "kernelspec": {
   "display_name": "Python 3",
   "language": "python",
   "name": "python3"
  },
  "language_info": {
   "codemirror_mode": {
    "name": "ipython",
    "version": 3
   },
   "file_extension": ".py",
   "mimetype": "text/x-python",
   "name": "python",
   "nbconvert_exporter": "python",
   "pygments_lexer": "ipython3",
   "version": "3.6.2"
  },
  "widgets": {
   "state": {
    "0133d6a614574f118f433451b44295a6": {
     "views": []
    },
    "0653579fd05c4de39c5dadbac98cc68c": {
     "views": []
    },
    "091900d0377e4ea88b90f14c8e06d31e": {
     "views": []
    },
    "0cece3b638004f7d9bf9c309ed581797": {
     "views": []
    },
    "0e0037bc9110406d96104cd13effd55e": {
     "views": []
    },
    "0fca47d3217c4cc08786870bca967d1d": {
     "views": [
      {
       "cell_index": 5
      }
     ]
    },
    "13f865accb874fa493520754767a438d": {
     "views": []
    },
    "1a85a05b25b0459a9aa57b83ddc5b6ae": {
     "views": []
    },
    "1f47c282ab70447fb8634937a7834e3d": {
     "views": [
      {
       "cell_index": 4
      }
     ]
    },
    "3220793566d94fa8a6de333cc2241b39": {
     "views": []
    },
    "4433505ea76e48e0a86673da9daa56e9": {
     "views": []
    },
    "4e5fe9826f6d4a86b3ccbb78d2c13959": {
     "views": []
    },
    "4eb1c9640c0048c19bffc2d528f1c4da": {
     "views": []
    },
    "501aeaccb9564ffd9bda71208e28088e": {
     "views": []
    },
    "5887b78e773a4078ae92772a6b0ae71a": {
     "views": []
    },
    "5fb1286423104a87bdde9ea2878a0b75": {
     "views": []
    },
    "74c4681c221e4650b16ceb314aec2cbe": {
     "views": []
    },
    "7c86c4e7919a4c6d8bd0e8e0d4842101": {
     "views": []
    },
    "7ddf9de6afed471cbf03adc4f469f4fa": {
     "views": []
    },
    "8405c40243bb4d4c9910f57f4261c78f": {
     "views": []
    },
    "8910b7c49d304e02a38a0b921a8f971c": {
     "views": [
      {
       "cell_index": 2
      }
     ]
    },
    "8a246a88b9864f749bbf2477000bf763": {
     "views": []
    },
    "9246bd9c3d5b4712a77ae595299d6597": {
     "views": []
    },
    "af43d353b0b6458ea1661e8fcc8dea81": {
     "views": []
    },
    "b37b38d5ba1f4031aaa1e7d6d2e09a42": {
     "views": []
    },
    "c4a7b0f408a64cfea35f0ca1e4592a74": {
     "views": []
    },
    "cf015c4eb35145ed9b2bf899c2dec145": {
     "views": []
    },
    "cff481c64db5442dabae39b32504a9aa": {
     "views": []
    },
    "d5b89ab373b9460eb7415101413270fb": {
     "views": []
    },
    "fe598004c22443b49302a2cbda671df0": {
     "views": []
    }
   },
   "version": "1.1.2"
  }
 },
 "nbformat": 4,
 "nbformat_minor": 1
}
