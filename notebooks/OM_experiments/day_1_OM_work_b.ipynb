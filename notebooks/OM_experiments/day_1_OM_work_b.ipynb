{
 "cells": [
  {
   "cell_type": "code",
   "execution_count": 68,
   "metadata": {},
   "outputs": [
    {
     "name": "stdout",
     "output_type": "stream",
     "text": [
      "The autoreload extension is already loaded. To reload it, use:\n",
      "  %reload_ext autoreload\n"
     ]
    }
   ],
   "source": [
    "%load_ext autoreload\n",
    "%autoreload 2"
   ]
  },
  {
   "cell_type": "markdown",
   "metadata": {},
   "source": [
    "If you want to get something done you should start from the start. This is Day 1 of orientation microscopy. We create a fake pattern. We create a library that contains the fake pattern, and some other patterns. We check the process works as expected. This is for multiple DP's now"
   ]
  },
  {
   "cell_type": "code",
   "execution_count": 69,
   "metadata": {},
   "outputs": [],
   "source": [
    "%matplotlib tk\n",
    "import numpy as np\n",
    "import pyxem as pxm\n",
    "from matplotlib import pyplot as plt\n",
    "import hyperspy.api as hs"
   ]
  },
  {
   "cell_type": "code",
   "execution_count": 70,
   "metadata": {
    "collapsed": true
   },
   "outputs": [],
   "source": [
    "from pyxem.diffraction_generator import DiffractionSimulation\n",
    "from pyxem.indexation_generator import IndexationGenerator\n",
    "from pyxem.utils.sim_utils import peaks_from_best_template\n",
    "from pyxem.utils.plot import generate_marker_inputs_from_peaks"
   ]
  },
  {
   "cell_type": "markdown",
   "metadata": {},
   "source": [
    "Fake patterns get made"
   ]
  },
  {
   "cell_type": "code",
   "execution_count": 71,
   "metadata": {},
   "outputs": [],
   "source": [
    "dps = []\n",
    "dp_sim_list = []\n",
    "for alpha in [0,1,2,3]:\n",
    "    coords = (np.random.rand(5,2)-0.5)*2 #zero mean, range from -1 to +1\n",
    "    dp_sim = DiffractionSimulation(coordinates=coords,intensities=np.ones_like(coords[:,0]),calibration=1/72)\n",
    "    dp_sim_list.append(dp_sim)\n",
    "    dpx = dp_sim.as_signal(144,0.075,1).data\n",
    "    dps.append(dpx)\n",
    "\n",
    "dp = pxm.ElectronDiffraction([dps[0:2],dps[2:]])\n"
   ]
  },
  {
   "cell_type": "markdown",
   "metadata": {},
   "source": [
    "And a fake library"
   ]
  },
  {
   "cell_type": "code",
   "execution_count": 72,
   "metadata": {
    "collapsed": true
   },
   "outputs": [],
   "source": [
    "library = dict()\n",
    "library[\"Phase\"] = {}\n",
    "for alpha in np.arange(0,5,1):\n",
    "    rotation = (alpha,0,0)\n",
    "    if rotation[0] < 4:\n",
    "        library[\"Phase\"][rotation] = dp_sim_list[rotation[0]]\n",
    "    else:\n",
    "        local_cords = np.random.rand(5,2)\n",
    "        library[\"Phase\"][rotation] = DiffractionSimulation(coordinates=local_cords,intensities=np.ones_like(local_cords[:,0]))"
   ]
  },
  {
   "cell_type": "code",
   "execution_count": 73,
   "metadata": {
    "collapsed": true
   },
   "outputs": [],
   "source": [
    "indexer = IndexationGenerator(dp,library)"
   ]
  },
  {
   "cell_type": "code",
   "execution_count": 74,
   "metadata": {},
   "outputs": [
    {
     "data": {
      "application/vnd.jupyter.widget-view+json": {
       "model_id": "85333c80efac425b9aec11de688368da",
       "version_major": 2,
       "version_minor": 0
      },
      "text/plain": [
       "A Jupyter Widget"
      ]
     },
     "metadata": {},
     "output_type": "display_data"
    },
    {
     "name": "stdout",
     "output_type": "stream",
     "text": [
      "\n"
     ]
    }
   ],
   "source": [
    "match_results = indexer.correlate()"
   ]
  },
  {
   "cell_type": "code",
   "execution_count": 76,
   "metadata": {},
   "outputs": [
    {
     "data": {
      "application/vnd.jupyter.widget-view+json": {
       "model_id": "31b10d9de8ca413ba7b54cc4bfc9f5af",
       "version_major": 2,
       "version_minor": 0
      },
      "text/plain": [
       "A Jupyter Widget"
      ]
     },
     "metadata": {},
     "output_type": "display_data"
    },
    {
     "name": "stdout",
     "output_type": "stream",
     "text": [
      "\n"
     ]
    }
   ],
   "source": [
    "peaks = match_results.map(peaks_from_best_template,phase=[\"Phase\"],library=library,inplace=False)"
   ]
  },
  {
   "cell_type": "code",
   "execution_count": 78,
   "metadata": {
    "collapsed": true
   },
   "outputs": [],
   "source": [
    "mmx,mmy = generate_marker_inputs_from_peaks(peaks)\n",
    "dp.set_calibration(2/144)\n",
    "dp.plot(cmap='viridis')\n",
    "for mx,my in zip(mmx,mmy):\n",
    "    m = hs.markers.point(x=my,y=mx,color='red',marker='x')\n",
    "    dp.add_marker(m,plot_marker=True,permanent=True)"
   ]
  }
 ],
 "metadata": {
  "kernelspec": {
   "display_name": "Python 3",
   "language": "python",
   "name": "python3"
  },
  "language_info": {
   "codemirror_mode": {
    "name": "ipython",
    "version": 3
   },
   "file_extension": ".py",
   "mimetype": "text/x-python",
   "name": "python",
   "nbconvert_exporter": "python",
   "pygments_lexer": "ipython3",
   "version": "3.6.2"
  }
 },
 "nbformat": 4,
 "nbformat_minor": 2
}
