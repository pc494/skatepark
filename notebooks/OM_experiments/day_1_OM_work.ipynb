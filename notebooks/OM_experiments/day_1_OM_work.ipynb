{
 "cells": [
  {
   "cell_type": "markdown",
   "metadata": {},
   "source": [
    "If you want to get something done you should start from the start. This is Day 1 of orientation microscopy. We create a fake pattern. We create a library that contains the fake pattern, and some other patterns. We check the process works as expected. This is for a single DP though."
   ]
  },
  {
   "cell_type": "code",
   "execution_count": 1,
   "metadata": {},
   "outputs": [
    {
     "name": "stderr",
     "output_type": "stream",
     "text": [
      "WARNING:hyperspy.api:The ipywidgets GUI elements are not available, probably because the hyperspy_gui_ipywidgets package is not installed.\n",
      "WARNING:hyperspy.api:The traitsui GUI elements are not available, probably because the hyperspy_gui_traitui package is not installed.\n"
     ]
    }
   ],
   "source": [
    "import numpy as np\n",
    "import pyxem as pxm\n",
    "from matplotlib import pyplot as plt\n",
    "import hyperspy.api as hs"
   ]
  },
  {
   "cell_type": "code",
   "execution_count": 2,
   "metadata": {
    "collapsed": true
   },
   "outputs": [],
   "source": [
    "from pyxem.diffraction_generator import DiffractionSimulation\n",
    "from pyxem.indexation_generator import correlate_library"
   ]
  },
  {
   "cell_type": "code",
   "execution_count": 3,
   "metadata": {},
   "outputs": [
    {
     "data": {
      "image/png": "[encoded data removed]",
      "text/plain": [
       "<matplotlib.figure.Figure at 0x7f64fc638630>"
      ]
     },
     "metadata": {},
     "output_type": "display_data"
    },
    {
     "name": "stdout",
     "output_type": "stream",
     "text": [
      "0.001\n"
     ]
    }
   ],
   "source": [
    "coords = (np.random.rand(5,2)-0.5) #zero mean, range 2\n",
    "dp_sim = DiffractionSimulation(coordinates=coords,intensities=np.ones_like(coords[:,0]))\n",
    "dp = dp_sim.as_signal(144,0.03,1,mode='legacy') \n",
    "dp.data = dp.data+0.001 #issue raised about need for this.\n",
    "dp.plot(cmap='viridis')\n",
    "plt.show()\n",
    "print(np.min(dp.data))"
   ]
  },
  {
   "cell_type": "code",
   "execution_count": 4,
   "metadata": {
    "collapsed": true
   },
   "outputs": [],
   "source": [
    "### Build a fake library:\n",
    "\n",
    "library = dict()\n",
    "library[\"Phase\"] = {}\n",
    "for rotation in [(1,1,1),(0,0,0),(0,1,0)]:\n",
    "    if rotation == (1,1,1):\n",
    "        library[\"Phase\"][rotation] = dp_sim\n",
    "    else:\n",
    "        local_cords = np.random.rand(5,2)\n",
    "        library[\"Phase\"][rotation] = DiffractionSimulation(coordinates=local_cords,intensities=local_cords[:,0])"
   ]
  },
  {
   "cell_type": "code",
   "execution_count": 5,
   "metadata": {},
   "outputs": [
    {
     "data": {
      "text/plain": [
       "<pyxem.diffraction_generator.DiffractionSimulation at 0x7f64fc380ba8>"
      ]
     },
     "execution_count": 5,
     "metadata": {},
     "output_type": "execute_result"
    }
   ],
   "source": [
    "library['Phase'][(0,1,0)]"
   ]
  },
  {
   "cell_type": "code",
   "execution_count": 6,
   "metadata": {},
   "outputs": [
    {
     "data": {
      "text/plain": [
       "array([[  0.00000000e+00,   1.00000000e+00,   1.00000000e+00,\n",
       "          1.00000000e+00,   1.75011902e-04],\n",
       "       [  0.00000000e+00,   0.00000000e+00,   1.00000000e+00,\n",
       "          0.00000000e+00,   1.31471420e-04]])"
      ]
     },
     "execution_count": 6,
     "metadata": {},
     "output_type": "execute_result"
    }
   ],
   "source": [
    "correlate_library(dp.data, library,n_largest=2)"
   ]
  },
  {
   "cell_type": "code",
   "execution_count": 7,
   "metadata": {},
   "outputs": [
    {
     "data": {
      "image/png": "[encoded data removed]",
      "text/plain": [
       "<matplotlib.figure.Figure at 0x7f64fc386ef0>"
      ]
     },
     "metadata": {},
     "output_type": "display_data"
    }
   ],
   "source": [
    "dp.plot(cmap='viridis') \n",
    "for row in coords:\n",
    "    m = hs.markers.point(x=row[0],y=row[1],color='red',marker='x')\n",
    "    dp.add_marker(m,plot_marker=True,permanent=True)\n",
    "\n",
    "plt.show()"
   ]
  }
 ],
 "metadata": {
  "kernelspec": {
   "display_name": "Python 3",
   "language": "python",
   "name": "python3"
  },
  "language_info": {
   "codemirror_mode": {
    "name": "ipython",
    "version": 3
   },
   "file_extension": ".py",
   "mimetype": "text/x-python",
   "name": "python",
   "nbconvert_exporter": "python",
   "pygments_lexer": "ipython3",
   "version": "3.6.2"
  }
 },
 "nbformat": 4,
 "nbformat_minor": 2
}
